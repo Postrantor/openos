{
 "cells": [
  {
   "cell_type": "code",
   "execution_count": null,
   "id": "bc7262dc-6f95-4c11-a0b9-25dd489fddf8",
   "metadata": {
    "tags": []
   },
   "outputs": [],
   "source": []
  },
  {
   "cell_type": "code",
   "execution_count": 1,
   "id": "a2c84999-d6ac-4842-b945-410078941bc2",
   "metadata": {
    "tags": [
     "remove-cell",
     "remove-input",
     "hide-output"
    ]
   },
   "outputs": [],
   "source": [
    "%run -i ../python/common.py\n",
    "publish=False\n",
    "\n",
    "if not publish:\n",
    "    # cleanup any old state\n",
    "    bashCmds('''[[ -d lec3 ]] && rm -rf mydir\n",
    "    [[ -a myinfo ]] && rm myinfo''')\n",
    "else:\n",
    "    bashCmds('''rm -rf ~/*''')\n",
    "    \n",
    "closeAllOpenTtySessions()\n"
   ]
  },
  {
   "cell_type": "code",
   "execution_count": 2,
   "id": "f125e110-8237-4f8f-8559-179e1607bba4",
   "metadata": {
    "hide_input": true,
    "tags": [
     "remove-input"
    ]
   },
   "outputs": [],
   "source": [
    "appdir=os.getenv('HOME')\n",
    "appdir=appdir + \"/parser\"\n",
    "TermShellCmd(\"ls \")\n",
    "output = runTermCmd(\"[[ -d \" + appdir + \" ]] &&  rm -rf \"+ appdir + \n",
    "             \";cp -r ../src/parser \" + appdir)\n",
    "bash = BashSession(cwd=appdir)"
   ]
  },
  {
   "cell_type": "code",
   "execution_count": 3,
   "id": "352ca4b5-51ac-43c8-b535-7d6dee39dadc",
   "metadata": {
    "tags": [
     "remove-input",
     "remove-cell"
    ]
   },
   "outputs": [
    {
     "data": {
      "text/markdown": [
       "                                                                                                                        \n",
       "``` c                                                                                                                     \n",
       "0: #ifndef MYSHELL_PARSER_H\n",
       "1: #define MYSHELL_PARSER_H\n",
       "2: #include <stdbool.h>\n",
       "3: \n",
       "4: #define MAX_LINE_LENGTH 512\n",
       "5: #define MAX_ARGV_LENGTH (MAX_LINE_LENGTH / 2 + 1)\n",
       "6: \n",
       "7: struct pipeline_command {\n",
       "8:   char *command_args[MAX_ARGV_LENGTH]; // arg[0] is command, rest are arguments\n",
       "9:   char *redirect_in_path;  // NULL or Name of file to redirect in from \n",
       "10:   char *redirect_out_path; // NULL or Name of a file to redirect out to\n",
       "11:   struct pipeline_command *next; // next command in the pipeline. NULL if done \n",
       "12: };\n",
       "13: \n",
       "14: struct pipeline {\n",
       "15:   struct pipeline_command *commands; // first command\n",
       "16:   bool is_background; // TRUE if should execue in background\n",
       "17: };\n",
       "18: \n",
       "19: void pipeline_free(struct pipeline *pipeline);\n",
       "20: \n",
       "21: struct pipeline *pipeline_build(const char *command_line);\n",
       "22: \n",
       "23: #endif /* MYSHELL_PARSER_H */\n",
       "                                                                                                                         \n",
       "```                                                                                                                                      \n"
      ],
      "text/plain": [
       "<IPython.core.display.Markdown object>"
      ]
     },
     "metadata": {},
     "output_type": "display_data"
    }
   ],
   "source": [
    "# This cell is removed in the html, but displays the code listing in the Jupyter notebook. \n",
    "file = appdir + \"/myshell_parser.h\"\n",
    "text_file = open(file, \"r\")\n",
    "data = text_file.read()\n",
    "data = numberLines(data)\n",
    "text_file.close()                                                                                             \n",
    "md_text = '''                                                                                                                        \n",
    "``` ''' + \"c\" + '''                                                                                                                     \n",
    "''' + data + '''                                                                                                                         \n",
    "```                                                                                                                                      \n",
    "'''\n",
    "display (Markdown(md_text))\n",
    "#display (Markdown('<font size=\".5rem\">' + md_text +'</font>'))"
   ]
  },
  {
   "cell_type": "code",
   "execution_count": 4,
   "id": "2755b1f2-a94f-4e51-88b1-0bf380732ac4",
   "metadata": {
    "tags": [
     "remove-input",
     "remove-cell"
    ]
   },
   "outputs": [
    {
     "data": {
      "text/markdown": [
       "                                                                                                                        \n",
       "``` c                                                                                                                     \n",
       "0: #include \"myshell_parser.h\"\n",
       "1: #include \"stddef.h\"\n",
       "2: \n",
       "3: struct pipeline *pipeline_build(const char *command_line)\n",
       "4: {\n",
       "5: \t// TODO: Implement this function\n",
       "6: \treturn NULL;\n",
       "7: }\n",
       "8: \n",
       "9: void pipeline_free(struct pipeline *pipeline)\n",
       "10: {\n",
       "11: \t// TODO: Implement this function\n",
       "12: }\n",
       "                                                                                                                         \n",
       "```                                                                                                                                      \n"
      ],
      "text/plain": [
       "<IPython.core.display.Markdown object>"
      ]
     },
     "metadata": {},
     "output_type": "display_data"
    }
   ],
   "source": [
    "# This cell is removed in the html, but displays the code listing in the Jupyter notebook. \n",
    "file = appdir + \"/myshell_parser.c\"\n",
    "text_file = open(file, \"r\")\n",
    "data = text_file.read()\n",
    "data = numberLines(data)\n",
    "text_file.close()                                                                                             \n",
    "md_text = '''                                                                                                                        \n",
    "``` ''' + \"c\" + '''                                                                                                                     \n",
    "''' + data + '''                                                                                                                         \n",
    "```                                                                                                                                      \n",
    "'''\n",
    "display (Markdown(md_text))\n",
    "#display (Markdown('<font size=\".5rem\">' + md_text +'</font>'))"
   ]
  },
  {
   "cell_type": "code",
   "execution_count": 5,
   "id": "cca36cec-23b8-4090-a8e2-681278a185c6",
   "metadata": {
    "tags": [
     "remove-input",
     "remove-cell"
    ]
   },
   "outputs": [
    {
     "data": {
      "text/markdown": [
       "                                                                                                                        \n",
       "``` c                                                                                                                     \n",
       "0: #include \"myshell_parser.h\"\n",
       "1: #include <stdio.h>\n",
       "2: #include <stdlib.h>\n",
       "3: #include <string.h>\n",
       "4: #include <assert.h>\n",
       "5: \n",
       "6: int\n",
       "7: main(void)\n",
       "8: {\n",
       "9:   struct pipeline* my_pipeline = pipeline_build(\"ls\\n\");\n",
       "10:   \n",
       "11:   // Test that a pipeline was returned\n",
       "12:   assert(my_pipeline != NULL);\n",
       "13:   assert(!my_pipeline->is_background);\n",
       "14:   assert(my_pipeline->commands != NULL);\n",
       "15:   \n",
       "16:   // Test the parsed args\n",
       "17:   assert(strcmp(\"ls\", my_pipeline->commands->command_args[0]) == 0);\n",
       "18:   assert(my_pipeline->commands->command_args[1] == NULL);\n",
       "19:   \n",
       "20:   // Test the redirect state\n",
       "21:   assert(my_pipeline->commands->redirect_in_path == NULL);\n",
       "22:   assert(my_pipeline->commands->redirect_out_path == NULL);\n",
       "23:   \n",
       "24:   // Test that there is only one parsed command in the pipeline\n",
       "25:   assert(my_pipeline->commands->next == NULL);\n",
       "26:   \n",
       "27:   pipeline_free(my_pipeline);\n",
       "28: }\n",
       "                                                                                                                         \n",
       "```                                                                                                                                      \n"
      ],
      "text/plain": [
       "<IPython.core.display.Markdown object>"
      ]
     },
     "metadata": {},
     "output_type": "display_data"
    }
   ],
   "source": [
    "# This cell is removed in the html, but displays the code listing in the Jupyter notebook. \n",
    "file = appdir + \"/test_simple_input.c\"\n",
    "text_file = open(file, \"r\")\n",
    "data = text_file.read()\n",
    "data = numberLines(data)\n",
    "text_file.close()                                                                                             \n",
    "md_text = '''                                                                                                                        \n",
    "``` ''' + \"c\" + '''                                                                                                                     \n",
    "''' + data + '''                                                                                                                         \n",
    "```                                                                                                                                      \n",
    "'''\n",
    "display (Markdown(md_text))\n",
    "#display (Markdown('<font size=\".5rem\">' + md_text +'</font>'))"
   ]
  },
  {
   "cell_type": "code",
   "execution_count": 6,
   "id": "e33f7541-003a-4e11-ae27-aa8ec6d12b96",
   "metadata": {
    "tags": [
     "remove-input",
     "remove-cell"
    ]
   },
   "outputs": [
    {
     "data": {
      "text/markdown": [
       "                                                                                                                        \n",
       "``` c                                                                                                                     \n",
       "0: #include \"myshell_parser.h\"\n",
       "1: #include <stdio.h>\n",
       "2: #include <stdlib.h>\n",
       "3: #include <string.h>\n",
       "4: #include <assert.h>\n",
       "5: \n",
       "6: int\n",
       "7: main(void)\n",
       "8: {\n",
       "9:   struct pipeline* my_pipeline = pipeline_build(\"ls | cat\\n\");\n",
       "10:   \n",
       "11:   // Test that a pipeline was returned\n",
       "12:   assert(my_pipeline != NULL);\n",
       "13:   assert(!my_pipeline->is_background);\n",
       "14:   assert(my_pipeline->commands != NULL);\n",
       "15:   \n",
       "16:   // Test the parsed args\n",
       "17:   assert(strcmp(\"ls\", my_pipeline->commands->command_args[0]) == 0);\n",
       "18:   assert(my_pipeline->commands->command_args[1] == NULL);\n",
       "19:   \n",
       "20:   // Test the redirect state\n",
       "21:   assert(my_pipeline->commands->redirect_in_path == NULL);\n",
       "22:   assert(my_pipeline->commands->redirect_out_path == NULL);\n",
       "23:   \n",
       "24:   // Test that there are multiple parsed command in the pipeline\n",
       "25:   assert(my_pipeline->commands->next != NULL);\n",
       "26:   \n",
       "27:   // keep going... what should we be testign next?\n",
       "28:   pipeline_free(my_pipeline);\n",
       "29: }\n",
       "                                                                                                                         \n",
       "```                                                                                                                                      \n"
      ],
      "text/plain": [
       "<IPython.core.display.Markdown object>"
      ]
     },
     "metadata": {},
     "output_type": "display_data"
    }
   ],
   "source": [
    "# This cell is removed in the html, but displays the code listing in the Jupyter notebook. \n",
    "file = appdir + \"/test_simple_pipe.c\"\n",
    "text_file = open(file, \"r\")\n",
    "data = text_file.read()\n",
    "data = numberLines(data)\n",
    "text_file.close()                                                                                             \n",
    "md_text = '''                                                                                                                        \n",
    "``` ''' + \"c\" + '''                                                                                                                     \n",
    "''' + data + '''                                                                                                                         \n",
    "```                                                                                                                                      \n",
    "'''\n",
    "display (Markdown(md_text))\n",
    "#display (Markdown('<font size=\".5rem\">' + md_text +'</font>'))"
   ]
  },
  {
   "cell_type": "code",
   "execution_count": 7,
   "id": "1f4b9ee9-5622-485a-9705-e271c89ad4e0",
   "metadata": {
    "tags": [
     "remove-input"
    ]
   },
   "outputs": [
    {
     "data": {
      "application/vnd.jupyter.widget-view+json": {
       "model_id": "470142e637dc462e8a79d36281ce24a6",
       "version_major": 2,
       "version_minor": 0
      },
      "text/plain": [
       "Output(layout=Layout(border_bottom='1px solid black', border_left='1px solid black', border_right='1px solid b…"
      ]
     },
     "execution_count": 7,
     "metadata": {},
     "output_type": "execute_result"
    }
   ],
   "source": [
    "bash.run(\"make clean ; make\")"
   ]
  },
  {
   "cell_type": "code",
   "execution_count": null,
   "id": "8cae0926-14bc-40cf-9368-e24065cdb879",
   "metadata": {},
   "outputs": [],
   "source": []
  }
 ],
 "metadata": {
  "kernelspec": {
   "display_name": "Python 3 (ipykernel)",
   "language": "python",
   "name": "python3"
  },
  "language_info": {
   "codemirror_mode": {
    "name": "ipython",
    "version": 3
   },
   "file_extension": ".py",
   "mimetype": "text/x-python",
   "name": "python",
   "nbconvert_exporter": "python",
   "pygments_lexer": "ipython3",
   "version": "3.12.3"
  },
  "vscode": {
   "interpreter": {
    "hash": "f4e3c63a28d2eadc36e3bba0725a6dea388233dd4d06cf5319c6ed40df7370ac"
   }
  },
  "widgets": {
   "application/vnd.jupyter.widget-state+json": {
    "state": {
     "40a2b99b4af141969d9eacd33b168606": {
      "model_module": "@jupyter-widgets/output",
      "model_module_version": "1.0.0",
      "model_name": "OutputModel",
      "state": {
       "_dom_classes": [],
       "_model_module": "@jupyter-widgets/output",
       "_model_module_version": "1.0.0",
       "_model_name": "OutputModel",
       "_view_count": null,
       "_view_module": "@jupyter-widgets/output",
       "_view_module_version": "1.0.0",
       "_view_name": "OutputView",
       "layout": "IPY_MODEL_e541123768b54f21a63da5fa719d13a8",
       "msg_id": "",
       "outputs": [
        {
         "name": "stdout",
         "output_type": "stream",
         "text": "$ [[ -d lec3 ]] && rm -rf mydir\r\ntrantor@P7xxTM1:~$     [[ -a myinfo ]] && rm myinfo\r\ntrantor@P7xxTM1:~$ "
        }
       ],
       "tabbable": null,
       "tooltip": null
      }
     },
     "470142e637dc462e8a79d36281ce24a6": {
      "model_module": "@jupyter-widgets/output",
      "model_module_version": "1.0.0",
      "model_name": "OutputModel",
      "state": {
       "_dom_classes": [],
       "_model_module": "@jupyter-widgets/output",
       "_model_module_version": "1.0.0",
       "_model_name": "OutputModel",
       "_view_count": null,
       "_view_module": "@jupyter-widgets/output",
       "_view_module_version": "1.0.0",
       "_view_name": "OutputView",
       "layout": "IPY_MODEL_6f9fb17524ff4c2aa06e32c5dac5b1ea",
       "msg_id": "",
       "outputs": [
        {
         "name": "stdout",
         "output_type": "stream",
         "text": "$ make clean ; make\r\nmake[1]: Entering directory '/home/trantor/parser'\r\nrm -f *~ *.o ./test_simple_input ./test_simple_pipe \r\nmake[1]: Leaving directory '/home/trantor/parser'\r\nmake[1]: Entering directory '/home/trantor/parser'\r\ngcc -std=gnu99 -O0 -Wall -Werror -g  -fsanitize=undefined  -I.   -c -o test_simple_input.o test_simple_input.c\r\ngcc -std=gnu99 -O0 -Wall -Werror -g  -fsanitize=undefined  -I.   -c -o myshell_parser.o myshell_parser.c\r\ngcc -fsanitize=undefined -fsanitize=leak     test_simple_input.o myshell_parser.o   -o test_simple_input\r\ngcc -std=gnu99 -O0 -Wall -Werror -g  -fsanitize=undefined  -I.   -c -o test_simple_pipe.o test_simple_pipe.c\r\ngcc -fsanitize=undefined -fsanitize=leak     test_simple_pipe.o myshell_parser.o   -o test_simple_pipe\r\n/bin/bash run_tests.sh ./test_simple_input ./test_simple_pipe\r\nrun_tests.sh: line 3: $'\\r': command not found\r\nrun_tests.sh: line 7: $'\\r': command not found\r\nrun_tests.sh: line 9: syntax error near unexpected token `$'do\\r''\r\nrun_tests.sh: line 9: `do\r'\r\nmake[1]: *** [Makefile:29: check] Error 2\r\nmake[1]: Leaving directory '/home/trantor/parser'\r\ntrantor@P7xxTM1:~/parser$ "
        }
       ],
       "tabbable": null,
       "tooltip": null
      }
     },
     "6f9fb17524ff4c2aa06e32c5dac5b1ea": {
      "model_module": "@jupyter-widgets/base",
      "model_module_version": "2.0.0",
      "model_name": "LayoutModel",
      "state": {
       "_model_module": "@jupyter-widgets/base",
       "_model_module_version": "2.0.0",
       "_model_name": "LayoutModel",
       "_view_count": null,
       "_view_module": "@jupyter-widgets/base",
       "_view_module_version": "2.0.0",
       "_view_name": "LayoutView",
       "align_content": null,
       "align_items": null,
       "align_self": null,
       "border_bottom": "1px solid black",
       "border_left": "1px solid black",
       "border_right": "1px solid black",
       "border_top": "1px solid black",
       "bottom": null,
       "display": null,
       "flex": null,
       "flex_flow": null,
       "grid_area": null,
       "grid_auto_columns": null,
       "grid_auto_flow": null,
       "grid_auto_rows": null,
       "grid_column": null,
       "grid_gap": null,
       "grid_row": null,
       "grid_template_areas": null,
       "grid_template_columns": null,
       "grid_template_rows": null,
       "height": "100%",
       "justify_content": null,
       "justify_items": null,
       "left": null,
       "margin": null,
       "max_height": null,
       "max_width": null,
       "min_height": null,
       "min_width": null,
       "object_fit": null,
       "object_position": null,
       "order": null,
       "overflow": null,
       "padding": null,
       "right": null,
       "top": null,
       "visibility": null,
       "width": null
      }
     },
     "72bc6e9d47884305be6f289ee40c4c58": {
      "model_module": "@jupyter-widgets/base",
      "model_module_version": "2.0.0",
      "model_name": "LayoutModel",
      "state": {
       "_model_module": "@jupyter-widgets/base",
       "_model_module_version": "2.0.0",
       "_model_name": "LayoutModel",
       "_view_count": null,
       "_view_module": "@jupyter-widgets/base",
       "_view_module_version": "2.0.0",
       "_view_name": "LayoutView",
       "align_content": null,
       "align_items": null,
       "align_self": null,
       "border_bottom": "1px solid black",
       "border_left": "1px solid black",
       "border_right": "1px solid black",
       "border_top": "1px solid black",
       "bottom": null,
       "display": null,
       "flex": null,
       "flex_flow": null,
       "grid_area": null,
       "grid_auto_columns": null,
       "grid_auto_flow": null,
       "grid_auto_rows": null,
       "grid_column": null,
       "grid_gap": null,
       "grid_row": null,
       "grid_template_areas": null,
       "grid_template_columns": null,
       "grid_template_rows": null,
       "height": "100%",
       "justify_content": null,
       "justify_items": null,
       "left": null,
       "margin": null,
       "max_height": null,
       "max_width": null,
       "min_height": null,
       "min_width": null,
       "object_fit": null,
       "object_position": null,
       "order": null,
       "overflow": null,
       "padding": null,
       "right": null,
       "top": null,
       "visibility": null,
       "width": null
      }
     },
     "8b2bffe481d04cac904d936e4655b78c": {
      "model_module": "@jupyter-widgets/output",
      "model_module_version": "1.0.0",
      "model_name": "OutputModel",
      "state": {
       "_dom_classes": [],
       "_model_module": "@jupyter-widgets/output",
       "_model_module_version": "1.0.0",
       "_model_name": "OutputModel",
       "_view_count": null,
       "_view_module": "@jupyter-widgets/output",
       "_view_module_version": "1.0.0",
       "_view_name": "OutputView",
       "layout": "IPY_MODEL_72bc6e9d47884305be6f289ee40c4c58",
       "msg_id": "",
       "outputs": [
        {
         "name": "stdout",
         "output_type": "stream",
         "text": "$ ls \n\r: command not found\r\nbash: /home/trantor/.bashrc: line 6: syntax error near unexpected token `$'in\\r''\r\nbash: /home/trantor/.bashrc: line 6: `case $- in\r'\r\nOS-L01.css\t    intro.ipynb        structure.ipynb\t    tools-make.ipynb\r\nOS-L01.ipynb\t    other.ipynb        tools-c.ipynb\t    tools-shell.ipynb\r\nabstractions.ipynb  peter-other.ipynb  tools-editors.ipynb  tools-testing.ipynb\r\ncommon.ipynb\t    pref.ipynb\t       tools-gdb.ipynb\t    tools.ipynb\r\nhistory.ipynb\t    purpose.ipynb      tools-git.ipynb\r\n$ "
        }
       ],
       "tabbable": null,
       "tooltip": null
      }
     },
     "e541123768b54f21a63da5fa719d13a8": {
      "model_module": "@jupyter-widgets/base",
      "model_module_version": "2.0.0",
      "model_name": "LayoutModel",
      "state": {
       "_model_module": "@jupyter-widgets/base",
       "_model_module_version": "2.0.0",
       "_model_name": "LayoutModel",
       "_view_count": null,
       "_view_module": "@jupyter-widgets/base",
       "_view_module_version": "2.0.0",
       "_view_name": "LayoutView",
       "align_content": null,
       "align_items": null,
       "align_self": null,
       "border_bottom": "1px solid black",
       "border_left": "1px solid black",
       "border_right": "1px solid black",
       "border_top": "1px solid black",
       "bottom": null,
       "display": null,
       "flex": null,
       "flex_flow": null,
       "grid_area": null,
       "grid_auto_columns": null,
       "grid_auto_flow": null,
       "grid_auto_rows": null,
       "grid_column": null,
       "grid_gap": null,
       "grid_row": null,
       "grid_template_areas": null,
       "grid_template_columns": null,
       "grid_template_rows": null,
       "height": "100%",
       "justify_content": null,
       "justify_items": null,
       "left": null,
       "margin": null,
       "max_height": null,
       "max_width": null,
       "min_height": null,
       "min_width": null,
       "object_fit": null,
       "object_position": null,
       "order": null,
       "overflow": null,
       "padding": null,
       "right": null,
       "top": null,
       "visibility": null,
       "width": null
      }
     }
    },
    "version_major": 2,
    "version_minor": 0
   }
  }
 },
 "nbformat": 4,
 "nbformat_minor": 5
}