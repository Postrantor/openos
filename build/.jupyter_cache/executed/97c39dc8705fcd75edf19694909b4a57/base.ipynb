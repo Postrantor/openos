{
 "cells": [
  {
   "cell_type": "code",
   "execution_count": 1,
   "id": "4e9d1ba6-5329-49ef-bc84-627e0de1ba19",
   "metadata": {},
   "outputs": [
    {
     "data": {
      "text/html": [
       "<style type=\"text/css\">\n",
       "</style>\n",
       "<table id=\"T_8f343\">\n",
       "  <thead>\n",
       "    <tr>\n",
       "      <th class=\"blank level0\" >&nbsp;</th>\n",
       "      <th id=\"T_8f343_level0_col0\" class=\"col_heading level0 col0\" >STRINGS</th>\n",
       "      <th id=\"T_8f343_level0_col1\" class=\"col_heading level0 col1\" >INTS</th>\n",
       "      <th id=\"T_8f343_level0_col2\" class=\"col_heading level0 col2\" >FLOATS</th>\n",
       "    </tr>\n",
       "  </thead>\n",
       "  <tbody>\n",
       "    <tr>\n",
       "      <th id=\"T_8f343_level0_row0\" class=\"row_heading level0 row0\" >row 1</th>\n",
       "      <td id=\"T_8f343_row0_col0\" class=\"data row0 col0\" >Adam</td>\n",
       "      <td id=\"T_8f343_row0_col1\" class=\"data row0 col1\" >1</td>\n",
       "      <td id=\"T_8f343_row0_col2\" class=\"data row0 col2\" >1,123</td>\n",
       "    </tr>\n",
       "    <tr>\n",
       "      <th id=\"T_8f343_level0_row1\" class=\"row_heading level0 row1\" >row 2</th>\n",
       "      <td id=\"T_8f343_row1_col0\" class=\"data row1 col0\" >Mike</td>\n",
       "      <td id=\"T_8f343_row1_col1\" class=\"data row1 col1\" >3</td>\n",
       "      <td id=\"T_8f343_row1_col2\" class=\"data row1 col2\" >1.000,230</td>\n",
       "    </tr>\n",
       "  </tbody>\n",
       "</table>\n"
      ],
      "text/plain": [
       "<pandas.io.formats.style.Styler at 0x7f8b2f5936e0>"
      ]
     },
     "execution_count": 1,
     "metadata": {},
     "output_type": "execute_result"
    }
   ],
   "source": [
    "import pandas as pd\n",
    "import numpy as np\n",
    "import matplotlib as mpl\n",
    "\n",
    "df = pd.DataFrame({\n",
    "    \"strings\": [\"Adam\", \"Mike\"],\n",
    "    \"ints\": [1, 3],\n",
    "    \"floats\": [1.123, 1000.23]\n",
    "})\n",
    "df.style \\\n",
    "  .format(precision=3, thousands=\".\", decimal=\",\") \\\n",
    "  .format_index(str.upper, axis=1) \\\n",
    "  .relabel_index([\"row 1\", \"row 2\"], axis=0)"
   ]
  },
  {
   "cell_type": "code",
   "execution_count": null,
   "id": "79c04823-f147-49fe-b99b-db54e5257e08",
   "metadata": {
    "jupyter": {
     "source_hidden": true
    },
    "tags": []
   },
   "outputs": [],
   "source": []
  }
 ],
 "metadata": {
  "kernelspec": {
   "display_name": "Python 3 (ipykernel)",
   "language": "python",
   "name": "python3"
  },
  "language_info": {
   "codemirror_mode": {
    "name": "ipython",
    "version": 3
   },
   "file_extension": ".py",
   "mimetype": "text/x-python",
   "name": "python",
   "nbconvert_exporter": "python",
   "pygments_lexer": "ipython3",
   "version": "3.12.3"
  }
 },
 "nbformat": 4,
 "nbformat_minor": 5
}