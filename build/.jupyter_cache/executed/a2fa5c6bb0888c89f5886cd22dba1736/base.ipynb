{
 "cells": [
  {
   "cell_type": "code",
   "execution_count": 1,
   "id": "44083773-7831-4c1f-ac34-3f9fa2e5b288",
   "metadata": {
    "tags": [
     "remove-output",
     "remove-cell",
     "remove-input"
    ]
   },
   "outputs": [],
   "source": [
    "%run -i ../python/common.py\n",
    "publish=False\n",
    "\n",
    "if not publish:\n",
    "    # cleanup any old state\n",
    "    # demke - fill in as we see what state gets generated in this page.\n",
    "    bashCmds('''[[ -d mydir ]] && rm -rf mydir\n",
    "    #''')\n",
    "else:\n",
    "    bashCmds('''rm -rf ~/*''')\n",
    "    \n",
    "closeAllOpenTtySessions()\n",
    "\n"
   ]
  },
  {
   "cell_type": "code",
   "execution_count": 2,
   "id": "6eb3bc99-4c9f-41c8-8505-8011780d847e",
   "metadata": {
    "tags": [
     "remove-input"
    ]
   },
   "outputs": [],
   "source": [
    "appdir=os.getenv('HOME')\n",
    "appdir=appdir + \"/sync\"\n",
    "output = runTermCmd(\"[[ -d \" + appdir + \" ]] &&  rm -rf \"+ appdir + \n",
    "             \";cp -r ../src/sync \" + appdir)\n",
    "\n",
    "bash = BashSession(cwd=appdir)"
   ]
  },
  {
   "cell_type": "code",
   "execution_count": 3,
   "id": "052b0a35-1c0e-4b60-85dc-3c6ebe01622c",
   "metadata": {
    "tags": [
     "remove-output",
     "remove-cell",
     "remove-input"
    ]
   },
   "outputs": [
    {
     "data": {
      "text/markdown": [
       "<font size=\"1.2rem\"><b>livelock.c - Full source code for example of livelock due to open file limit.</b>\n",
       "<div style=\"width:100%; height:100%; font-size:inherit; overflow: auto;\" >\n",
       "\n",
       "\n",
       "``` \n",
       "0: #include <stdio.h>\n",
       "1: #include <stdlib.h>\n",
       "2: #include <unistd.h>\n",
       "3: #include <string.h>\n",
       "4: #include <errno.h>\n",
       "5: #include <sys/stat.h>\n",
       "6: #include <sys/types.h>\n",
       "7: #include <fcntl.h>\n",
       "8: #include <pthread.h>\n",
       "9: \n",
       "10: char template1[] = \"chk/in.XXXXXX\";\n",
       "11: char template2[] = \"chk/out.XXXXXX\"; \n",
       "12: \n",
       "13: struct args_s {\n",
       "14:     int id;\n",
       "15:     char *infile;\n",
       "16:     char *outfile;\n",
       "17: };\n",
       "18: \n",
       "19: /* Thread function -- livelocks if open file limit is too low. */\n",
       "20: void *threadfunc(void *arg)\n",
       "21: {\n",
       "22:     struct args_s *my_args = (struct args_s *)arg;\n",
       "23: \n",
       "24:     int fd_in;\n",
       "25:     int fd_out;\n",
       "26: \n",
       "27:     /* Open input file, retrying if there are too many files already open */\n",
       "28:     for ( ; ; ) {\n",
       "29:         fd_in = open(my_args->infile, O_RDONLY);\n",
       "30:         if (fd_in > 0) {\n",
       "31:             break;\n",
       "32:         }\n",
       "33:         if (errno != EMFILE) {\n",
       "34:             return NULL;\n",
       "35:         }\n",
       "36:     }\n",
       "37: \n",
       "38:     fprintf(stderr,\"Thread %d has input file %s open now.\\n\", \n",
       "39:             my_args->id, my_args->infile);\n",
       "40: \n",
       "41:     /* Open output file, retrying if there are too many files already open */\n",
       "42:     for ( ; ; ) {\n",
       "43:         fd_out = open(my_args->outfile, O_RDWR);\n",
       "44:         if (fd_out > 0) {\n",
       "45:             break;\n",
       "46:         }\n",
       "47:         if (errno != EMFILE)  {\n",
       "48:             close(fd_in);\n",
       "49:             return NULL;\n",
       "50:         }\n",
       "51:     }\n",
       "52:     fprintf(stderr,\"Thread %d has output file %s open now.\\n\",\n",
       "53:             my_args->id, my_args->outfile);\n",
       "54: \n",
       "55:     /* Sleep for a while to simulate time reading input and producing output */\n",
       "56:     sleep(1);\n",
       "57: \n",
       "58:     close(fd_in);\n",
       "59:     close(fd_out);\n",
       "60: \n",
       "61:     return NULL;\n",
       "62: }\n",
       "63: /* End of thread function */\n",
       "64: \n",
       "65: int main(int argc, char **argv)\n",
       "66: {\n",
       "67:     int num_created = 0;\n",
       "68:     int i;\n",
       "69:     pthread_t ids[16];\n",
       "70:     struct args_s *targs[16];\n",
       "71:     char *tmpname = (char *)malloc(20);\n",
       "72: \n",
       "73:     /* Create all the input and output files before creating any threads */\n",
       "74:     for (i=0; i < 16; i++) {\n",
       "75:         targs[i] = (struct args_s *)malloc(sizeof(struct args_s));\n",
       "76:         targs[i]->id = i;\n",
       "77:         memset(tmpname, 0, 20);\n",
       "78:         strncpy(tmpname, template1, 20);\n",
       "79:         int fd = mkstemp(tmpname);\n",
       "80:         if (fd < 0) {\n",
       "81:             perror(\"main thread mkstemp infile\");\n",
       "82:             break;\n",
       "83:         }\n",
       "84:         close(fd);\n",
       "85:         targs[i]->infile = (char *)malloc(strlen(tmpname)+1);\n",
       "86:         strncpy(targs[i]->infile, tmpname, strlen(tmpname)+1);\n",
       "87: \n",
       "88:         memset(tmpname, 0, 20);\n",
       "89:         strncpy(tmpname, template2, 20);\n",
       "90:         fd = mkstemp(tmpname);\n",
       "91:         if (fd < 0) {\n",
       "92:             perror(\"main thread mkstmp outfile\");\n",
       "93:             break;\n",
       "94:         }\n",
       "95:         close(fd);\n",
       "96:         targs[i]->outfile = (char *)malloc(strlen(tmpname)+1);\n",
       "97:         strncpy(targs[i]->outfile, tmpname, strlen(tmpname)+1);\n",
       "98:     }\n",
       "99: \n",
       "100:     for (i=0; i < 16; i++) {\n",
       "101:         /* Create the thread, passing input and output names */\n",
       "102:         pthread_create(&ids[i], NULL, threadfunc, (void *)targs[i]);\n",
       "103:     }\n",
       "104: \n",
       "105:     for (i = 0; i < 16; i++) {\n",
       "106:         pthread_join(ids[i], 0);\n",
       "107:     }\n",
       "108: \n",
       "109:         \n",
       "110: }\n",
       "111: \n",
       "\n",
       "```\n",
       "\n",
       "\n",
       "</div>\n",
       "</font>"
      ],
      "text/plain": [
       "<IPython.core.display.Markdown object>"
      ]
     },
     "metadata": {},
     "output_type": "display_data"
    }
   ],
   "source": [
    "# demke:\n",
    "# \n",
    "# This cell is removed in the html, but displays the code in the Jupyter notebook.\n",
    "#\n",
    "\n",
    "display(Markdown('<font size=\"1.2rem\">' + FileCodeBox(\n",
    "    file=appdir + \"/livelock.c\", \n",
    "    lang=\"\", \n",
    "    number=True,\n",
    "    title=\"<b>livelock.c - Full source code for example of livelock due to open file limit.</b>\",\n",
    "    h=\"100%\", \n",
    "    w=\"100%\"\n",
    ") + '</font>'))\n"
   ]
  }
 ],
 "metadata": {
  "kernelspec": {
   "display_name": "Python 3 (ipykernel)",
   "language": "python",
   "name": "python3"
  },
  "language_info": {
   "codemirror_mode": {
    "name": "ipython",
    "version": 3
   },
   "file_extension": ".py",
   "mimetype": "text/x-python",
   "name": "python",
   "nbconvert_exporter": "python",
   "pygments_lexer": "ipython3",
   "version": "3.12.3"
  },
  "widgets": {
   "application/vnd.jupyter.widget-state+json": {
    "state": {
     "215aa8467d1b4ffe84ec1ecff0dbc391": {
      "model_module": "@jupyter-widgets/base",
      "model_module_version": "2.0.0",
      "model_name": "LayoutModel",
      "state": {
       "_model_module": "@jupyter-widgets/base",
       "_model_module_version": "2.0.0",
       "_model_name": "LayoutModel",
       "_view_count": null,
       "_view_module": "@jupyter-widgets/base",
       "_view_module_version": "2.0.0",
       "_view_name": "LayoutView",
       "align_content": null,
       "align_items": null,
       "align_self": null,
       "border_bottom": "1px solid black",
       "border_left": "1px solid black",
       "border_right": "1px solid black",
       "border_top": "1px solid black",
       "bottom": null,
       "display": null,
       "flex": null,
       "flex_flow": null,
       "grid_area": null,
       "grid_auto_columns": null,
       "grid_auto_flow": null,
       "grid_auto_rows": null,
       "grid_column": null,
       "grid_gap": null,
       "grid_row": null,
       "grid_template_areas": null,
       "grid_template_columns": null,
       "grid_template_rows": null,
       "height": "100%",
       "justify_content": null,
       "justify_items": null,
       "left": null,
       "margin": null,
       "max_height": null,
       "max_width": null,
       "min_height": null,
       "min_width": null,
       "object_fit": null,
       "object_position": null,
       "order": null,
       "overflow": null,
       "padding": null,
       "right": null,
       "top": null,
       "visibility": null,
       "width": null
      }
     },
     "a4c6d96b12564f5d8eaf512352ef3518": {
      "model_module": "@jupyter-widgets/output",
      "model_module_version": "1.0.0",
      "model_name": "OutputModel",
      "state": {
       "_dom_classes": [],
       "_model_module": "@jupyter-widgets/output",
       "_model_module_version": "1.0.0",
       "_model_name": "OutputModel",
       "_view_count": null,
       "_view_module": "@jupyter-widgets/output",
       "_view_module_version": "1.0.0",
       "_view_name": "OutputView",
       "layout": "IPY_MODEL_215aa8467d1b4ffe84ec1ecff0dbc391",
       "msg_id": "",
       "outputs": [
        {
         "name": "stdout",
         "output_type": "stream",
         "text": "$ [[ -d mydir ]] && rm -rf mydir\r\ntrantor@P7xxTM1:~$     #\r\ntrantor@P7xxTM1:~$ "
        }
       ],
       "tabbable": null,
       "tooltip": null
      }
     }
    },
    "version_major": 2,
    "version_minor": 0
   }
  }
 },
 "nbformat": 4,
 "nbformat_minor": 5
}