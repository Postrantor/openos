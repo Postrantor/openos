{
 "cells": [
  {
   "cell_type": "markdown",
   "id": "aa8d92ad-7e3f-4a33-a4ff-e36145684bb1",
   "metadata": {},
   "source": [
    "# Out of date\n",
    "\n",
    "```{warning}\n",
    "Everything in this chapter is very out of date... FIXME\n",
    "```"
   ]
  },
  {
   "cell_type": "markdown",
   "id": "10ebb705-58b2-4a42-ab0b-727b076fa45e",
   "metadata": {
    "jp-MarkdownHeadingCollapsed": true,
    "tags": []
   },
   "source": [
    "## Set Up\n",
    "You will want to create your own forked repository from the [openos repository](https://github.com/OpenOSOrg/openos) . If you already have your own container/environment used to build and publish the book, then you can clone your forked repository there and skip the image creation section. Otherwise, clone it locally.\n",
    "```{note}\n",
    "There are three important folders that you will use: /containers, /content, /books. The containers folder will hold all of the configuration and the Dockerfile for your docker image. The content folder will hold all of the .ipynb files plus additiional files used to structure your book. The books folder contains the makefile to build and publish your book from the content folder.\n",
    "```"
   ]
  },
  {
   "cell_type": "markdown",
   "id": "40c13993-9007-40a9-8798-17e2c8860afd",
   "metadata": {
    "jp-MarkdownHeadingCollapsed": true,
    "tags": []
   },
   "source": [
    "(cont:contr:tutorial)=\n",
    "## Set Up\n",
    "You will want to create your own forked repository from the [openos repository](https://github.com/OpenOSOrg/openos) . If you already have your own container/environment used to build and publish the book, then you can clone your forked repository there and skip the image creation section. Otherwise, clone it locally.\n",
    "```{note}\n",
    "There are three important folders that you will use: /containers, /content, /books. The containers folder will hold all of the configuration and the Dockerfile for your docker image. The content folder will hold all of the .ipynb files plus additiional files used to structure your book. The books folder contains the makefile to build and publish your book from the content folder.\n",
    "```"
   ]
  },
  {
   "cell_type": "markdown",
   "id": "6a795e06-425d-4bca-a8bc-9bcfa64de31f",
   "metadata": {},
   "source": [
    "## Create Your Image\n",
    "Navigate to the /containers/container/base folder. This is where you can make any modifications to your image. Navigate back to /containers/container and type \"make build\" to build your image. This will take around 10-15 minutes, so make sure you have no syntax errors. Type \"make publish\" to publish to your image registry.\n",
    "```{warning}\n",
    "You will need to have the Docker daemon running in the background to build your image.\n",
    "```"
   ]
  },
  {
   "cell_type": "markdown",
   "id": "1e23423e-3cfc-471c-bd9b-61fae34781e0",
   "metadata": {},
   "source": [
    "## Build Your Book\n",
    "Navigate to the /content folder. Here is where all of your book content will be stored. Please visit the [Jupyter Book website](https://jupyterbook.org/en/stable/intro.html) to see a more detailed description of book format and markup syntax.\n",
    "\n",
    "Once your book is ready, In your container environment, navigate to /books/textbook and type \"make build\" to build the textbook. It will create a \\_build folder in the same directory containing all of the static assets needed for the website. Type \"make pub\" to publish to your GitHub Pages site.\n",
    "\n",
    "Note that you are publishing the book to your forked repository's GitHub Pages site. If you are happy with your changes, commit them and submit a pull request to add your changes to the original repository."
   ]
  },
  {
   "cell_type": "markdown",
   "id": "54345855-8f26-4c8f-b8c9-f38a10c3bf4e",
   "metadata": {
    "slideshow": {
     "slide_type": "subslide"
    },
    "tags": []
   },
   "source": [
    "(cont:contr:design)=\n",
    "## Design choices\n",
    "\n",
    "* All real content is in the “content” directory\n",
    "    * textbook_toc.yml - the table of contents for the book\n",
    "* The images (png, jpg, etc) should all be in their respective section folder in the images directory\n",
    "* The quizzes should all be in the quizzes directory\n",
    "* The source code being shown/ran should all be in the src directory\n",
    "* We are creating one subdirectory for each chapter that will contain:\n",
    "   - book materials; for now, its a single file for book; likely will eventually break into sections\n",
    "   - all corresponding lectures, referred to as lecture notes\n",
    "   - all corresponding lab materials\n",
    "   \n"
   ]
  },
  {
   "cell_type": "markdown",
   "id": "3608cd42-f703-467b-ba51-f46fddac8f00",
   "metadata": {},
   "source": [
    "### RISE presentations.\n",
    "\n",
    "#### Developing one\n",
    "\n",
    "- you can find an example with templates for slides in the \"content/contributing\" directory under L01-example notebook. \n",
    "- you should create a symbolic link to the lecture note css file (content/css/ln.css) with the name of your slide (e.g., L01-example), and commit it to the repo\n",
    "- to determin which cells are slides, versus notes, versus subslides... edit the tags\n",
    "\n",
    "#### Coverting google slide presentation\n",
    "- download google slidedeck as a powerpoint\n",
    "- open powerpoint in keynote\n",
    "- export to images, \n",
    "  - set to do an image for each stage of animations\n",
    "  - make sure png and transpartent backgrounds\n",
    "  - upload to book directory \"content/from-google-slides\"\n",
    "    - create new subdirectory (e.g., MM01)\n",
    "    - upload all images generated into that directory\n",
    "    - in directory, e.g., mm, type ```{code-block} ../python/mkln MM-L1 ../from-google-slides/MM01 ```\n",
    "    - you should now have a rise presentation titled MM-L1, where each image is a seperate slide\n",
    "  \n",
    "\n",
    "#### Running one\n",
    "- press lower case \"t\", in screen show for speaker notes; my experience is that only works if you start the note before going to full screen on the slide\n"
   ]
  }
 ],
 "metadata": {
  "kernelspec": {
   "display_name": "Python 3 (ipykernel)",
   "language": "python",
   "name": "python3"
  },
  "language_info": {
   "codemirror_mode": {
    "name": "ipython",
    "version": 3
   },
   "file_extension": ".py",
   "mimetype": "text/x-python",
   "name": "python",
   "nbconvert_exporter": "python",
   "pygments_lexer": "ipython3",
   "version": "3.10.5"
  }
 },
 "nbformat": 4,
 "nbformat_minor": 5
}