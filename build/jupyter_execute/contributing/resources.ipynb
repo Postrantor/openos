{
 "cells": [
  {
   "cell_type": "markdown",
   "id": "47304784-9a3a-47ff-86ac-1c45f94c8d8f",
   "metadata": {
    "jp-MarkdownHeadingCollapsed": true,
    "tags": []
   },
   "source": [
    "(cont:contr:links)=\n",
    "# Resources to look at\n",
    "\n",
    "\n",
    "- [jupyterbook: ](https://jupyterbook.org/en/stable/intro.html): look here for basic instructions on authoring; we are basically using jupyterbook in a prescriptive fashion for the static content.\n",
    "    - [cheat sheet for myst markdown](https://jupyterbook.org/en/stable/reference/cheatsheet.html)\n",
    "    - [modifying table of contents](https://jupyterbook.org/en/stable/structure/toc.html)\n",
    "    - [myst markdown](https://jupyterbook.org/en/stable/content/myst.html): we plan on authoring much of this with myst, although the current implementation of myst for jupyterbook is experimental.\n",
    "    - [tags on cells](https://jupyterbook.org/en/stable/content/metadata.html#jupyter-cell-tags): use this to, for example hide inputs\n",
    "- [jonathan notes on looking slides](https://jappavoo.github.io/UndertheCovers/lecturenotes/lnhowto.html)\n",
    "- [jonthans repo for under the covers](https://github.com/jappavoo/UndertheCovers)"
   ]
  }
 ],
 "metadata": {
  "kernelspec": {
   "display_name": "Python 3 (ipykernel)",
   "language": "python",
   "name": "python3"
  },
  "language_info": {
   "codemirror_mode": {
    "name": "ipython",
    "version": 3
   },
   "file_extension": ".py",
   "mimetype": "text/x-python",
   "name": "python",
   "nbconvert_exporter": "python",
   "pygments_lexer": "ipython3",
   "version": "3.10.5"
  }
 },
 "nbformat": 4,
 "nbformat_minor": 5
}