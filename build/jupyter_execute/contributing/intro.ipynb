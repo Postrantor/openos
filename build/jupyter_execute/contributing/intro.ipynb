{
 "cells": [
  {
   "cell_type": "markdown",
   "id": "f75ab9eb-73b1-4d46-9b8f-ee0222774400",
   "metadata": {},
   "source": [
    "# Contributing\n",
    "\n",
    "This chapter is going through major revision and is out of date."
   ]
  },
  {
   "cell_type": "code",
   "execution_count": null,
   "id": "7ac41792-2e6c-499f-8eaf-74ee9a44ba43",
   "metadata": {},
   "outputs": [],
   "source": []
  }
 ],
 "metadata": {
  "kernelspec": {
   "display_name": "Python 3 (ipykernel)",
   "language": "python",
   "name": "python3"
  },
  "language_info": {
   "codemirror_mode": {
    "name": "ipython",
    "version": 3
   },
   "file_extension": ".py",
   "mimetype": "text/x-python",
   "name": "python",
   "nbconvert_exporter": "python",
   "pygments_lexer": "ipython3",
   "version": "3.10.5"
  }
 },
 "nbformat": 4,
 "nbformat_minor": 5
}