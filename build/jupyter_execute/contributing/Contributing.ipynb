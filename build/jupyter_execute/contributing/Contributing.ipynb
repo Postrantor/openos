{
 "cells": [
  {
   "cell_type": "markdown",
   "id": "735ffbe9-30ea-4684-aa87-a36cc9877291",
   "metadata": {},
   "source": [
    "(cont:contr)=\n",
    "# Contributing\n",
    "\n",
    "To run the environment look at the [howto](misc:howto) guild.  This chapter is intended to be a guide to people collaborating with us on developing the open OS textbook.  We first provide [links](cont:contr:links) to background information on the tools used and describe some of our design [choices](cont:contr:design).  Next, we provide a [tutorial](cont:contr:tutorial) on how to get started with the environment if you are a collaborator of the authors, followed by information on how to [author](cont:contr:authoring) content.  Finally, we have a list of main [contributors](cont:contr:contributors). "
   ]
  },
  {
   "cell_type": "markdown",
   "id": "b1466935-d8c8-4d03-b9f5-d8bda5a4a3c2",
   "metadata": {},
   "source": [
    "# TAGS\n",
    "- you can add [tags](https://jupyterbook.org/en/stable/content/metadata.html#jupyter-cell-tags}) to cells, e.g., to make a slide a note, or to make a cell display in the margin.  Tags I am using so far are:\n",
    "   - margin\n",
    "   - remove-cell\n",
    "   - hide-input\n",
    "   - hide-output"
   ]
  },
  {
   "cell_type": "markdown",
   "id": "e31ca70c-8ee5-4a71-a5a1-9cd81b61761f",
   "metadata": {
    "tags": []
   },
   "source": [
    "# Useful tricks and stuff we should try\n",
    "\n",
    "- as add-on to google doc, can convert google doc to markdown using [docs to markdown](https://workspace.google.com/marketplace/app/docs_to_markdown/700168918607)\n",
    "- worth downloading google slides and then converting to markdown to get a start on slides and figures we want to include\n"
   ]
  },
  {
   "cell_type": "markdown",
   "id": "b1397284-8248-43fd-89d2-764fe6fd8062",
   "metadata": {
    "tags": [
     "remove-cell"
    ]
   },
   "source": [
    "(cont:contr:ref)=\n",
    "# References\n",
    "\n",
    "Stuff to steal from look at, pasting here\n",
    "\n",
    "- [examples of proc file system](https://jappavoo.github.io/UndertheCovers/textbook/unix/shellintro.html#standard-output-and-redirection)\n",
    "\n",
    "xv6 - simple OS from MIT - https://pdos.csail.mit.edu/6.828/2012/xv6.html\n",
    "\n",
    "book from peter\n",
    "\n",
    "book three easy steps or whatever, .. \n",
    "\n",
    "Style here from jonathan hiding content: [#](https://jappavoo.github.io/UndertheCovers/textbook/assembly/InfoRepI.html#gdb-display-and-set-registers)\n",
    "\n",
    "https://jappavoo.github.io/UndertheCovers/textbook/assembly/InfoRepI.html#gdb-display-and-set-registers\n",
    "\n",
    "Order in which to read book - \n",
    "\n",
    "- what is introductory content, what is detail... \n",
    "\n",
    "Figure out how to put in tags in book, so that the tags will reflect...\n",
    "\n",
    "Test if you can put in reading order in different ways, can you put in maps, or can you \n",
    "\n",
    "- several curated reading order\n",
    "\n",
    "We have asked you to take on faith, we want to give you to learn by trying...\n",
    "\n",
    "look at [    14. SLS Lecture 14 : Assembly using the OS   ](https://jappavoo.github.io/UndertheCovers/lecturenotes/assembly/L14.html#)\n",
    "\n",
    "hello world in assembly in 14.5.2\n",
    "\n",
    "experience perspective - top down, experiential, repeating multipel times... "
   ]
  },
  {
   "cell_type": "markdown",
   "id": "b265f5b8-56d6-4edc-ae33-25d0797c6755",
   "metadata": {
    "tags": [
     "remove-cell"
    ]
   },
   "source": [
    "```\n",
    "$ which date\n",
    "/usr/bin/date\n",
    "$ file /usr/bin/date \n",
    "/usr/bin/date: ELF 64-bit LSB shared object, x86-64, version 1 (SYSV), dynamically linked, interpreter /lib64/ld-linux-x86-64.so.2, BuildID[sha1]=731c2a7a56b2d07e67ac99b4960ec700b3faad68, for GNU/Linux 3.2.0, stripped\n",
    "```"
   ]
  },
  {
   "cell_type": "code",
   "execution_count": null,
   "id": "a0fd25f0-0b69-4f57-8708-ea6725262b9a",
   "metadata": {},
   "outputs": [],
   "source": []
  }
 ],
 "metadata": {
  "celltoolbar": "Slideshow",
  "hide_input": false,
  "kernelspec": {
   "display_name": "Python 3 (ipykernel)",
   "language": "python",
   "name": "python3"
  },
  "language_info": {
   "codemirror_mode": {
    "name": "ipython",
    "version": 3
   },
   "file_extension": ".py",
   "mimetype": "text/x-python",
   "name": "python",
   "nbconvert_exporter": "python",
   "pygments_lexer": "ipython3",
   "version": "3.10.5"
  }
 },
 "nbformat": 4,
 "nbformat_minor": 5
}