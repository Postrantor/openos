{
 "cells": [
  {
   "cell_type": "markdown",
   "metadata": {},
   "source": [
    "# Review"
   ]
  },
  {
   "cell_type": "markdown",
   "metadata": {},
   "source": [
    "## Common Concurrency and Synchronization System Calls\n",
    "\n",
    "```{list-table}\n",
    ":header-rows: 1\n",
    "\n",
    "* - Function\n",
    "  - Reference\n",
    "  - Brief Description\n",
    "* - pipe()\n",
    "  - [here](cont:gs:abstractions:pipes)\n",
    "  - Creates a pipe for bidirectional interprocess communication\n",
    "* - mmap()\n",
    "  - [here](cont:sync:sharing:shared_mem)\n",
    "  - Allocates a page of virtual memory\n",
    "* - pthread_mutex_init()\n",
    "  - man 3 pthread_mutex_init\n",
    "  - Creates a mutex\n",
    "* - pthread_mutex_lock()\n",
    "  - [here](cont:sync:criticalsection:locks)\n",
    "  - Locks a mutex\n",
    "* - pthread_mutex_unlock()\n",
    "  - [here](cont:sync:criticalsection:locks)\n",
    "  - Unlocks a mutex\n",
    "* - pthread_mutex_destroy()\n",
    "  - man 3 pthread_mutex_destroy\n",
    "  - Frees resources allocated to a mutex\n",
    "* - sched_yield(), sleep()\n",
    "  - [here](cont:sync:ordering)\n",
    "  - Call scheduler to switch threads\n",
    "* - wakeup(), wakeup_all()\n",
    "  - [here](cont:sync:ordering)\n",
    "  - Moves threads from the wait queue to the ready queue\n",
    "* - sem_init()\n",
    "  - [here](cont:sync:ordering:sema)\n",
    "  - Initialize a semaphore\n",
    "* - sem_wait()\n",
    "  - [here](cont:sync:ordering:sema)\n",
    "  - \n",
    "* - sem_post()\n",
    "  - [here](cont:sync:ordering:sema)\n",
    "  - "
   ]
  },
  {
   "cell_type": "markdown",
   "metadata": {},
   "source": [
    "## Review Questions"
   ]
  },
  {
   "cell_type": "code",
   "execution_count": 1,
   "metadata": {
    "tags": [
     "remove-input"
    ]
   },
   "outputs": [
    {
     "ename": "ModuleNotFoundError",
     "evalue": "No module named 'jupyterquiz'",
     "output_type": "error",
     "traceback": [
      "\u001b[0;31m---------------------------------------------------------------------------\u001b[0m",
      "\u001b[0;31mModuleNotFoundError\u001b[0m                       Traceback (most recent call last)",
      "Cell \u001b[0;32mIn[1], line 1\u001b[0m\n\u001b[0;32m----> 1\u001b[0m \u001b[38;5;28;01mfrom\u001b[39;00m \u001b[38;5;21;01mjupyterquiz\u001b[39;00m \u001b[38;5;28;01mimport\u001b[39;00m display_quiz\n\u001b[1;32m      2\u001b[0m \u001b[38;5;66;03m#display_quiz(\"../quizzes/sync.json\", colors=\"fdsp\")\u001b[39;00m\n\u001b[1;32m      3\u001b[0m display_quiz(\u001b[38;5;124m\"\u001b[39m\u001b[38;5;124m../quizzes/sync.json\u001b[39m\u001b[38;5;124m\"\u001b[39m)\n",
      "\u001b[0;31mModuleNotFoundError\u001b[0m: No module named 'jupyterquiz'"
     ]
    }
   ],
   "source": [
    "from jupyterquiz import display_quiz\n",
    "#display_quiz(\"../quizzes/sync.json\", colors=\"fdsp\")\n",
    "display_quiz(\"../quizzes/sync.json\")"
   ]
  }
 ],
 "metadata": {
  "kernelspec": {
   "display_name": "Python 3 (ipykernel)",
   "language": "python",
   "name": "python3"
  },
  "language_info": {
   "codemirror_mode": {
    "name": "ipython",
    "version": 3
   },
   "file_extension": ".py",
   "mimetype": "text/x-python",
   "name": "python",
   "nbconvert_exporter": "python",
   "pygments_lexer": "ipython3",
   "version": "3.12.3"
  },
  "vscode": {
   "interpreter": {
    "hash": "98590ff4fe04c8543246b2a01debd3de3c5ca9b666f43f1fa87d5110c692004c"
   }
  }
 },
 "nbformat": 4,
 "nbformat_minor": 4
}