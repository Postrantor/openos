{
 "cells": [
  {
   "cell_type": "markdown",
   "id": "3aa02f4f-c646-4ff7-aafc-ac31fc58069b",
   "metadata": {},
   "source": [
    "(cont:sync:advanced)=\n",
    "# Advanced Synchronization\n",
    "\n",
    "Many data structures are read-mostly, and the following chapter [discusses](cont:sync:readmostly) synchronization primitives optimized for accessing these data structures. We then discuss some of the challenges introduced by [modern hardware](cont:sync:hardware_challenge), and synchronization in the [Linux kernel](cont:sync:linux_locking). \n"
   ]
  }
 ],
 "metadata": {
  "kernelspec": {
   "display_name": "Python 3 (ipykernel)",
   "language": "python",
   "name": "python3"
  },
  "language_info": {
   "codemirror_mode": {
    "name": "ipython",
    "version": 3
   },
   "file_extension": ".py",
   "mimetype": "text/x-python",
   "name": "python",
   "nbconvert_exporter": "python",
   "pygments_lexer": "ipython3",
   "version": "3.10.5"
  }
 },
 "nbformat": 4,
 "nbformat_minor": 5
}