{
 "cells": [
  {
   "cell_type": "markdown",
   "id": "81d150c5-db02-43d2-9c35-dafff597b7ef",
   "metadata": {
    "tags": []
   },
   "source": [
    "(cont:gs:tools)=\n",
    "# What you should know\n",
    "\n",
    "This course is not intended to teach you computer architecture; while we will cover some of this, we strongly recommend that you take a computer architecture course before the operating system course. Also, this course is not intended to teach you how to program.  It assumes you have mastered programming skills including data structures, algorithms, the C programming language, make, git, debuggers, test driven development, how loaders work, shell scripting and other tools.\n",
    "\n",
    "```{sidebar} Suggested reading: \n",
    "\n",
    "The book [Under the Covers: The Secret Life of Software](https://jappavoo.github.io/UndertheCovers/textbook/intro_tb.html#under-the-covers-the-secret-life-of-software) is a companion book, and in a perfect world would be used for a system's course that is a prerequisite to an OS course based on this book.  We strongly recommend reviewing the following from that book: 1) [details on how the shell works, scripting... ](https://jappavoo.github.io/UndertheCovers/textbook/unix/shellintro.html#the-shell-part-i-having-an-ascii-conversation-with-the-os), 2)[make](https://jappavoo.github.io/UndertheCovers/textbook/unix/make.html#make), 3) [revision control and git](https://jappavoo.github.io/UndertheCovers/textbook/unix/gitintro.html#intro-to-git), 4) [assembly language programming](https://jappavoo.github.io/UndertheCovers/textbook/assembly/intro.html#introduction-assembly-programming), 5) [debugging and gdb](https://jappavoo.github.io/UndertheCovers/textbook/assembly/Debuggers.html#machine-debuggers-open-process-surgery), 6) [the c programming language](https://jappavoo.github.io/UndertheCovers/textbook/C/intro.html#introduction).\n",
    "```\n",
    "\n",
    "We have learned that while most students have learned programming skills and tools in previous courses, when writing the fairly simple code for prior courses many students got away without properly writing tests, using a debugger, or even writing a proper makefile.  We find that students that do poorly in this course, often have problems because they have not previously mastered the tools they will need.  Perhaps the best example of this is that many students try to solve the complicated operating system assignments by writing them and then trying to debug the whole thing with print statements.  While possible, it takes ten times as much work and is enormously more challenging for them than the students that write simple tests of each function as they develop their application and use a debugger to be able to quickly pinpoint problems.\n",
    "\n",
    "In the remainder of this chapter we discuss some of the tools and skills we expect you to have before the course starts and pointers to where to find more information.  Our focus is not to provide a tutorial, there are many better resources out there for that, but to explain *why* mastering a skill/tool is important, discuss what are some of the key capabilities of your tools, and providing you links to other materials.  Specific sections cover\n",
    "[the C programming language](cont:gs:tools:c),\n",
    "[unix shells](cont:gs:tools:shell), \n",
    "[editors](cont:gs:tools:editors), \n",
    "[make](cont:gs:tools:make), \n",
    "[how to test your code](cont:gs:tools:testing),\n",
    "[revision control/git](cont:gs:tools:git), and [debuggers/gdb](cont:gs:tools:gdb).\n",
    "\n",
    "\n",
    "<!---\n",
    "commented out earlier text\n",
    "do so because they don't really understand the tools they need to use, how to write proper tests so that they are solving simple problems, and avoid \n",
    "\n",
    "two things: you have learned this material in other courses, and you probably got away without really mastering it. For example, many of you have never really written a proper makefile to automate compilation, and most of you have debugged programs without mastering the debugger.\n",
    "\n",
    "\n",
    "Our focus in this book is on operating systems; not on how to be a systems programer.  To succeed in this course, we strongly advice covering the above material in more depth than we can as a small part of this course. \n",
    "\n",
    "\n",
    "Before taking this course, you should have good familiarity with:\n",
    "* [Unix shells:](cont:gs:tools:shell) The shell in Unix is the fundamental interface to the operating system, and understanding its capabilities is key to using the operating system, developing software, and most importantly for this course, understanding the core abstractions of operating systems.   \n",
    "* [Editors:](cont:gs:tools:editors) In this section we will introduce two terminal text editors that are frequently used on Unix machines. Learning to write code on these editors are essential without access to modern IDEs with GUIs like Visual Studio Code.\n",
    "* [Make:](cont:gs:tools:make) As the size of your projects increase, the need for automation via Makefiles also increase. You don't want to be typing the compile commands for all of your files or repetedly pressing the up arrow for previous compile commands after every change.\n",
    "* [Revision control/git:](cont:gs:tools:git) Version control is important to keep records of long-standing projects and to clearly communicate changes to other developers working on the same project.\n",
    "* [Debuggers/gdb:](cont:gs:tools:gdb) Print statements won't show everything going on in a process. In addition to printing variable values, GDB allows more powerful debugging tools such as changing the value of variables at run time, switching between threads, examining CPU registers, etc.\n",
    "* [The C programming language:](cont:gs:tools:c) It is the most used programming language for operating systems. By mastering the language, you will reduce the number of syntax errors, and can focus more on debugging the logical errors.\n",
    "* [How to test your code:](cont:gs:tools:testing) They are not only used to determine whether or not a program runs correctly, but also to test whether or not you understand how the system is supposed to work. They are really helpful for edge cases. Get rid of the \"guess and check\" mindset and write some tests.\n",
    "\n",
    "We can guarantee that you won't be successful if you do not master your tools because the programming assignments for operating system courses tend to me more demanding. We recommend [this book](https://jappavoo.github.io/UndertheCovers/textbook/unix/intro.html#operating-systems-and-unix) by Jonathan Appavoo as a more detailed reference on most of what we cover here.\n",
    "-->"
   ]
  },
  {
   "cell_type": "code",
   "execution_count": null,
   "id": "7767cd05-004a-4cc4-aa30-aa036e767c54",
   "metadata": {},
   "outputs": [],
   "source": []
  }
 ],
 "metadata": {
  "kernelspec": {
   "display_name": "Python 3 (ipykernel)",
   "language": "python",
   "name": "python3"
  },
  "language_info": {
   "codemirror_mode": {
    "name": "ipython",
    "version": 3
   },
   "file_extension": ".py",
   "mimetype": "text/x-python",
   "name": "python",
   "nbconvert_exporter": "python",
   "pygments_lexer": "ipython3",
   "version": "3.10.5"
  },
  "vscode": {
   "interpreter": {
    "hash": "f4e3c63a28d2eadc36e3bba0725a6dea388233dd4d06cf5319c6ed40df7370ac"
   }
  }
 },
 "nbformat": 4,
 "nbformat_minor": 5
}
