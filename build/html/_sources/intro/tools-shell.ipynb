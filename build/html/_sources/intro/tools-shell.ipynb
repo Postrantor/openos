{
 "cells": [
  {
   "cell_type": "code",
   "execution_count": null,
   "id": "215eb461-d2ac-44d2-b103-a79722fe6c8b",
   "metadata": {
    "tags": [
     "remove-cell",
     "remove-input",
     "hide-output"
    ]
   },
   "outputs": [],
   "source": [
    "%run -i ../python/common.py\n",
    "publish=False\n",
    "\n",
    "if not publish:\n",
    "    # cleanup any old state\n",
    "    bashCmds('''[[ -d lec3 ]] && rm -rf mydir\n",
    "    [[ -a myinfo ]] && rm myinfo''')\n",
    "else:\n",
    "    bashCmds('''rm -rf ~/*''')\n",
    "    \n",
    "closeAllOpenTtySessions()\n"
   ]
  },
  {
   "cell_type": "code",
   "execution_count": null,
   "id": "2eacfd8f-1a42-47c4-b27f-058d6bc9c2a0",
   "metadata": {
    "hide_input": true,
    "tags": [
     "remove-input"
    ]
   },
   "outputs": [],
   "source": [
    "appdir=os.getenv('HOME')\n",
    "appdir=appdir + \"/parser\"\n",
    "TermShellCmd(\"ls \")\n",
    "output = runTermCmd(\"[[ -d \" + appdir + \" ]] &&  rm -rf \"+ appdir + \n",
    "             \";cp -r ../src/parser \" + appdir)\n",
    "bash = BashSession(cwd=appdir)"
   ]
  },
  {
   "cell_type": "markdown",
   "id": "cbc9fe84-8619-424a-8b53-4fe471065fa8",
   "metadata": {
    "tags": []
   },
   "source": [
    "(cont:gs:tools:shell)=\n",
    "# Shell\n",
    "\n",
    "The shell provides an enormously powerful text based interface for programmers to interact with the Unix operating system.  We already discussed the shell when describing the key [abstractions](cont:gs:abstractions) of Unix, so you know key unix commands, redirection, pipes, process tree, etc... \n",
    "One very useful feature we have not touched on yet is shell scripts.  A shell script is a file that contains the same commands that you could type directly into a shell, and it is frequently used by developers to automate tasks.   As a simple example consider the shell script  shown in {numref}`run_tests` that automates running a set of tests passed to the script, where it reports how many tests succeeded, prints out the failures, including tests that took more than a timeout to run.  "
   ]
  },
  {
   "cell_type": "markdown",
   "id": "39aa6d1a-03ee-4c38-9910-a5d9fa40d9c5",
   "metadata": {
    "tags": []
   },
   "source": [
    "% The block below creates a nice labeled Listing in the html, but not in the jupyter notebook view.\n",
    "```{literalinclude} /src/parser/run_tests.sh\n",
    ":linenos:\n",
    ":language: bash\n",
    ":caption: A simple shell script that runs a bunch of test programs. \n",
    ":name: run_tests\n",
    "```"
   ]
  },
  {
   "cell_type": "code",
   "execution_count": null,
   "id": "24a5e680-00e3-44d8-8a09-06d3ff9625b8",
   "metadata": {
    "tags": [
     "remove-input",
     "remove-cell"
    ]
   },
   "outputs": [],
   "source": [
    "# This cell is removed in the html, but displays the code listing in the Jupyter notebook. \n",
    "file = appdir + \"/run_tests.sh\"\n",
    "text_file = open(file, \"r\")\n",
    "data = text_file.read()\n",
    "data = numberLines(data)\n",
    "text_file.close()                                                                                             \n",
    "md_text = '''                                                                                                                        \n",
    "```                                                                                                                      \n",
    "''' + data + '''                                                                                                                         \n",
    "```                                                                                                                                      \n",
    "'''\n",
    "display (Markdown(md_text))\n",
    "#display (Markdown('<font size=\".5rem\">' + md_text +'</font>'))"
   ]
  },
  {
   "cell_type": "markdown",
   "id": "49cf5fab-ced0-42ad-97a3-20d6e9cb152b",
   "metadata": {
    "tags": []
   },
   "source": [
    "The first line in the file tells the OS to run this using the bash shell.  Line 3 gets the list of tests to run.  For each test, in  it prints the name of the test, runs the test (line 10) with a timeout value specified on line 1.  Lines 12-21 prints out for each test if the program ran correctly, and if not accumulates the number of failed tests.   \n",
    "\n",
    "This is just a simple example of the kind of automation you can do with shell scripts.  For more detail on all the special variables... please run \"man bash\" and search for \"PARAMETERS\". There are many wonderful tutorials (e.g., [this one](https://linuxconfig.org/bash-scripting-tutorial-for-beginners)) and cheat sheets online.  Also, for more information about terminals and shells, this information is covered in much more detail in this [companion book](https://jappavoo.github.io/UndertheCovers/textbook/unix/intro.html#operating-systems-and-unix)."
   ]
  },
  {
   "cell_type": "markdown",
   "id": "dd6acd63-267d-43a5-a140-4a7724b6a8f7",
   "metadata": {
    "tags": [
     "remove-cell",
     "remove-input",
     "hide-output"
    ]
   },
   "source": [
    "This cell is hidded and contains commented out content that I don't believe we want in the book; the goal now is to present what different tools can do, not give a not very good seperate tutorial. \n",
    "\n",
    "<!--- \n",
    "\n",
    "*fixme* just started rew-ritting this, provide a simple example of writting a shell script that will execute a set of test programs. \n",
    "\n",
    "\n",
    "\n",
    "\n",
    "The shell is a basic interface that allows users to communicate with the kernel and any installed programs. Whenever you open a terminal, the kernel starts an instance of a shell program, or shell \"session\". When most people interact with computers, they do so through graphical user interfaces that they navigate using a mouse or their finger. The shell is completely text-based and designed for programmers. It has its own programming language of special commands to access kernel functionalities. For more information about terminals and shells, please refer to the relevant sections of [the following textbook](https://jappavoo.github.io/UndertheCovers/textbook/unix/intro.html#operating-systems-and-unix).\n",
    "\n",
    "## Some basic shell commands\n",
    "### Help and information\n",
    "#### `man <command>`\n",
    "This is probably the most important command for students new to Linux and interacting with computers via the shell. The `man` command (short for \"manual\") allows you to access documentation about all programs installed on a system. For example, to view documentation for the `man` command itself, you simply type `man man` to open its man page. You can scroll through man pages using the arrow keys or `ctrl+f` (move forward one page) and `ctrl+b` (move backward one page) and exit back to the command line by typing `q`. For more information about any of the other commands discussed in this chapter (or any chapter for that matter), consult these **man pages**!\n",
    "\n",
    "#### `apropos <keyword>`\n",
    "This is probably the second most important command for students new to Linux and interacting with computers via the shell. If you type `man apropos`, its description is\n",
    "> apropos searches a set of database files containing short descriptions of system commands for keywords and displays the result on the standard output.\n",
    "\n",
    "In other words, it searches all `man-able` programs for the `keyword`, and displays it on the screen. This can be useful if you know that a program description has a certain keyword or functionality, but not know the specific name of it.\n",
    "\n",
    "### Navigating your system via the command line \n",
    "The shell provides us with a way to navigate through our machine's file directory. When you open a new terminal in the development environment, you will be in your **home directory**. The directory that you are in at any given time is called the **working directory**. To see what your current working directory is, simply type `pwd` into the command line.\n",
    "\n",
    "```\n",
    "$ pwd \n",
    "/home/username \n",
    "```\n",
    "\n",
    "There are two ways to reference files and directories in the shell. The first is using **absolute paths**. When referring to directories this way, you have to write the entire path to the desired directory starting at the root `/`. The advantage to this approach is that these references remain static no matter where you are in the system. As long as you don't move a file, it's absolute path remains the same. To change your working directory, you can use the `cd` command:\n",
    "```\n",
    "$ cd /home\n",
    "```\n",
    "This command does not print anything to the command line, but if you rerun `pwd` you will see that the working directory has changed!\n",
    "\n",
    "The other option for referencing files is to use **relative paths**. They are called relative paths because they are written *relative* to your current working directory. Thus, the path to the file of interest depends on your working directory. The advantage to using relative paths is that they are generally much shorter than absolute paths. In addition, there are some nice shortcuts you can use if you aren't trying to move too far away from your current working directory. For example, if I want to move to the parent directory of my working directory, I can simply type `cd ..` instead of writing out the whole path of the parent directory. When moving into the child directory of the current working directory, you can just type `cd child` or `cd child/grandchild` and the shell will know that you are using a relative path since it does not start with a `/`. Typing `cd child` is equivalent to typing `cd ./child`, since `.` is used to denote the current working directory. You can also get to the \"grandparent\" directory by typing `cd ../..` or one of your parent directory's other children using the command `cd ../sibling`. To go to your home directory, you can type `cd ~`.\n",
    "\n",
    "You may also want to view the contents of a directory. You can do this using the `ls` command. If you provide it with no arguments, it will simply print the contents of your working directory. \n",
    "```\n",
    "$ ls\n",
    "file1.txt file2.txt hw1\n",
    "```\n",
    "The directories will be differentiated from the plain files in the development environment with bold colored text. You can also provide an absolute or relative path as an argument to the `ls` command (e.g., `ls /path/to/directory/`) to see the contents of a different directory. \n",
    "\n",
    "#### Recap:\n",
    "* All file paths start at the root directory `/` and you can reference them absolutely or using relative paths\n",
    "* Your home directory is `~`, the current working directory is `.`, and the parent of the working directory is `..`\n",
    "* `pwd`: prints your working directory\n",
    "* `cd /some/directory`: move to the specified directory\n",
    "* `ls /some/directory`: print the files and directories within the chosen directory\n",
    "\n",
    "### Creating, viewing, and manipulating files and directories\n",
    "* `touch <desiredfilename>`: create a new file. \n",
    "* `cat <filename>`: print contents of a file to the terminal.\n",
    "* `mv /path/to/<filename> /desired/path/to/file/`: move a file to a different directory. To move a directory instead of just a single file, use the flag `-r`. \n",
    "* `cp <filename> <filecopyname>`: make a copy of an existing file. \n",
    "* `mdkir <desireddirectoryname>`: create a new directory. \n",
    "* `emacs <filename>`: open the file \"filename\" in the EMACS editor. More on this in the following section.\n",
    "* `wc <filename>`: print newline, word, and byte counts for a file. To see just the word count, add the flag `-w`.\n",
    "\n",
    "[Commands as files within the path list](https://jappavoo.github.io/UndertheCovers/textbook/unix/shellintro.html#commands-as-files-within-the-path-list): interesting resource to help with understanding of shell commands with an exercise you can follow!\n",
    "\n",
    "### Miscellaneous\n",
    "#### `echo`\n",
    "Display a line of text to standard out. \n",
    "```\n",
    "$ echo \"Hello world\"\n",
    "Hello world\n",
    "```\n",
    "#### `ctrl+c`\n",
    "This will terminate whatever process/command is currently running in the shell. Great if you think your code may be stuck in an infinite loop or is just taking much longer than you thought it would to finish running. \n",
    "\n",
    "#### `ctrl+l`\n",
    "This will clear your terminal and move the prompt up to the top of the screen. \n",
    "\n",
    "### Symbols\n",
    "#### |\n",
    "This is known as the \"pipe\" symbol and is used to redirect the output of one command into the input of a second command. For example, if I type `ls .. | wc -w`, the total number of files/directories in the `..` directory will be printed to the command line. \n",
    "#### >\n",
    "This symbol is used to assign a redirect-out to a command. For example, if I type: `echo \"Hello world\" > hw.txt`, instead of printing \"Hello world\" to the terminal, the right carrot symbol would direct that output into the file \"hw.txt\". \n",
    "#### <\n",
    "This symbol is used to assign a redirect-in to a command. For example, we can type `cat < file.txt`. In this situation, this is equivalent to `cat file.txt`. \n",
    "#### &\n",
    "Typing the ampersand symbol & at the end of a command will result in that command being run in the background. This means that you will immediately see another prompt even if the command you run has not finished running. \n",
    "\n",
    "---!> \n"
   ]
  },
  {
   "cell_type": "code",
   "execution_count": null,
   "id": "a0cddbf9-97a1-4694-920e-8c3f13633a2e",
   "metadata": {},
   "outputs": [],
   "source": []
  }
 ],
 "metadata": {
  "kernelspec": {
   "display_name": "Python 3 (ipykernel)",
   "language": "python",
   "name": "python3"
  },
  "language_info": {
   "codemirror_mode": {
    "name": "ipython",
    "version": 3
   },
   "file_extension": ".py",
   "mimetype": "text/x-python",
   "name": "python",
   "nbconvert_exporter": "python",
   "pygments_lexer": "ipython3",
   "version": "3.10.5"
  },
  "vscode": {
   "interpreter": {
    "hash": "f4e3c63a28d2eadc36e3bba0725a6dea388233dd4d06cf5319c6ed40df7370ac"
   }
  }
 },
 "nbformat": 4,
 "nbformat_minor": 5
}
