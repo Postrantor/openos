{
 "cells": [
  {
   "cell_type": "markdown",
   "id": "07f1f70f-36c4-4ef8-94df-3b05ef34d244",
   "metadata": {
    "tags": []
   },
   "source": [
    "(cont:vp)=\n",
    "# Introduction\n",
    "\n",
    "We [already](cont:gs:structure:struc) described the idea of a process, as a virtual computer that isolates running applications from each other, and discussed a bit how the [OS](cont:gs:abstractions:process) implements that abstraction.  We first [review](cont:vp:process) the abstraction of a process in more detail and [then](cont:vp:virt) how the operating system allows multiple processes to execute on a computer while giving each the illusion it has the entire computer to itself.  We then discuss the abstraction of [threads](cont:vp:threads), which implements the abstraction of a virtual processor.   The processor needs to be multiplexed between different applications, we then describe the goals of [scheduling](cont:vp:scheduling) and a variety of scheduling algorithms. "
   ]
  },
  {
   "cell_type": "code",
   "execution_count": null,
   "id": "0271505f-e55f-4372-852b-35cfd39ecf51",
   "metadata": {},
   "outputs": [],
   "source": []
  }
 ],
 "metadata": {
  "kernelspec": {
   "display_name": "Python 3 (ipykernel)",
   "language": "python",
   "name": "python3"
  },
  "language_info": {
   "codemirror_mode": {
    "name": "ipython",
    "version": 3
   },
   "file_extension": ".py",
   "mimetype": "text/x-python",
   "name": "python",
   "nbconvert_exporter": "python",
   "pygments_lexer": "ipython3",
   "version": "3.10.5"
  }
 },
 "nbformat": 4,
 "nbformat_minor": 5
}
