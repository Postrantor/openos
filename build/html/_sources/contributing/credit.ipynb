{
 "cells": [
  {
   "cell_type": "markdown",
   "id": "33e53ca0-6d2e-4bcc-9080-33e0c16fc882",
   "metadata": {},
   "source": [
    "(cont:contr:contributors)=\n",
    "# Contributors\n",
    "\n",
    "We hope that many will contribute to this over time, and the github [community](https://github.com/OpenOSOrg/openos/graphs/contributors) page should show recent ones. A major way to contribute is to submit issues ([see here](misc:howto:issue)) when you see a problem. Major contributors and editors for parts of the book are:\n",
    "\n",
    "- Orran Krieger: Overall Editor of this version\n",
    "- Larry Woodman: Memory Management\n",
    "- Angela Demke Brown: Synchronization\n",
    "- Sadie Allen: did the first pass on [Tools](cont:gs:tools)\n",
    "- Eric Munson: did the first pass on scheduling/virtual processor\n",
    "- Peter Desnoyers: provided much of the content that we seeded this book with from his open source OS book for northeastern graduate course.\n",
    "- Jonathan Appavoo: who's book [Under the Covers: The Secret Life of Software](https://jappavoo.github.io/UndertheCovers/textbook/intro_tb.html#under-the-covers-the-secret-life-of-software) both inspired this book and from which we have stolen content and many ideas. "
   ]
  }
 ],
 "metadata": {
  "kernelspec": {
   "display_name": "Python 3 (ipykernel)",
   "language": "python",
   "name": "python3"
  },
  "language_info": {
   "codemirror_mode": {
    "name": "ipython",
    "version": 3
   },
   "file_extension": ".py",
   "mimetype": "text/x-python",
   "name": "python",
   "nbconvert_exporter": "python",
   "pygments_lexer": "ipython3",
   "version": "3.10.5"
  }
 },
 "nbformat": 4,
 "nbformat_minor": 5
}
