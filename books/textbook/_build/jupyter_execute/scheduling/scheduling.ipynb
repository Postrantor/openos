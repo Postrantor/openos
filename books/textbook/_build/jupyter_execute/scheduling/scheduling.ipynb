{
 "cells": [
  {
   "cell_type": "markdown",
   "id": "da51ecce-4235-413b-aad6-b596910ee3b8",
   "metadata": {},
   "source": [
    "(cont:vp:scheduling)=\n",
    "# Scheduling\n",
    "\n",
    "Scheduling is the policy the operating system uses to time multiplexes the CPU between different tasks. A large number of scheduling policies have been developed over the years. Some of these are specialized for particular types of computing systems, while others aim to support more general-purpose systems.  We first discuss why scheduling is complicated and the goals scheduling policies are designed to meet, and then review a number of these policies. \n",
    "\n",
    "```{NOTE} \n",
    "**Space and time multiplexing:** In reality today all computers have many physical CPUs, and the kernel does both space and time multiplexing.  Given the existence of caches and NUMA memory, the decision of not only when to run a task but also where (i.e. on which CPU) to run it has profound performance implications.  However, we will largly focus on introducing the problem of scheduling from he perspective of a single CPU. \n",
    "```"
   ]
  },
  {
   "cell_type": "code",
   "execution_count": null,
   "id": "9a756c53-8b1c-4f31-af21-080981944711",
   "metadata": {},
   "outputs": [],
   "source": []
  }
 ],
 "metadata": {
  "kernelspec": {
   "display_name": "Python 3 (ipykernel)",
   "language": "python",
   "name": "python3"
  },
  "language_info": {
   "codemirror_mode": {
    "name": "ipython",
    "version": 3
   },
   "file_extension": ".py",
   "mimetype": "text/x-python",
   "name": "python",
   "nbconvert_exporter": "python",
   "pygments_lexer": "ipython3",
   "version": "3.10.5"
  }
 },
 "nbformat": 4,
 "nbformat_minor": 5
}