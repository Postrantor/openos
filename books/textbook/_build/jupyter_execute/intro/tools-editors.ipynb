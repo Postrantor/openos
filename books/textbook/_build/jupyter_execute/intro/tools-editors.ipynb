{
 "cells": [
  {
   "cell_type": "markdown",
   "id": "7a122ada-e9b3-4092-b70e-5b1e4e51361e",
   "metadata": {
    "tags": []
   },
   "source": [
    "(cont:gs:tools:editors)=\n",
    "# Editors\n",
    "The vast majority of OS developers use text based editors, that can be accessed from a terminal, by using ssh to get to a machine, and over a wide variety of connections.  The two most popular options are [vim](https://en.wikipedia.org/wiki/Vim_(text_editor)) and [emacs](https://en.wikipedia.org/wiki/Emacs), which are both available in the container image provided with this book. \n",
    "While the choice of which is better is [the oldest rivalry in computing](https://slate.com/technology/2014/05/oldest-software-rivalry-emacs-and-vi-two-text-editors-used-by-programmers.html)[^googlesearch], the author of this section feels comfortable asserting that it is a self-evident truth that you will be more productive, get a better grade, and probably become a better person if you master emacs (and anyone from the \"cult of vi\" that touches this chapter puts their soul at risk[^religion]). \n",
    "\n",
    "\n",
    "[^googlesearch]:  Try doing a google search for `emacs` and then do one for `vi`.  \n",
    "\n",
    "[^religion]: All true believers in the church of emacs consider vi (the predecessor to vim) as the editor of the beast (vi-vi-vi being 666 in roman numerals).\n",
    "\n",
    "With vim (the most popular variant of vi today), most users use it to modify a file, and then exit vim when they want to compile, debug or run their programs. To open a file, type `vim <filename>`. When you enter vim, you will automatically be in `normal mode` where you can navigate using your cursor. To insert text, type `i` to enter `insert mode`. or 'a' to enter 'append mode'. when you are done changes, press the `esc` key to enter normal mode, next press `:` to enter `command mode`, lastly press `w` (for write) and enter to save. To quit, enter command mode and `q` (quit).  There is also an incredibly arcane command set that enables members of the \"cult of vi\" to do very complex operations with a few key strokes, but if you spend your time learning that you will probably not have any time left to do OS assignments. \n",
    "\n",
    "Now that we have discussed everything you ever need to know about vim, lets talk about the better alternative. \n",
    "While you could use emacs to just edit files, power users live in emacs and use to to compile, debug, and run their programs.  To open a file in emacs, type `emacs <filename>`, or if you are in emacs already (which you should always be) type `<ctrl>-x <ctrl>-f` to open a file.  Unlike in VIM, you will immediately be able to write in/edit the file. Once you are finished editing, type `<ctrl>-s` to save the file.  When you want to leave (which you never should) you type `<ctrl>-x` followed by `<ctrl>-c` to exit. There are many control and escape sequences to do powerful things and a really good reference card is available [here](https://www.gnu.org/software/emacs/refcards/pdf/refcard.pdf).  \n",
    "```{sidebar} Getting help:\n",
    "You can use `<ctrl>-h` to get to get help, where `<ctrl>-h ?` gives you all the options, and `<ctrl>-h t` starts an emacs tutorial. For example, depending on the type of file you are editing, emacs goes into a file specific *mode* and will have special bindings for that that mode.  If you want to understand it, `<ctrl>-h m` tells you about the mode and `<ctrl>-h b` tells you the key bindings.   \n",
    "```\n",
    "A few of the more powerful features that you should take advance of in emacs are:\n",
    "- Type `<ctrl>-x <ctrl>-f` to open a directory, where emacs will let you move around the filesystem while staying in the editor.\n",
    "- Starting up a [shell](https://www.gnu.org/software/emacs/manual/html_node/efaq-w32/Using-shell.html#:~:text=You%20can%20start%20an%20interactive,to%20use%20as%20the%20shell.) which enables you to copy content easily from other buffers in emacs to the shell, and run programs directly there.\n",
    "- Running [make within emacs](https://www.gnu.org/software/emacs/manual/html_node/emacs/Compilation.html).  When you do this emacs parses the error messages, and hitting `<ctrl>-x <backquote>` will automatically pop you into the right file on the line where the compiler emitted an error.\n",
    "- Run [debugger from within emacs](https://www.gnu.org/software/emacs/manual/html_node/emacs/Debuggers.html) (`<esc>-x gdb`).  When you do this, emacs parses the output of gdb, and automatically pops you into the correct source code file where the code you are debugging lives. \n",
    "- Run [grep in emacs](https://www.gnu.org/software/emacs/manual/html_node/emacs/Grep-Searching.html) (`<esc>-x grep`) where emacs parses the result, and hitting `<ctrl>-x <backquote>` will automatically pop you into the right file on the line where grep returned a result.\n",
    "\n",
    "These are just a few of the very powerful ways that emacs will improve your life as a software developer (and likely you a a person).  While it is a steep learning curve, you will find after a while that your fingers know all the common keystrokes, and you productivity will increase exponentially.  \n",
    "```{warning}\n",
    "One danger all real emacs users face eventually is Carpal tunnel syndrome, strongly recommend you rebind the caps locks key to be the control key.\n",
    "```\n",
    "\n",
    "\n",
    "<!---\n",
    "\n",
    "**We are requiring that students use EMACS for this course, and those who use VIM will be penalized.**\n",
    "\n",
    "## EMACS Basics\n",
    "EMACS is a slightly more familiar-looking text editor that is valued for its extensibility. It is extremely configurable with a lot of tools and packages available. \n",
    "\n",
    "To open a file in EMACS, type `emacs <filename>`. Unlike in VIM, you will immediately be able to write in/edit thew file. Once you are finished editing, you type `ctrl+x` followed by `ctrl+c` to save and exit. It will prompt you to confirm that you want to save and quit. Typing `y` and then enter will return you to the terminal.\n",
    "\n",
    "EMACS has a built-in tutorial you can follow. Simply type `emacs` in the terminal and then scroll down to the tutorial using the arrow keys and press enter. This will take you through EMACS basics. \n",
    "\n",
    "Here are some navigation commands you might find useful (where C- denotes ctrl+):\n",
    "* **C-v**: go forward one page\n",
    "* **C-f**: move forward one character\n",
    "* **C-b**: move backward one character\n",
    "* **C-n**: move to next line\n",
    "* **C-p**: move to previous line\n",
    "* **C-a**: move to the beginning of a line\n",
    "* **C-e**: move to the end of a line\n",
    "* **C-g**: stop a command that is taking too long to execute\n",
    "\n",
    "## Vim Basics\n",
    "Vim is a \"simple to use, hard to master\" text editor that is valued by vim enthusiasts for its coding effeciency.\n",
    "\n",
    "To open a file in vim, type `vim <filename>`. When you enter vim, you will automatically be in `normal mode` where you can navigate your cursor. To insert text, type `i` to enter `insert mode`. To save a file, first press the `esc` key to enter normal mode, next press `:` to enter `command mode`, lastly press `w` and enter to save. To quit, enter command mode and enter `q`.\n",
    "\n",
    "---!>"
   ]
  },
  {
   "cell_type": "code",
   "execution_count": null,
   "id": "df8d8b1c-48cf-41a5-a62d-2360e06c7bc3",
   "metadata": {},
   "outputs": [],
   "source": []
  }
 ],
 "metadata": {
  "kernelspec": {
   "display_name": "Python 3 (ipykernel)",
   "language": "python",
   "name": "python3"
  },
  "language_info": {
   "codemirror_mode": {
    "name": "ipython",
    "version": 3
   },
   "file_extension": ".py",
   "mimetype": "text/x-python",
   "name": "python",
   "nbconvert_exporter": "python",
   "pygments_lexer": "ipython3",
   "version": "3.10.5"
  },
  "vscode": {
   "interpreter": {
    "hash": "f4e3c63a28d2eadc36e3bba0725a6dea388233dd4d06cf5319c6ed40df7370ac"
   }
  }
 },
 "nbformat": 4,
 "nbformat_minor": 5
}