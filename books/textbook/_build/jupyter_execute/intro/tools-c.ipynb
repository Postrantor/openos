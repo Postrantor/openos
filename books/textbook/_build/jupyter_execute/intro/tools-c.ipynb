{
 "cells": [
  {
   "cell_type": "markdown",
   "id": "aec1e9dc",
   "metadata": {},
   "source": [
    "(cont:gs:tools:c)=\n",
    "# The C Programming Language\n",
    "\n",
    "The C programming language is a high level statically typed procedural compiled programming language which most operating systems are written in because it allows the programmer the full control needed to interact with devices and hardware. You have probably already learned the language in a previous course, but this course will utilize some of its advanced features that have probably not been taught in those introductory courses.  We don't expect you to memorize the advanced features of he language; instead you should reference [this](https://en.cppreference.com/w/c/language) searchable documentation as you need to, or if you prefer the famous K&R [book](https://archive.org/details/cprogramminglang00denn) that can be downloaded for free.  Make sure you have at least a basic understanding of:\n",
    "* Functions: declarations and definitions\n",
    "* Variables: definitions, usage\n",
    "* Data types and conversion between them\n",
    "* What operators are available\n",
    "* Control flow (if statements, loops)\n",
    "* Arrays and strings, array-to-pointer decay\n",
    "* Pointers and pointer arithmetic\n",
    "* Memory management (malloc, free, etc.)\n",
    "* Structs and unions\n",
    "* Pre-processor directives\n",
    "\n",
    "One thing that you should be aware of is that the C programming language, by giving absolute control to the programmer, makes it really easy to shoot yourself in the foot.  We strongly recommend using a set of tools and techniques that will give you some degree of foot armor:\n",
    "*  Use some form of coding style, e.g., [this website](https://www.kernel.org/doc/html/v4.10/process/coding-style.html) contains the preferred coding style for the Linux kernel. Adhering to a style will increase productivity so you and whoever else looks at your code will spend less time trying to understand what you wrote.  \n",
    "*  As described [here](cont:gs:tools:make) always compile your programs with `-Wall` and `-Werror` to enable the compiler to catch many bugs. \n",
    "*  Use [debuggers](cont:gs:tools:gdb) rather than print to debug your program. \n",
    "*  Use tools like [valgrind](https://valgrind.org/), or sanitizer arguments to add extra runtime checks to detect undefined behavior or memory leaks. \n",
    "\n",
    "Most of all, write extensive unit and integration tests (see [this chapter](cont:gs:tools:testing)) as you develop your code.  You will be shocked how many times you will avoid debugging the same problem repeatedly by doing this. \n"
   ]
  },
  {
   "cell_type": "code",
   "execution_count": null,
   "id": "6e86832b-4a67-4fab-baf9-fad85d6cd3ac",
   "metadata": {},
   "outputs": [],
   "source": []
  }
 ],
 "metadata": {
  "kernelspec": {
   "display_name": "Python 3 (ipykernel)",
   "language": "python",
   "name": "python3"
  },
  "language_info": {
   "codemirror_mode": {
    "name": "ipython",
    "version": 3
   },
   "file_extension": ".py",
   "mimetype": "text/x-python",
   "name": "python",
   "nbconvert_exporter": "python",
   "pygments_lexer": "ipython3",
   "version": "3.10.5"
  },
  "vscode": {
   "interpreter": {
    "hash": "f4e3c63a28d2eadc36e3bba0725a6dea388233dd4d06cf5319c6ed40df7370ac"
   }
  }
 },
 "nbformat": 4,
 "nbformat_minor": 5
}