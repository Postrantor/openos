{
 "cells": [
  {
   "cell_type": "markdown",
   "id": "b992a506-bf32-4b84-af66-82967f1d7055",
   "metadata": {},
   "source": [
    "(cont:gs:tools:git)=\n",
    "# Git Basics\n",
    "Version control is a good idea for any software project. For your work in this class, it will be required. The development environment will periodically wipe your directory, so if you haven't pushed your changes to a remote repository, you will lose all progress. We recommend committing and pushing your code often to avoid losing your work.\n",
    "\n",
    "The most common repository control system today is `git` and at least int he BU version of this course you will be using github classrooms, which uses the version of `git` hosted on `github`.  Different assignments come from templated repositories that are automatically available to you when you start an assignment.  \n",
    "\n",
    "The power of git is that it maintains a database of all the changes made to a repository.  Developers working on their own version of a repository can share changes, along with all the history of how that change was made, with each other.  In the very simple environment for this course, there are just two repositories at a time, the one you are working on in the container we provide you, and the one hosted on github.\n",
    "\n",
    "Whenever you start working, you will need to use `git clone <repo>` to make a copy of your repo from github locally.  Every time you make a change you can type `git status` to tell you the files modified.  When you have gotten to a reasonable point in the development, where it is worth recording that in the history of changes, you should use `git add <files>` to stage a set of files for commit, and then `git commit -m \"a message\"` to identify the change you have made.  Often you will want to have separate messages for different groups of files, so this combination lets you groups changes together in your history.  At this point, all the changes are just in the repository on the machine where you are working, and if that machine fails, you will lose everything you have done.  You should type `git push` to push the changes from your local system to the repository hosted by github.  If you take a break, and come back to work, you will want to type `git log` to see the history of where you are.\n",
    "\n",
    "What we have discussed only gives you the basics to work on the projects from our course.  Git is increadibly powerful, enabling groups of programmers to share and collaborate on projects.  While that would be cheating in this course, in the real world the power of sharing is the real value of git.  We would encourage you to explore the rich functionality of git, and if you want to contribute to open source, you will need to learn how to use git to fork or branch repositories, make changes, issue pull requests, ...\n"
   ]
  },
  {
   "cell_type": "code",
   "execution_count": null,
   "id": "5f9912db-22a0-49ea-958b-9ece9de98998",
   "metadata": {},
   "outputs": [],
   "source": []
  }
 ],
 "metadata": {
  "kernelspec": {
   "display_name": "Python 3 (ipykernel)",
   "language": "python",
   "name": "python3"
  },
  "language_info": {
   "codemirror_mode": {
    "name": "ipython",
    "version": 3
   },
   "file_extension": ".py",
   "mimetype": "text/x-python",
   "name": "python",
   "nbconvert_exporter": "python",
   "pygments_lexer": "ipython3",
   "version": "3.10.5"
  },
  "vscode": {
   "interpreter": {
    "hash": "f4e3c63a28d2eadc36e3bba0725a6dea388233dd4d06cf5319c6ed40df7370ac"
   }
  }
 },
 "nbformat": 4,
 "nbformat_minor": 5
}