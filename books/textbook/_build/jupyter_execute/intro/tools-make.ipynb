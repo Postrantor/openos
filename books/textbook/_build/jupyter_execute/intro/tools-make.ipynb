{
 "cells": [
  {
   "cell_type": "code",
   "execution_count": null,
   "id": "949c8db3-eb63-4d0e-abbd-a9bb9311992f",
   "metadata": {
    "tags": [
     "remove-cell",
     "remove-input",
     "hide-output"
    ]
   },
   "outputs": [],
   "source": [
    "%run -i ../python/common.py\n",
    "publish=False\n",
    "\n",
    "if not publish:\n",
    "    # cleanup any old state\n",
    "    bashCmds('''[[ -d lec3 ]] && rm -rf mydir\n",
    "    [[ -a myinfo ]] && rm myinfo''')\n",
    "else:\n",
    "    bashCmds('''rm -rf ~/*''')\n",
    "    \n",
    "closeAllOpenTtySessions()\n"
   ]
  },
  {
   "cell_type": "code",
   "execution_count": null,
   "id": "dbefb771-5213-46ff-a2d7-876581a4a04f",
   "metadata": {
    "hide_input": true,
    "tags": [
     "remove-input"
    ]
   },
   "outputs": [],
   "source": [
    "appdir=os.getenv('HOME')\n",
    "appdir=appdir + \"/parser\"\n",
    "TermShellCmd(\"ls \")\n",
    "output = runTermCmd(\"[[ -d \" + appdir + \" ]] &&  rm -rf \"+ appdir + \n",
    "             \";cp -r ../src/parser \" + appdir)\n",
    "bash = BashSession(cwd=appdir)"
   ]
  },
  {
   "cell_type": "markdown",
   "id": "de70608a-7fb4-4149-bb5a-51cf11ef33f6",
   "metadata": {
    "tags": []
   },
   "source": [
    "(cont:gs:tools:make)=\n",
    "# Make\n",
    "\n",
    "Make is a critical tool to let developers automate compiling complicated programs.  After motivating why you want to do master it, we provide an example makefile and demonstrate a bit of the power of this tool. "
   ]
  },
  {
   "cell_type": "markdown",
   "id": "584570d2-293d-44c2-85e7-e8e40f499b82",
   "metadata": {
    "tags": []
   },
   "source": [
    "## Motivation \n",
    "\n",
    "For very simple programs, you can use [emacs](cont:gs:tools:editors) to write them in a single file and can compile them into executables to be run using, for example, the GNU C compiler gcc:\n",
    "\n",
    "```gcc filename.c -o filename```\n",
    "\n",
    "That's fine for little programs, although even there, there are lots of flags that you will want to use to compile a program that are not the default with gcc.   For example, we would recommend that you always use the following flags: \n",
    "* `-Wall`: turns on many compiler warning flags; about 90\\% of the simple bugs that students make are caught by gcc at compile time which emits warnings to ask you if you **really** want to shoot yourself in the foot.  Please believe us, if there is a warning, it is much faster to fix it instead of finding the bug at run time later. \n",
    "* `-Werror`: turns warnings into compilation errors.  This is super valuable so that you don't miss the warning; again don't come to a TF for help unless your program compiles with -Wall and -Werror. \n",
    "* `-std=gnu99`: this isn't super critical, but gcc supports a variety of standard variants of the c programming language, so you might as well use a standard that will ensure that your program is compilable by other compielrs. \n",
    "* `-O0`: sets optimization level to 0.  The compiler supports a wide set of [optimizations](https://gcc.gnu.org/onlinedocs/gcc/Optimize-Options.html) for size, for performance... and for the final program, you might want to specify something different.  However, optimizations re-arrange the code, copying functions into other functions.  If you want to debug the program you wrote, use `-O0`, if you want to debug a program that is logically the same, but doesn't really look like the software you wrote, use something else. \n",
    "* `-g`: adds debugging symbols to executable.  Without this, you are pretty much out of luck if you want to use a [debugger](cont:gs:tools:gdb), and if you are not using a debugger, then you might as well give up on the projects associated with this course. \n",
    "* `-I.`: specifies directory where header files can be found (in this example, the working directory `.`).  You should always seperate key information that describe the interfaces of your program and constants that you might want to change into header files. This flag tells the compiler where those header files are.\n",
    "\n",
    "Okay, so now, to compiler your simple program, you will type:\n",
    "\n",
    "```gcc -Wall -Werror -std=gnu99 -O0 -g -I. filename.c -o filename```\n",
    "\n",
    "That's a bit of a pain.  How do you know if you remembered to do all that?  How do you know how you compiled the program if you come back a day later, or prove to the TF of the course that you used the right flags.  More importantly, what happens when you have more than a toy program that can be written in a single file?  You won't write any programs for this course that could be written in a single file.  How do you remember which files you modified that need to be re-compiled?  If you have a header file which 10 ```.c``` files depend on, how to you make sure that all 10 ```.c``` files are re-compiled?\n",
    "\n",
    "```{sidebar} Make and Tab; a sad story:\n",
    "Make was originally written by [Stuart Feldman](https://en.wikipedia.org/wiki/Stuart_Feldman), a researcher at bell labs who worked with the team that developed the first version of Unix.  One of the painful features of Make is that it uses <TAB> before each line that specifies an action; a constant source of error since in a text editor it is hard to see the difference between a `<TAB>` and a set of spaces.  From personal conversation, the reason for this is that Stu hacked together the first version over a weekend and had problems getting other patterns to work with [```lex```](https://en.wikipedia.org/wiki/Lex_(software)) which was new at the time.  Make was so useful that within a few weeks Stu had 12 users, and even though he knew that `<tab>` in column 1 was a bad idea, he didn't want to disrupt his user base.  Stu formally apologized when he was honored by ACM as the author of Make for the tens of millions of developers this decision has caused pain to over the years. \n",
    "```\n",
    "\n",
    "That's where make comes in.  You create a `makefile` that describes the relationships between the files in your program and provides commands for updating each file. Usually for c programs, the executable file is updated from object files (`.o` files), which are in turn made by compiling source files (`.c` files). Once you have written your makefile, you can just run the shell command `make` and it will perform all necessary recompilations. `make` knows which files need to be updated based on the last-modification times of the files. You can also provide command line arguments to make to specify which files should be recompiled and how.  \n",
    "\n",
    "We expect you to have at least a basic understanding of how Make works. The version of make provided in the container image for this course is GNU Make.  It has many rich features and default rules; for example, it understands that if you want to generate a ```.o``` file from a ```.c``` file, it should use the compiler.  You can find extensive details [here](https://www.gnu.org/software/make/manual/html_node/Rules.html) to write makefile rules. "
   ]
  },
  {
   "cell_type": "markdown",
   "id": "ffd3930c-4864-4fe9-9189-cd23fcc8b12c",
   "metadata": {
    "tags": []
   },
   "source": [
    "\n",
    "## A simple example\n",
    "Here is a simple example that you should understand that is used for a parser that will for many of you be the first assignment of this course.  "
   ]
  },
  {
   "cell_type": "markdown",
   "id": "452ebcf3-10e2-4a67-aee6-554f0be84cb5",
   "metadata": {
    "tags": []
   },
   "source": [
    "% The block below creates a nice labeled Listing in the html, but not in the jupyter notebook view.\n",
    "```{literalinclude} /src/parser/Makefile\n",
    ":linenos:\n",
    ":language: make\n",
    ":caption: A Makefile to build a parser\n",
    ":name: make_parser\n",
    "```"
   ]
  },
  {
   "cell_type": "code",
   "execution_count": null,
   "id": "e1e91785-5ab6-43ae-b18a-5659a976c51a",
   "metadata": {
    "tags": [
     "remove-input",
     "remove-cell"
    ]
   },
   "outputs": [],
   "source": [
    "# This cell is removed in the html, but displays the code listing in the Jupyter notebook. \n",
    "file = appdir + \"/Makefile\"\n",
    "text_file = open(file, \"r\")\n",
    "data = text_file.read()\n",
    "data = numberLines(data)\n",
    "text_file.close()                                                                                             \n",
    "md_text = '''                                                                                                                        \n",
    "``` ''' + \"sh\" + '''                                                                                                                     \n",
    "''' + data + '''                                                                                                                         \n",
    "```                                                                                                                                      \n",
    "'''\n",
    "display (Markdown(md_text))\n",
    "#display (Markdown('<font size=\".5rem\">' + md_text +'</font>'))"
   ]
  },
  {
   "cell_type": "markdown",
   "id": "fd1c19d6-1d13-41ab-800a-7dd53d14684b",
   "metadata": {},
   "source": [
    "This makefile is used to generate and run a set of [unit tests](cont:gs:tools:testing) against a parser who's implementation is in `myshell_parser.c` where functions implemented by that parser are defined in `myshell_parser.h`.  \n",
    "\n",
    "Let's break down each line and rule. In the first line, we specify the flags we want to use to compile C files by assigning a value to CFLAGS (more on implicit variables like CFLAGS [here](https://www.gnu.org/software/make/manual/html_node/Implicit-Variables.html)). The `override` directive just makes sure you use the assignments in the makefile even if the variable has previously been set with a command argument.  The argument `-fsanitize=undefined` to the compiler (CFLAGS) and linker (LDFLAGS) tells gcc to add additional sanitizer run time checks for undefined behavior. \n",
    "\n",
    "The third line tells Make to use `gcc` as the compiler.  The first rule `all` in this case is run by default.  Here we are telling Make to run the rule `check` whenever make is run without any arguments.  If, on the other hand, you type `make clean` it will run the rule on line 30 that will remove all the generated files.\n",
    "\n",
    "Line 9 defines the rule to create the `myshell_parser.o` file that will be linked into all the test programs.  It tells make that it should regenerate `myshell_parser.o` if either the corresponding `.c` file or `.h` file changes. Make has a set of implicit rules, where if no recipe is specified, Make understands that it needs to run a compiler to create a `.o` file from a `.c` file.  There are many of these implicit rules as described [here](https://www.gnu.org/software/make/manual/html_node/Catalogue-of-Rules.html#Catalogue-of-Rules).\n",
    "\n",
    "Lines 13 and 14 similarly indicates that the test programs depend not only on the corresponding `.c` file, but also on `myshell_parser.h`.  That way, if you edit `myshell_parser.h` all the test programs that depend on a prototype you define in that header file will be recompiled.  Lines 16 and 17 tell make that the test file depend on both the corresponding `.c` file and `myshell_parser.o`, and Make knows that it needs to link both `.o` files together to create an executable.\n",
    "\n",
    "Line 20 specifies the list of test programs you are generated, which is used in line 24 that defines the rule checkprogs to generate those test programs, and Line 26 that defines the rule to run the run_tests script we showed before ({numref}`run_tests`) to run all the tests. \n",
    "Line 22, which is not strictly necessary, tells Make that it is really not creating files called clean, check, checkprogs and all. \n",
    "\n",
    "Note, this makefile could be greatly simplified by using a set of built-in variables Make supports (see [here](https://www.gnu.org/software/make/manual/html_node/Automatic-Variables.html)).  For example:\n",
    "- `$+` inserts all dependencies of the rule\n",
    "- `$@` inserts the rule’s target"
   ]
  },
  {
   "cell_type": "markdown",
   "id": "0082bacd-bafd-4b41-8f73-9ae1fb5709ac",
   "metadata": {},
   "source": [
    "You normally don't use make clean, but its useful when you want to, for example, commit your changes to the repository to make sure that new files you have recently created are not hiding among a whole bunch of generated files.  Its also useful here to illustrate what is happening from a clean directory.  So, if you type `make clean` and then `make checkprogs`  {numref}`make_parser is:"
   ]
  },
  {
   "cell_type": "code",
   "execution_count": null,
   "id": "d23809d8-6549-41cf-ba38-fc6ee49ec18b",
   "metadata": {
    "tags": [
     "remove-input"
    ]
   },
   "outputs": [],
   "source": [
    "bash.run(\"make clean ; make checkprogs\")"
   ]
  },
  {
   "cell_type": "markdown",
   "id": "ef59b7db-c5e3-4e3b-b3cb-f0c4fa9265ac",
   "metadata": {},
   "source": [
    "If you type `make checkprogs` again, since nothing changed, make will not re-compile anything.  While this may not seem like a big deal for your small programs, if you are compiling a complex program like an OS kernel, it can save you hours to only compile the programs you really need to.  On our case, the second time we type `make checkprogs` we get:"
   ]
  },
  {
   "cell_type": "code",
   "execution_count": null,
   "id": "e985a88a-fad2-4626-9888-1950c8fcb51e",
   "metadata": {
    "tags": [
     "remove-input"
    ]
   },
   "outputs": [],
   "source": [
    "bash.run(\"make checkprogs\")"
   ]
  },
  {
   "cell_type": "markdown",
   "id": "ec084178-95a6-4934-950c-80753c9256b7",
   "metadata": {},
   "source": [
    "If you modify `test_simple_input.c` make will only re-compile that file and link the corresponding executable.  In this case, we can simulate modifying the file by using the unix command `touch` to change the modification time:"
   ]
  },
  {
   "cell_type": "code",
   "execution_count": null,
   "id": "b8b96219-2dbe-4346-aa1b-b19d5d1de393",
   "metadata": {
    "tags": [
     "remove-input"
    ]
   },
   "outputs": [],
   "source": [
    "bash.run(\"touch test_simple_input.c ; make checkprogs\")"
   ]
  },
  {
   "cell_type": "markdown",
   "id": "06a8fa2c-af52-494a-8f23-be46c55e4a25",
   "metadata": {
    "tags": []
   },
   "source": [
    "If on the other hand we modify `myshell_parser.c` Make understands it needs to re-compile that file and all the executables that link to it.  "
   ]
  },
  {
   "cell_type": "code",
   "execution_count": null,
   "id": "935d5b18-4752-4ed6-8891-1b8601c3329e",
   "metadata": {
    "tags": [
     "remove-input"
    ]
   },
   "outputs": [],
   "source": [
    "bash.run(\"touch myshell_parser.c ; make checkprogs\")"
   ]
  },
  {
   "cell_type": "markdown",
   "id": "48cd4e47-ab4c-431d-9bc7-c53210a60a1e",
   "metadata": {
    "tags": []
   },
   "source": [
    "And if `myshell_parser.h` is modified, everything that relies on it needs to be re-generated.  "
   ]
  },
  {
   "cell_type": "code",
   "execution_count": null,
   "id": "18264d40-65a8-4d34-8a02-f0b0c986142d",
   "metadata": {
    "tags": [
     "remove-input"
    ]
   },
   "outputs": [],
   "source": [
    "bash.run(\"touch myshell_parser.h ; make checkprogs\")"
   ]
  },
  {
   "cell_type": "markdown",
   "id": "0737bf5b-2812-4086-85b6-8f4c14d8b898",
   "metadata": {},
   "source": [
    "## Summary\n",
    "\n",
    "If you are writing complicated programs, composed of many files, you need to master make.  The example we showed above showed how this one tool enables you to ensure that you always specify the right flags, and ensure that if a file has changed, everything that relies on it will automatically be regenerated.  Finally, we have shown how you can automatically run a set of tests everytime you change anything; something we will talk more about [here](cont:gs:tools:testing).\n",
    "For more info on `make`, see the [GNU make manual](https://www.gnu.org/software/make/manual/make.html)."
   ]
  },
  {
   "cell_type": "code",
   "execution_count": null,
   "id": "abcba064-1832-4fd1-ac82-5d70580a8a12",
   "metadata": {},
   "outputs": [],
   "source": []
  }
 ],
 "metadata": {
  "kernelspec": {
   "display_name": "Python 3 (ipykernel)",
   "language": "python",
   "name": "python3"
  },
  "language_info": {
   "codemirror_mode": {
    "name": "ipython",
    "version": 3
   },
   "file_extension": ".py",
   "mimetype": "text/x-python",
   "name": "python",
   "nbconvert_exporter": "python",
   "pygments_lexer": "ipython3",
   "version": "3.10.5"
  },
  "vscode": {
   "interpreter": {
    "hash": "f4e3c63a28d2eadc36e3bba0725a6dea388233dd4d06cf5319c6ed40df7370ac"
   }
  }
 },
 "nbformat": 4,
 "nbformat_minor": 5
}