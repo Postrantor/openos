{
 "cells": [
  {
   "cell_type": "markdown",
   "id": "61bd7290-b583-4e58-a19f-aa7d88e60429",
   "metadata": {},
   "source": [
    "(cont:mm:page-size)=\n",
    "\n",
    "This chapter describes what page sizes, the pros and cons if small vs large page sizes and how some\n",
    "systems can use multiple page sizes at the same time.\n",
    "\n",
    "# Page Sizes\n",
    "\n",
    "Most modern processors that support a paged virtual memory model also support multiple page sizes.  There are several benefits and downsides of any page size.  \n",
    "\n",
    "A smaller page size reduces the internal fragmentation, on the average 1/2 of the last page of a memory region will be unused or wasted.  Half of a 4KB page is only 2KB but half of a 1GB page is 512MB!  Smaller page sizes also make for a more compact virtual address space since pages must be aligned on their size boundaries.  When the virtual address space is more compact both text and data regions can be smaller and closer together allowing for more efficient relative addressing instructions to be used.  This typically results in fewer memory references because the distance between instructions and data is smaller and fit within an instruction.  This is especially true for smaller programs.\n",
    "\n",
    "A larger page size allows for fewer page structures for a given amount of memory that the memory management system has to manage.  This means that fewer page structures will be on various linked lists, etc. which typically results in needing to hold spin locks for shorter periods of time when walking these linked lists.  A larger page size also results in significantly more text and data being mapped in translation caches.  A cache that has 128 entries can only map 512KB with a 4KB page size where it can map 128GB with a 1GB page size.  This alone will practically eliminate translation cache misses once a process is running.\n",
    "\n",
    "Selecting a page size is a trade-off and there is really no one-size fits all optimally.  The Intel x86_64 processor supports 3 page sizes; 4KB, 2MB and 1GB.  Most operating systems that will run on this architecture can be built and booted to run any of these page sizes.  In addition, the x86_64 can use all 3 pages sizes at the same time within a single address space.  Regions of memory that are fairly small(measured in KB) like a stack or heap might use a 4KB page size.  Regions of memory that are larger(measured in MB) like a large program text or shared library text might use a 2MB page size.  Finally regions of memory that are huge like a data base cache or huge shared mapped files might use a 1GB page size.\n",
    "```{figure} ../images/mm/pagesize.png\n",
    "---\n",
    "width: 100%\n",
    "name: fig:pagesize\n",
    "---\n",
    "X86_64 page sizes\n",
    "```\n",
    "\n",
    "## Small page sizes\n",
    "### Pros:\n",
    "1. Less internal fragmentation \n",
    "2. Better fit for various data structures, code sections\n",
    "3. Less unused program memory\n",
    "\n",
    "### Cons:\n",
    "1. Programs need many pages, larger page tables\n",
    "2. More TLB misses\n",
    "3. Higher memory management overhead\n",
    "\n",
    "## Large page sizes\n",
    "### Pros:\n",
    "1. Smaller page tables\n",
    "2. fewer TLB misses\n",
    "3. Lower memory management overhead\n",
    "\n",
    "### Cons:\n",
    "1. More internal fragmentation\n",
    "2. More unused program memory\n",
    "3. Worse fit for various data structures, code sections\n"
   ]
  },
  {
   "cell_type": "code",
   "execution_count": null,
   "id": "ee62e4a0-4ee8-473f-b6e5-bb5480812c3c",
   "metadata": {},
   "outputs": [],
   "source": []
  },
  {
   "cell_type": "code",
   "execution_count": null,
   "id": "e3c266c5-247a-45be-8f1e-9fa46c1ef061",
   "metadata": {},
   "outputs": [],
   "source": []
  }
 ],
 "metadata": {
  "kernelspec": {
   "display_name": "Python 3 (ipykernel)",
   "language": "python",
   "name": "python3"
  },
  "language_info": {
   "codemirror_mode": {
    "name": "ipython",
    "version": 3
   },
   "file_extension": ".py",
   "mimetype": "text/x-python",
   "name": "python",
   "nbconvert_exporter": "python",
   "pygments_lexer": "ipython3",
   "version": "3.10.5"
  }
 },
 "nbformat": 4,
 "nbformat_minor": 5
}