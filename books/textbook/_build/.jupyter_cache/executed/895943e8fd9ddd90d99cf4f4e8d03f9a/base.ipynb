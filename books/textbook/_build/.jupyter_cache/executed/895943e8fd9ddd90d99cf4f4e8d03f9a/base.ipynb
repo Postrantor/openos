{
 "cells": [
  {
   "cell_type": "code",
   "execution_count": 1,
   "id": "94d0a792-04c5-4b8b-9110-6639e45eaa72",
   "metadata": {
    "tags": [
     "remove-cell",
     "remove-input",
     "hide-output"
    ]
   },
   "outputs": [],
   "source": [
    "%run -i ../python/common.py\n",
    "publish=False\n",
    "\n",
    "if not publish:\n",
    "    # cleanup any old state\n",
    "    bashCmds('''[[ -d mydir ]] && rm -rf mydir\n",
    "    [[ -a myfile ]] && rm myfile\n",
    "    [[ -a errors ]] && rm errors \n",
    "    [[ -a mydate ]] && rm mydate\n",
    "    [[ -a mynewdir ]] && rm -rf mynewdir\n",
    "    [[ -a anotherfile ]] && rm anotherfile\n",
    "    [[ -a mybin ]] && rm -rf  mybin\n",
    "    [[ -a myinfo ]] && rm myinfo''')\n",
    "else:\n",
    "    bashCmds('''rm -rf ~/*''')\n",
    "    \n",
    "closeAllOpenTtySessions()\n",
    "\n",
    "generated=\"~/myfile ~/errors ~/mydate ~/mydir ~/mynewdir ~/out\"\n"
   ]
  },
  {
   "cell_type": "code",
   "execution_count": 2,
   "id": "90982c6a-27d3-4520-8913-75825a538aba",
   "metadata": {
    "hide_input": true,
    "tags": [
     "remove-input"
    ]
   },
   "outputs": [],
   "source": [
    "appdir=os.getenv('HOME')\n",
    "appdir=appdir + \"/lec3\"\n",
    "TermShellCmd(\"ls \")\n",
    "output = runTermCmd(\"[[ -d \" + appdir + \" ]] &&  rm -rf \"+ appdir + \n",
    "             \";cp -r ../src/lec3 \" + appdir)\n",
    "\n",
    "# demke - moved starting bash session to here, so it can start with its cwd set to appdir\n",
    "bash = BashSession(cwd=appdir)"
   ]
  },
  {
   "cell_type": "code",
   "execution_count": 3,
   "id": "6d54d9b2-f5bd-426d-8df5-b38ed1c1e7ff",
   "metadata": {
    "tags": [
     "output_scroll",
     "remove-input"
    ]
   },
   "outputs": [
    {
     "data": {
      "application/vnd.jupyter.widget-view+json": {
       "model_id": "add5f27cf4304587aea22799ac31e98b",
       "version_major": 2,
       "version_minor": 0
      },
      "text/plain": [
       "Output(layout=Layout(border_bottom='1px solid black', border_left='1px solid black', border_right='1px solid b…"
      ]
     },
     "execution_count": 3,
     "metadata": {},
     "output_type": "execute_result"
    }
   ],
   "source": [
    "bash.run(\"man 2 write\", height='1in')"
   ]
  },
  {
   "cell_type": "code",
   "execution_count": 4,
   "id": "445b230c-032c-4df6-8d9e-380ec9829c64",
   "metadata": {
    "tags": [
     "output_scroll",
     "remove-input"
    ]
   },
   "outputs": [
    {
     "data": {
      "application/vnd.jupyter.widget-view+json": {
       "model_id": "bdde6b49f1544bfcae00aee072e5e6cf",
       "version_major": 2,
       "version_minor": 0
      },
      "text/plain": [
       "Output(layout=Layout(border_bottom='1px solid black', border_left='1px solid black', border_right='1px solid b…"
      ]
     },
     "execution_count": 4,
     "metadata": {},
     "output_type": "execute_result"
    }
   ],
   "source": [
    "bash.run(\"echo \\\"Hello class\\\"\", height='1in')"
   ]
  },
  {
   "cell_type": "code",
   "execution_count": 5,
   "id": "d6184aac-cd75-4f6d-a4b9-fe59f0633d96",
   "metadata": {
    "tags": [
     "output_scroll",
     "remove-input"
    ]
   },
   "outputs": [
    {
     "data": {
      "application/vnd.jupyter.widget-view+json": {
       "model_id": "57f2cf84204249af9253e849c29d1169",
       "version_major": 2,
       "version_minor": 0
      },
      "text/plain": [
       "Output(layout=Layout(border_bottom='1px solid black', border_left='1px solid black', border_right='1px solid b…"
      ]
     },
     "execution_count": 5,
     "metadata": {},
     "output_type": "execute_result"
    }
   ],
   "source": [
    "bash.run(\"echo \\\"Hello class\\\" > /tmp/reshello\")"
   ]
  },
  {
   "cell_type": "code",
   "execution_count": 6,
   "id": "a55b3059-7e74-4fc8-a52e-205ddeea7386",
   "metadata": {
    "tags": [
     "output_scroll",
     "remove-input"
    ]
   },
   "outputs": [
    {
     "data": {
      "application/vnd.jupyter.widget-view+json": {
       "model_id": "df2558b8f6df4cb7bf678f5bf184d676",
       "version_major": 2,
       "version_minor": 0
      },
      "text/plain": [
       "Output(layout=Layout(border_bottom='1px solid black', border_left='1px solid black', border_right='1px solid b…"
      ]
     },
     "execution_count": 6,
     "metadata": {},
     "output_type": "execute_result"
    }
   ],
   "source": [
    "bash.run('''cat /tmp/reshello''')"
   ]
  },
  {
   "cell_type": "code",
   "execution_count": 7,
   "id": "80ef3824-4a47-4495-8eab-6e7d4ece0209",
   "metadata": {
    "tags": [
     "output_scroll",
     "remove-input"
    ]
   },
   "outputs": [
    {
     "data": {
      "application/vnd.jupyter.widget-view+json": {
       "model_id": "57faad20691a4f6b80e186544f8dacaa",
       "version_major": 2,
       "version_minor": 0
      },
      "text/plain": [
       "Output(layout=Layout(border_bottom='1px solid black', border_left='1px solid black', border_right='1px solid b…"
      ]
     },
     "execution_count": 7,
     "metadata": {},
     "output_type": "execute_result"
    }
   ],
   "source": [
    "bash.run(\"ls /usr/bin/ | grep perl | wc -l\")"
   ]
  },
  {
   "cell_type": "code",
   "execution_count": 8,
   "id": "95701b2b-10c8-4717-a787-d108c0807e59",
   "metadata": {
    "tags": [
     "remove-input"
    ]
   },
   "outputs": [
    {
     "data": {
      "application/vnd.jupyter.widget-view+json": {
       "model_id": "348bdd52fa334b598eccd5406a47d725",
       "version_major": 2,
       "version_minor": 0
      },
      "text/plain": [
       "Output(layout=Layout(border_bottom='1px solid black', border_left='1px solid black', border_right='1px solid b…"
      ]
     },
     "execution_count": 8,
     "metadata": {},
     "output_type": "execute_result"
    }
   ],
   "source": [
    "bash.run('''ls -l /proc/$$/fd/{0..2}''')"
   ]
  },
  {
   "cell_type": "code",
   "execution_count": 9,
   "id": "9e8d3c19-0828-4e27-b437-f0d812154fa7",
   "metadata": {
    "tags": [
     "remove-input"
    ]
   },
   "outputs": [
    {
     "data": {
      "application/vnd.jupyter.widget-view+json": {
       "model_id": "7840dd3e80644f3dad5283ad1603db99",
       "version_major": 2,
       "version_minor": 0
      },
      "text/plain": [
       "Output(layout=Layout(border_bottom='1px solid black', border_left='1px solid black', border_right='1px solid b…"
      ]
     },
     "execution_count": 9,
     "metadata": {},
     "output_type": "execute_result"
    }
   ],
   "source": [
    "bash_pid=bash.getPid()\n",
    "bash_stdout=os.path.realpath(\"/proc/\" + bash_pid.__str__() + \"/fd/1\")\n",
    "bash.run(\"file \" + bash_stdout)"
   ]
  },
  {
   "cell_type": "code",
   "execution_count": 10,
   "id": "fef47c6b-d6c0-4e83-987c-6f75a33fddb3",
   "metadata": {
    "tags": [
     "remove-input"
    ]
   },
   "outputs": [
    {
     "data": {
      "application/vnd.jupyter.widget-view+json": {
       "model_id": "90b9006d4b354c71bb60e2f97905a8ea",
       "version_major": 2,
       "version_minor": 0
      },
      "text/plain": [
       "Output(layout=Layout(border_bottom='1px solid black', border_left='1px solid black', border_right='1px solid b…"
      ]
     },
     "execution_count": 10,
     "metadata": {},
     "output_type": "execute_result"
    }
   ],
   "source": [
    "bash.run(\"echo \\\"hello class\\\" > \" + bash_stdout)"
   ]
  },
  {
   "cell_type": "code",
   "execution_count": 11,
   "id": "10465f2f-af9b-49ba-9b3c-aee9d593c0aa",
   "metadata": {
    "tags": [
     "remove-input"
    ]
   },
   "outputs": [
    {
     "data": {
      "application/vnd.jupyter.widget-view+json": {
       "model_id": "4a2c1789e8f44cb69d8429d6956084dc",
       "version_major": 2,
       "version_minor": 0
      },
      "text/plain": [
       "Output(layout=Layout(border_bottom='1px solid black', border_left='1px solid black', border_right='1px solid b…"
      ]
     },
     "execution_count": 11,
     "metadata": {},
     "output_type": "execute_result"
    }
   ],
   "source": [
    "bash.run(\n",
    "    '''bash\n",
    "bash\n",
    "bash\n",
    "ps -jH''')"
   ]
  },
  {
   "cell_type": "code",
   "execution_count": 12,
   "id": "36906722-4c39-4be4-8ddc-0a70fe9f1205",
   "metadata": {
    "tags": [
     "remove-input",
     "hide-output",
     "remove-cell"
    ]
   },
   "outputs": [
    {
     "data": {
      "text/markdown": [
       "<font size=\"1.2rem\"><b>C: testfork.c</b>\n",
       "<div style=\"width:100%; height:100%; font-size:inherit; overflow: auto;\" >\n",
       "\n",
       "\n",
       "``` \n",
       "0: #include <sys/types.h>\n",
       "1: #include <unistd.h>\n",
       "2: #include <stdio.h>\n",
       "3: #include <stdlib.h>\n",
       "4: \n",
       "5: int\n",
       "6: main(int argc, char* argv[]) \n",
       "7: {\n",
       "8:   pid_t mypid, cpid, ppid;\n",
       "9:   cpid = fork();\n",
       "10:   ppid = getppid();\n",
       "11:   mypid = getpid();\n",
       "12: \n",
       "13:   if (cpid > 0) {\n",
       "14:     /* Parent code */ \n",
       "15:     printf(\"hello, from parent with pid %d, pid of child is %d\\n\", mypid, cpid);\n",
       "16:   } else if (cpid == 0) {\n",
       "17:     /* Child code */\n",
       "18:     printf(\"hello, I am child with pid %d, my parent is %d\\n\", mypid, ppid);\n",
       "19:   } else {\n",
       "20:     perror(\"fork failed\\n\");\n",
       "21:     exit(-1);\n",
       "22:   }\n",
       "23:   return 0;\n",
       "24: } \n",
       "\n",
       "```\n",
       "\n",
       "\n",
       "</div>\n",
       "</font>"
      ],
      "text/plain": [
       "<IPython.core.display.Markdown object>"
      ]
     },
     "metadata": {},
     "output_type": "display_data"
    },
    {
     "data": {
      "application/vnd.jupyter.widget-view+json": {
       "model_id": "2794310256c44986ab7b6c5e234245d4",
       "version_major": 2,
       "version_minor": 0
      },
      "text/plain": [
       "Output(layout=Layout(border_bottom='1px solid black', border_left='1px solid black', border_right='1px solid b…"
      ]
     },
     "execution_count": 12,
     "metadata": {},
     "output_type": "execute_result"
    }
   ],
   "source": [
    "# demke:\n",
    "# \n",
    "# This cell is removed in the html, but displays the code in the Jupyter notebook.\n",
    "#\n",
    "# FOR SOME REASON doesn't work to specify language as c or c++ when generating book, for correct want\n",
    "\n",
    "#display(Markdown('<font size=\"1.2rem\">' + FileCodeBox(\n",
    "#    file=appdir + \"/testfork.c\", \n",
    "#    lang=\"c\", \n",
    "#    number=True,\n",
    "#    title=\"<b>C: testfork.c\",\n",
    "#    h=\"100%\", \n",
    "#    w=\"100%\"\n",
    "# ) + '</font>'))\n",
    "\n",
    "display(Markdown('<font size=\"1.2rem\">' + FileCodeBox(\n",
    "    file=appdir + \"/testfork.c\", \n",
    "    lang=\"\", \n",
    "    number=True,\n",
    "    title=\"<b>C: testfork.c</b>\",\n",
    "    h=\"100%\", \n",
    "    w=\"100%\"\n",
    ") + '</font>'))\n",
    "TermShellCmd(\"[[ -a testfork ]] && rm testfork;make testfork\", cwd=appdir, prompt='', noposttext=True)\n",
    "TermShellCmd(\"./testfork\", cwd=appdir, noposttext=True)"
   ]
  },
  {
   "cell_type": "code",
   "execution_count": 13,
   "id": "c77b4093-4ca8-4860-9ca9-c07643e6ed22",
   "metadata": {
    "tags": [
     "remove-input"
    ]
   },
   "outputs": [
    {
     "data": {
      "application/vnd.jupyter.widget-view+json": {
       "model_id": "7c55d9ac0b7c4df49285d79302339fad",
       "version_major": 2,
       "version_minor": 0
      },
      "text/plain": [
       "Output(layout=Layout(border_bottom='1px solid black', border_left='1px solid black', border_right='1px solid b…"
      ]
     },
     "execution_count": 13,
     "metadata": {},
     "output_type": "execute_result"
    }
   ],
   "source": [
    "bash.runNoOutput(\"[[ -a testfork ]] && rm testfork;make testfork\")\n",
    "bash.run(\"./testfork\")"
   ]
  },
  {
   "cell_type": "code",
   "execution_count": 14,
   "id": "95410822-cae0-42f1-b165-3850cc53a83f",
   "metadata": {
    "tags": [
     "remove-input",
     "remove-cell",
     "hide-output"
    ]
   },
   "outputs": [
    {
     "data": {
      "text/markdown": [
       "<font size=\"1.2rem\"><b> doforke.c: Illustrate use of fork and exec </b>\n",
       "<div style=\"width:100%; height:100%; font-size:inherit; overflow: auto;\" >\n",
       "\n",
       "\n",
       "``` \n",
       "0: #include <sys/types.h>\n",
       "1: #include <unistd.h>\n",
       "2: #include <stdio.h>\n",
       "3: #include <stdlib.h>\n",
       "4: #include <sys/wait.h>\n",
       "5: #include \"doforke.h\"\n",
       "6: \n",
       "7: \n",
       "8: int\n",
       "9: do_fork_exec(char *prog, char *const argv[])\n",
       "10: {\n",
       "11:   pid_t cpid;\n",
       "12:   int status=0;\n",
       "13:   cpid = fork();\n",
       "14:   if (cpid < 0) {\n",
       "15:     perror(\"fork failed\\n\");\n",
       "16:     exit(-1);\n",
       "17:   }\n",
       "18: \n",
       "19:   if (cpid != 0) {\n",
       "20:     // parent code, we need to wait for child\n",
       "21:     waitpid(cpid,&status,0);\n",
       "22:   } else {\n",
       "23:     execve(prog, argv, 0);\n",
       "24:     perror(\"should never get here\\n\");\n",
       "25:   }\n",
       "26:   return status;\n",
       "27: } \n",
       "\n",
       "```\n",
       "\n",
       "\n",
       "</div>\n",
       "</font>"
      ],
      "text/plain": [
       "<IPython.core.display.Markdown object>"
      ]
     },
     "metadata": {},
     "output_type": "display_data"
    }
   ],
   "source": [
    "#This cell is removed in the html, but displays the code in the Jupyter notebook.\n",
    "display(Markdown('<font size=\"1.2rem\">' + FileCodeBox(\n",
    "    file=appdir + \"/doforke.c\", \n",
    "    lang=\"\", \n",
    "    number=True,\n",
    "    title=\"<b> doforke.c: Illustrate use of fork and exec </b>\",\n",
    "    h=\"100%\", \n",
    "    w=\"100%\"\n",
    ") + '</font>'))"
   ]
  },
  {
   "cell_type": "code",
   "execution_count": 15,
   "id": "35b42e63-1a29-496c-869d-e90d6dbd066a",
   "metadata": {
    "tags": [
     "remove-input"
    ]
   },
   "outputs": [
    {
     "data": {
      "application/vnd.jupyter.widget-view+json": {
       "model_id": "98b2817397f847ea94283c41a9bc6abc",
       "version_major": 2,
       "version_minor": 0
      },
      "text/plain": [
       "Output(layout=Layout(border_bottom='1px solid black', border_left='1px solid black', border_right='1px solid b…"
      ]
     },
     "execution_count": 15,
     "metadata": {},
     "output_type": "execute_result"
    }
   ],
   "source": [
    "bash.run(\n",
    "    '''echo $PATH\n",
    "type cat''')"
   ]
  },
  {
   "cell_type": "code",
   "execution_count": 16,
   "id": "b0c28116-c08b-43fb-b1ce-509e8cf2744c",
   "metadata": {
    "tags": [
     "output_scroll",
     "remove-input"
    ]
   },
   "outputs": [
    {
     "data": {
      "application/vnd.jupyter.widget-view+json": {
       "model_id": "cd9e9fc8729149e0a07725c0869b33b7",
       "version_major": 2,
       "version_minor": 0
      },
      "text/plain": [
       "Output(layout=Layout(border_bottom='1px solid black', border_left='1px solid black', border_right='1px solid b…"
      ]
     },
     "execution_count": 16,
     "metadata": {},
     "output_type": "execute_result"
    }
   ],
   "source": [
    "bash.run(\"man 3 exec\", height='1in')"
   ]
  },
  {
   "cell_type": "code",
   "execution_count": 17,
   "id": "5ad2ff92-e2e2-448f-ab6a-5b871f5792df",
   "metadata": {
    "tags": [
     "output_scroll",
     "remove-input"
    ]
   },
   "outputs": [
    {
     "data": {
      "application/vnd.jupyter.widget-view+json": {
       "model_id": "f9cd52da2e61445ea0a1112ffcaea7b0",
       "version_major": 2,
       "version_minor": 0
      },
      "text/plain": [
       "Output(layout=Layout(border_bottom='1px solid black', border_left='1px solid black', border_right='1px solid b…"
      ]
     },
     "execution_count": 17,
     "metadata": {},
     "output_type": "execute_result"
    }
   ],
   "source": [
    "bash.run(\"pwd\", height='1in')"
   ]
  },
  {
   "cell_type": "code",
   "execution_count": 18,
   "id": "0e158de6-282f-4d7f-94a0-719ed4519718",
   "metadata": {
    "tags": [
     "remove-input",
     "hide-output",
     "output_scroll",
     "remove-cell"
    ]
   },
   "outputs": [
    {
     "data": {
      "text/markdown": [
       "                                                                                                                        \n",
       "``` c                                                                                                                     \n",
       "0: #include <sys/types.h>\n",
       "1: #include <sys/wait.h>\n",
       "2: #include <stdio.h>\n",
       "3: #include <stdlib.h>\n",
       "4: #include <unistd.h>\n",
       "5: #include <string.h>\n",
       "6: \n",
       "7: int\n",
       "8: main(int argc, char *argv[])\n",
       "9: {\n",
       "10:   int pipefd[2];\n",
       "11:   pid_t cpid;\n",
       "12:   char buf;\n",
       "13:   \n",
       "14:   if (argc < 2) {\n",
       "15:     fprintf(stderr, \"Usage: %s <string>\\n\", argv[0]);\n",
       "16:     exit(EXIT_FAILURE);\n",
       "17:   }\n",
       "18:   \n",
       "19:   if (pipe(pipefd) == -1) {\n",
       "20:     perror(\"pipe\");\n",
       "21:     exit(EXIT_FAILURE);\n",
       "22:   }\n",
       "23:   \n",
       "24:   cpid = fork();\n",
       "25:   if (cpid == -1) {\n",
       "26:     perror(\"fork\");\n",
       "27:     exit(EXIT_FAILURE);\n",
       "28:   }\n",
       "29:   \n",
       "30:   if (cpid == 0) {    /* Child reads from pipe */\n",
       "31:     // close(pipefd[1]);          /* Close unused write end */\n",
       "32:     \n",
       "33:     while (read(pipefd[0], &buf, 1) > 0)\n",
       "34:       write(STDOUT_FILENO, &buf, 1);\n",
       "35:     \n",
       "36:     write(STDOUT_FILENO, \"\\n\", 1);\n",
       "37:     close(pipefd[0]);\n",
       "38:     _exit(EXIT_SUCCESS);\n",
       "39:     \n",
       "40:   } else {            /* Parent writes argv[1] to pipe */\n",
       "41:     close(pipefd[0]);          /* Close unused read end */\n",
       "42:     write(pipefd[1], argv[1], strlen(argv[1]));\n",
       "43:     close(pipefd[1]);          /* Reader will see EOF */\n",
       "44:     wait(NULL);                /* Wait for child */\n",
       "45:     exit(EXIT_SUCCESS);\n",
       "46:   }\n",
       "47: }\n",
       "                                                                                                                         \n",
       "```                                                                                                                                      \n"
      ],
      "text/plain": [
       "<IPython.core.display.Markdown object>"
      ]
     },
     "metadata": {},
     "output_type": "display_data"
    }
   ],
   "source": [
    "# sigh this doesn't work in book either\n",
    "# This cell is removed in the html, but displays the code listing in the Jupyter notebook. \n",
    "file = appdir + \"/pipe.c\"\n",
    "text_file = open(file, \"r\")\n",
    "data = text_file.read()\n",
    "data = numberLines(data)\n",
    "text_file.close()                                                                                             \n",
    "md_text = '''                                                                                                                        \n",
    "``` ''' + \"c\" + '''                                                                                                                     \n",
    "''' + data + '''                                                                                                                         \n",
    "```                                                                                                                                      \n",
    "'''\n",
    "display (Markdown(md_text))\n",
    "#display (Markdown('<font size=\".5rem\">' + md_text +'</font>'))"
   ]
  },
  {
   "cell_type": "code",
   "execution_count": 19,
   "id": "b20fb27d-6878-4caf-bd27-12a008ce31b2",
   "metadata": {
    "tags": [
     "output_scroll",
     "remove-input"
    ]
   },
   "outputs": [
    {
     "data": {
      "application/vnd.jupyter.widget-view+json": {
       "model_id": "742ddbadaa2f4533b05c622dbcca3754",
       "version_major": 2,
       "version_minor": 0
      },
      "text/plain": [
       "Output(layout=Layout(border_bottom='1px solid black', border_left='1px solid black', border_right='1px solid b…"
      ]
     },
     "execution_count": 19,
     "metadata": {},
     "output_type": "execute_result"
    }
   ],
   "source": [
    "bash.run(\"ls /usr/bin/ | grep perl | wc -l\")"
   ]
  },
  {
   "cell_type": "code",
   "execution_count": 20,
   "id": "5f1d6aae-3ebc-4012-986b-bcafbce5fdf9",
   "metadata": {
    "tags": [
     "output_scroll",
     "remove-input"
    ]
   },
   "outputs": [
    {
     "data": {
      "application/vnd.jupyter.widget-view+json": {
       "model_id": "932d20cb2f934e8e87c871901a0ed7ca",
       "version_major": 2,
       "version_minor": 0
      },
      "text/plain": [
       "Output(layout=Layout(border_bottom='1px solid black', border_left='1px solid black', border_right='1px solid b…"
      ]
     },
     "execution_count": 20,
     "metadata": {},
     "output_type": "execute_result"
    }
   ],
   "source": [
    "# demke - I think it is potentially confusing to show a command here with two '&'s in it -- one for stderr redirection and one for background execution.\n",
    "#bash.run(\"make >& RES &\")\n",
    "bash.run(\"make > RES &\")"
   ]
  }
 ],
 "metadata": {
  "kernelspec": {
   "display_name": "Python 3 (ipykernel)",
   "language": "python",
   "name": "python3"
  },
  "language_info": {
   "codemirror_mode": {
    "name": "ipython",
    "version": 3
   },
   "file_extension": ".py",
   "mimetype": "text/x-python",
   "name": "python",
   "nbconvert_exporter": "python",
   "pygments_lexer": "ipython3",
   "version": "3.12.3"
  },
  "widgets": {
   "application/vnd.jupyter.widget-state+json": {
    "state": {
     "0f430c622d744aa5b031eec05fea7d6d": {
      "model_module": "@jupyter-widgets/base",
      "model_module_version": "2.0.0",
      "model_name": "LayoutModel",
      "state": {
       "_model_module": "@jupyter-widgets/base",
       "_model_module_version": "2.0.0",
       "_model_name": "LayoutModel",
       "_view_count": null,
       "_view_module": "@jupyter-widgets/base",
       "_view_module_version": "2.0.0",
       "_view_name": "LayoutView",
       "align_content": null,
       "align_items": null,
       "align_self": null,
       "border_bottom": "1px solid black",
       "border_left": "1px solid black",
       "border_right": "1px solid black",
       "border_top": "1px solid black",
       "bottom": null,
       "display": null,
       "flex": null,
       "flex_flow": null,
       "grid_area": null,
       "grid_auto_columns": null,
       "grid_auto_flow": null,
       "grid_auto_rows": null,
       "grid_column": null,
       "grid_gap": null,
       "grid_row": null,
       "grid_template_areas": null,
       "grid_template_columns": null,
       "grid_template_rows": null,
       "height": "100%",
       "justify_content": null,
       "justify_items": null,
       "left": null,
       "margin": null,
       "max_height": null,
       "max_width": null,
       "min_height": null,
       "min_width": null,
       "object_fit": null,
       "object_position": null,
       "order": null,
       "overflow": null,
       "padding": null,
       "right": null,
       "top": null,
       "visibility": null,
       "width": null
      }
     },
     "2794310256c44986ab7b6c5e234245d4": {
      "model_module": "@jupyter-widgets/output",
      "model_module_version": "1.0.0",
      "model_name": "OutputModel",
      "state": {
       "_dom_classes": [],
       "_model_module": "@jupyter-widgets/output",
       "_model_module_version": "1.0.0",
       "_model_name": "OutputModel",
       "_view_count": null,
       "_view_module": "@jupyter-widgets/output",
       "_view_module_version": "1.0.0",
       "_view_name": "OutputView",
       "layout": "IPY_MODEL_3616dadfc3d44952ba43d5a0117da532",
       "msg_id": "",
       "outputs": [
        {
         "name": "stdout",
         "output_type": "stream",
         "text": "$ ./testfork\n\r: command not found\r\nbash: /home/trantor/.bashrc: line 6: syntax error near unexpected token `$'in\\r''\r\nbash: /home/trantor/.bashrc: line 6: `case $- in\r'\r\nhello, from parent with pid 11815, pid of child is 11834\r\n"
        }
       ],
       "tabbable": null,
       "tooltip": null
      }
     },
     "345d4db01e934548916e734fc8bf16a1": {
      "model_module": "@jupyter-widgets/base",
      "model_module_version": "2.0.0",
      "model_name": "LayoutModel",
      "state": {
       "_model_module": "@jupyter-widgets/base",
       "_model_module_version": "2.0.0",
       "_model_name": "LayoutModel",
       "_view_count": null,
       "_view_module": "@jupyter-widgets/base",
       "_view_module_version": "2.0.0",
       "_view_name": "LayoutView",
       "align_content": null,
       "align_items": null,
       "align_self": null,
       "border_bottom": "1px solid black",
       "border_left": "1px solid black",
       "border_right": "1px solid black",
       "border_top": "1px solid black",
       "bottom": null,
       "display": null,
       "flex": null,
       "flex_flow": null,
       "grid_area": null,
       "grid_auto_columns": null,
       "grid_auto_flow": null,
       "grid_auto_rows": null,
       "grid_column": null,
       "grid_gap": null,
       "grid_row": null,
       "grid_template_areas": null,
       "grid_template_columns": null,
       "grid_template_rows": null,
       "height": "100%",
       "justify_content": null,
       "justify_items": null,
       "left": null,
       "margin": null,
       "max_height": null,
       "max_width": null,
       "min_height": null,
       "min_width": null,
       "object_fit": null,
       "object_position": null,
       "order": null,
       "overflow": null,
       "padding": null,
       "right": null,
       "top": null,
       "visibility": null,
       "width": null
      }
     },
     "348bdd52fa334b598eccd5406a47d725": {
      "model_module": "@jupyter-widgets/output",
      "model_module_version": "1.0.0",
      "model_name": "OutputModel",
      "state": {
       "_dom_classes": [],
       "_model_module": "@jupyter-widgets/output",
       "_model_module_version": "1.0.0",
       "_model_name": "OutputModel",
       "_view_count": null,
       "_view_module": "@jupyter-widgets/output",
       "_view_module_version": "1.0.0",
       "_view_name": "OutputView",
       "layout": "IPY_MODEL_d470c25b14ae4722bae58e05c61fe13a",
       "msg_id": "",
       "outputs": [
        {
         "name": "stdout",
         "output_type": "stream",
         "text": "$ ls -l /proc/$$/fd/{0..2}\r\nlrwx------ 1 trantor trantor 64 Jul 18 12:29 /proc/11724/fd/0 -> /dev/pts/4\r\nlrwx------ 1 trantor trantor 64 Jul 18 12:29 /proc/11724/fd/1 -> /dev/pts/4\r\nlrwx------ 1 trantor trantor 64 Jul 18 12:29 /proc/11724/fd/2 -> /dev/pts/4\r\ntrantor@P7xxTM1:~/lec3$ "
        }
       ],
       "tabbable": null,
       "tooltip": null
      }
     },
     "3616dadfc3d44952ba43d5a0117da532": {
      "model_module": "@jupyter-widgets/base",
      "model_module_version": "2.0.0",
      "model_name": "LayoutModel",
      "state": {
       "_model_module": "@jupyter-widgets/base",
       "_model_module_version": "2.0.0",
       "_model_name": "LayoutModel",
       "_view_count": null,
       "_view_module": "@jupyter-widgets/base",
       "_view_module_version": "2.0.0",
       "_view_name": "LayoutView",
       "align_content": null,
       "align_items": null,
       "align_self": null,
       "border_bottom": "1px solid black",
       "border_left": "1px solid black",
       "border_right": "1px solid black",
       "border_top": "1px solid black",
       "bottom": null,
       "display": null,
       "flex": null,
       "flex_flow": null,
       "grid_area": null,
       "grid_auto_columns": null,
       "grid_auto_flow": null,
       "grid_auto_rows": null,
       "grid_column": null,
       "grid_gap": null,
       "grid_row": null,
       "grid_template_areas": null,
       "grid_template_columns": null,
       "grid_template_rows": null,
       "height": "100%",
       "justify_content": null,
       "justify_items": null,
       "left": null,
       "margin": null,
       "max_height": null,
       "max_width": null,
       "min_height": null,
       "min_width": null,
       "object_fit": null,
       "object_position": null,
       "order": null,
       "overflow": null,
       "padding": null,
       "right": null,
       "top": null,
       "visibility": null,
       "width": null
      }
     },
     "3e438ff8d9164d8ebb89ae28519565d3": {
      "model_module": "@jupyter-widgets/base",
      "model_module_version": "2.0.0",
      "model_name": "LayoutModel",
      "state": {
       "_model_module": "@jupyter-widgets/base",
       "_model_module_version": "2.0.0",
       "_model_name": "LayoutModel",
       "_view_count": null,
       "_view_module": "@jupyter-widgets/base",
       "_view_module_version": "2.0.0",
       "_view_name": "LayoutView",
       "align_content": null,
       "align_items": null,
       "align_self": null,
       "border_bottom": "1px solid black",
       "border_left": "1px solid black",
       "border_right": "1px solid black",
       "border_top": "1px solid black",
       "bottom": null,
       "display": null,
       "flex": null,
       "flex_flow": null,
       "grid_area": null,
       "grid_auto_columns": null,
       "grid_auto_flow": null,
       "grid_auto_rows": null,
       "grid_column": null,
       "grid_gap": null,
       "grid_row": null,
       "grid_template_areas": null,
       "grid_template_columns": null,
       "grid_template_rows": null,
       "height": "100%",
       "justify_content": null,
       "justify_items": null,
       "left": null,
       "margin": null,
       "max_height": null,
       "max_width": null,
       "min_height": null,
       "min_width": null,
       "object_fit": null,
       "object_position": null,
       "order": null,
       "overflow": null,
       "padding": null,
       "right": null,
       "top": null,
       "visibility": null,
       "width": null
      }
     },
     "436abc6973754814a1fd9a6e39714f7d": {
      "model_module": "@jupyter-widgets/base",
      "model_module_version": "2.0.0",
      "model_name": "LayoutModel",
      "state": {
       "_model_module": "@jupyter-widgets/base",
       "_model_module_version": "2.0.0",
       "_model_name": "LayoutModel",
       "_view_count": null,
       "_view_module": "@jupyter-widgets/base",
       "_view_module_version": "2.0.0",
       "_view_name": "LayoutView",
       "align_content": null,
       "align_items": null,
       "align_self": null,
       "border_bottom": "1px solid black",
       "border_left": "1px solid black",
       "border_right": "1px solid black",
       "border_top": "1px solid black",
       "bottom": null,
       "display": null,
       "flex": null,
       "flex_flow": null,
       "grid_area": null,
       "grid_auto_columns": null,
       "grid_auto_flow": null,
       "grid_auto_rows": null,
       "grid_column": null,
       "grid_gap": null,
       "grid_row": null,
       "grid_template_areas": null,
       "grid_template_columns": null,
       "grid_template_rows": null,
       "height": "100%",
       "justify_content": null,
       "justify_items": null,
       "left": null,
       "margin": null,
       "max_height": null,
       "max_width": null,
       "min_height": null,
       "min_width": null,
       "object_fit": null,
       "object_position": null,
       "order": null,
       "overflow": null,
       "padding": null,
       "right": null,
       "top": null,
       "visibility": null,
       "width": null
      }
     },
     "488a169c942e4385b4aef223ebe18672": {
      "model_module": "@jupyter-widgets/base",
      "model_module_version": "2.0.0",
      "model_name": "LayoutModel",
      "state": {
       "_model_module": "@jupyter-widgets/base",
       "_model_module_version": "2.0.0",
       "_model_name": "LayoutModel",
       "_view_count": null,
       "_view_module": "@jupyter-widgets/base",
       "_view_module_version": "2.0.0",
       "_view_name": "LayoutView",
       "align_content": null,
       "align_items": null,
       "align_self": null,
       "border_bottom": "1px solid black",
       "border_left": "1px solid black",
       "border_right": "1px solid black",
       "border_top": "1px solid black",
       "bottom": null,
       "display": null,
       "flex": null,
       "flex_flow": null,
       "grid_area": null,
       "grid_auto_columns": null,
       "grid_auto_flow": null,
       "grid_auto_rows": null,
       "grid_column": null,
       "grid_gap": null,
       "grid_row": null,
       "grid_template_areas": null,
       "grid_template_columns": null,
       "grid_template_rows": null,
       "height": "100%",
       "justify_content": null,
       "justify_items": null,
       "left": null,
       "margin": null,
       "max_height": null,
       "max_width": null,
       "min_height": null,
       "min_width": null,
       "object_fit": null,
       "object_position": null,
       "order": null,
       "overflow": null,
       "padding": null,
       "right": null,
       "top": null,
       "visibility": null,
       "width": null
      }
     },
     "49103806d1f349828be456f26a7ed874": {
      "model_module": "@jupyter-widgets/base",
      "model_module_version": "2.0.0",
      "model_name": "LayoutModel",
      "state": {
       "_model_module": "@jupyter-widgets/base",
       "_model_module_version": "2.0.0",
       "_model_name": "LayoutModel",
       "_view_count": null,
       "_view_module": "@jupyter-widgets/base",
       "_view_module_version": "2.0.0",
       "_view_name": "LayoutView",
       "align_content": null,
       "align_items": null,
       "align_self": null,
       "border_bottom": "1px solid black",
       "border_left": "1px solid black",
       "border_right": "1px solid black",
       "border_top": "1px solid black",
       "bottom": null,
       "display": null,
       "flex": null,
       "flex_flow": null,
       "grid_area": null,
       "grid_auto_columns": null,
       "grid_auto_flow": null,
       "grid_auto_rows": null,
       "grid_column": null,
       "grid_gap": null,
       "grid_row": null,
       "grid_template_areas": null,
       "grid_template_columns": null,
       "grid_template_rows": null,
       "height": "1in",
       "justify_content": null,
       "justify_items": null,
       "left": null,
       "margin": null,
       "max_height": null,
       "max_width": null,
       "min_height": null,
       "min_width": null,
       "object_fit": null,
       "object_position": null,
       "order": null,
       "overflow": null,
       "padding": null,
       "right": null,
       "top": null,
       "visibility": null,
       "width": null
      }
     },
     "4a2c1789e8f44cb69d8429d6956084dc": {
      "model_module": "@jupyter-widgets/output",
      "model_module_version": "1.0.0",
      "model_name": "OutputModel",
      "state": {
       "_dom_classes": [],
       "_model_module": "@jupyter-widgets/output",
       "_model_module_version": "1.0.0",
       "_model_name": "OutputModel",
       "_view_count": null,
       "_view_module": "@jupyter-widgets/output",
       "_view_module_version": "1.0.0",
       "_view_name": "OutputView",
       "layout": "IPY_MODEL_345d4db01e934548916e734fc8bf16a1",
       "msg_id": "",
       "outputs": [
        {
         "name": "stdout",
         "output_type": "stream",
         "text": "$ bash\r\n\r: command not found\r\nbash: /home/trantor/.bashrc: line 6: syntax error near unexpected token `$'in\\r''\r\nbash: /home/trantor/.bashrc: line 6: `case $- in\r'\r\n\u001b[?2004htrantor@P7xxTM1:~/lec3$ bash\r\n\u001b[?2004l\r\r: command not found\r\nbash: /home/trantor/.bashrc: line 6: syntax error near unexpected token `$'in\\r''\r\nbash: /home/trantor/.bashrc: line 6: `case $- in\r'\r\n\u001b[?2004htrantor@P7xxTM1:~/lec3$ bash\r\n\u001b[?2004l\r\r: command not found\r\nbash: /home/trantor/.bashrc: line 6: syntax error near unexpected token `$'in\\r''\r\nbash: /home/trantor/.bashrc: line 6: `case $- in\r'\r\n\u001b[?2004htrantor@P7xxTM1:~/lec3$ ps -jH\r\n\u001b[?2004l\r  PID  PGID   SID TTY          TIME CMD\r\n11724 11724 11724 pts/4    00:00:00 bash\r\n11763 11763 11724 pts/4    00:00:00   bash\r\n11772 11772 11724 pts/4    00:00:00     bash\r\n11781 11781 11724 pts/4    00:00:00       bash\r\n11790 11790 11724 pts/4    00:00:00         ps\r\n\u001b[?2004htrantor@P7xxTM1:~/lec3$ "
        }
       ],
       "tabbable": null,
       "tooltip": null
      }
     },
     "57f2cf84204249af9253e849c29d1169": {
      "model_module": "@jupyter-widgets/output",
      "model_module_version": "1.0.0",
      "model_name": "OutputModel",
      "state": {
       "_dom_classes": [],
       "_model_module": "@jupyter-widgets/output",
       "_model_module_version": "1.0.0",
       "_model_name": "OutputModel",
       "_view_count": null,
       "_view_module": "@jupyter-widgets/output",
       "_view_module_version": "1.0.0",
       "_view_name": "OutputView",
       "layout": "IPY_MODEL_7eea940460244509b8e76cb30a8dbc34",
       "msg_id": "",
       "outputs": [
        {
         "name": "stdout",
         "output_type": "stream",
         "text": "$ echo \"Hello class\" > /tmp/reshello\r\ntrantor@P7xxTM1:~/lec3$ "
        }
       ],
       "tabbable": null,
       "tooltip": null
      }
     },
     "57faad20691a4f6b80e186544f8dacaa": {
      "model_module": "@jupyter-widgets/output",
      "model_module_version": "1.0.0",
      "model_name": "OutputModel",
      "state": {
       "_dom_classes": [],
       "_model_module": "@jupyter-widgets/output",
       "_model_module_version": "1.0.0",
       "_model_name": "OutputModel",
       "_view_count": null,
       "_view_module": "@jupyter-widgets/output",
       "_view_module_version": "1.0.0",
       "_view_name": "OutputView",
       "layout": "IPY_MODEL_c56dde7a9651417cb1c22d8420087ecc",
       "msg_id": "",
       "outputs": [
        {
         "name": "stdout",
         "output_type": "stream",
         "text": "$ ls /usr/bin/ | grep perl | wc -l\r\n10\r\ntrantor@P7xxTM1:~/lec3$ "
        }
       ],
       "tabbable": null,
       "tooltip": null
      }
     },
     "59aa976669b24c68a8a9480f62d76f5a": {
      "model_module": "@jupyter-widgets/output",
      "model_module_version": "1.0.0",
      "model_name": "OutputModel",
      "state": {
       "_dom_classes": [],
       "_model_module": "@jupyter-widgets/output",
       "_model_module_version": "1.0.0",
       "_model_name": "OutputModel",
       "_view_count": null,
       "_view_module": "@jupyter-widgets/output",
       "_view_module_version": "1.0.0",
       "_view_name": "OutputView",
       "layout": "IPY_MODEL_ff0220ffa24e4d8ba72e0a45c2d7dc74",
       "msg_id": "",
       "outputs": [
        {
         "name": "stdout",
         "output_type": "stream",
         "text": "\n\r: command not found\r\nbash: /home/trantor/.bashrc: line 6: syntax error near unexpected token `$'in\\r''\r\nbash: /home/trantor/.bashrc: line 6: `case $- in\r'\r\nmake[1]: Entering directory '/home/trantor/lec3'\r\ngcc -Werror -Wall -std=gnu99 -O0 -g  -I.    testfork.c   -o testfork\r\nmake[1]: Leaving directory '/home/trantor/lec3'\r\n"
        }
       ],
       "tabbable": null,
       "tooltip": null
      }
     },
     "5c2d7852c86a483ea588d301f79f7848": {
      "model_module": "@jupyter-widgets/base",
      "model_module_version": "2.0.0",
      "model_name": "LayoutModel",
      "state": {
       "_model_module": "@jupyter-widgets/base",
       "_model_module_version": "2.0.0",
       "_model_name": "LayoutModel",
       "_view_count": null,
       "_view_module": "@jupyter-widgets/base",
       "_view_module_version": "2.0.0",
       "_view_name": "LayoutView",
       "align_content": null,
       "align_items": null,
       "align_self": null,
       "border_bottom": "1px solid black",
       "border_left": "1px solid black",
       "border_right": "1px solid black",
       "border_top": "1px solid black",
       "bottom": null,
       "display": null,
       "flex": null,
       "flex_flow": null,
       "grid_area": null,
       "grid_auto_columns": null,
       "grid_auto_flow": null,
       "grid_auto_rows": null,
       "grid_column": null,
       "grid_gap": null,
       "grid_row": null,
       "grid_template_areas": null,
       "grid_template_columns": null,
       "grid_template_rows": null,
       "height": "100%",
       "justify_content": null,
       "justify_items": null,
       "left": null,
       "margin": null,
       "max_height": null,
       "max_width": null,
       "min_height": null,
       "min_width": null,
       "object_fit": null,
       "object_position": null,
       "order": null,
       "overflow": null,
       "padding": null,
       "right": null,
       "top": null,
       "visibility": null,
       "width": null
      }
     },
     "6107b0c4241d488dbba778189f196b76": {
      "model_module": "@jupyter-widgets/base",
      "model_module_version": "2.0.0",
      "model_name": "LayoutModel",
      "state": {
       "_model_module": "@jupyter-widgets/base",
       "_model_module_version": "2.0.0",
       "_model_name": "LayoutModel",
       "_view_count": null,
       "_view_module": "@jupyter-widgets/base",
       "_view_module_version": "2.0.0",
       "_view_name": "LayoutView",
       "align_content": null,
       "align_items": null,
       "align_self": null,
       "border_bottom": "1px solid black",
       "border_left": "1px solid black",
       "border_right": "1px solid black",
       "border_top": "1px solid black",
       "bottom": null,
       "display": null,
       "flex": null,
       "flex_flow": null,
       "grid_area": null,
       "grid_auto_columns": null,
       "grid_auto_flow": null,
       "grid_auto_rows": null,
       "grid_column": null,
       "grid_gap": null,
       "grid_row": null,
       "grid_template_areas": null,
       "grid_template_columns": null,
       "grid_template_rows": null,
       "height": "1in",
       "justify_content": null,
       "justify_items": null,
       "left": null,
       "margin": null,
       "max_height": null,
       "max_width": null,
       "min_height": null,
       "min_width": null,
       "object_fit": null,
       "object_position": null,
       "order": null,
       "overflow": null,
       "padding": null,
       "right": null,
       "top": null,
       "visibility": null,
       "width": null
      }
     },
     "61d54b09161e4ee192ef1798da7047f3": {
      "model_module": "@jupyter-widgets/output",
      "model_module_version": "1.0.0",
      "model_name": "OutputModel",
      "state": {
       "_dom_classes": [],
       "_model_module": "@jupyter-widgets/output",
       "_model_module_version": "1.0.0",
       "_model_name": "OutputModel",
       "_view_count": null,
       "_view_module": "@jupyter-widgets/output",
       "_view_module_version": "1.0.0",
       "_view_name": "OutputView",
       "layout": "IPY_MODEL_0f430c622d744aa5b031eec05fea7d6d",
       "msg_id": "",
       "outputs": [
        {
         "name": "stdout",
         "output_type": "stream",
         "text": "$ ls \n\r: command not found\r\nbash: /home/trantor/.bashrc: line 6: syntax error near unexpected token `$'in\\r''\r\nbash: /home/trantor/.bashrc: line 6: `case $- in\r'\r\nOS-L01.css\t    intro.ipynb        structure.ipynb\t    tools-make.ipynb\r\nOS-L01.ipynb\t    other.ipynb        tools-c.ipynb\t    tools-shell.ipynb\r\nabstractions.ipynb  peter-other.ipynb  tools-editors.ipynb  tools-testing.ipynb\r\ncommon.ipynb\t    pref.ipynb\t       tools-gdb.ipynb\t    tools.ipynb\r\nhistory.ipynb\t    purpose.ipynb      tools-git.ipynb\r\n$ "
        }
       ],
       "tabbable": null,
       "tooltip": null
      }
     },
     "62e24525c99e4f8b80e77a024dfb7e5b": {
      "model_module": "@jupyter-widgets/base",
      "model_module_version": "2.0.0",
      "model_name": "LayoutModel",
      "state": {
       "_model_module": "@jupyter-widgets/base",
       "_model_module_version": "2.0.0",
       "_model_name": "LayoutModel",
       "_view_count": null,
       "_view_module": "@jupyter-widgets/base",
       "_view_module_version": "2.0.0",
       "_view_name": "LayoutView",
       "align_content": null,
       "align_items": null,
       "align_self": null,
       "border_bottom": "1px solid black",
       "border_left": "1px solid black",
       "border_right": "1px solid black",
       "border_top": "1px solid black",
       "bottom": null,
       "display": null,
       "flex": null,
       "flex_flow": null,
       "grid_area": null,
       "grid_auto_columns": null,
       "grid_auto_flow": null,
       "grid_auto_rows": null,
       "grid_column": null,
       "grid_gap": null,
       "grid_row": null,
       "grid_template_areas": null,
       "grid_template_columns": null,
       "grid_template_rows": null,
       "height": "100%",
       "justify_content": null,
       "justify_items": null,
       "left": null,
       "margin": null,
       "max_height": null,
       "max_width": null,
       "min_height": null,
       "min_width": null,
       "object_fit": null,
       "object_position": null,
       "order": null,
       "overflow": null,
       "padding": null,
       "right": null,
       "top": null,
       "visibility": null,
       "width": null
      }
     },
     "742ddbadaa2f4533b05c622dbcca3754": {
      "model_module": "@jupyter-widgets/output",
      "model_module_version": "1.0.0",
      "model_name": "OutputModel",
      "state": {
       "_dom_classes": [],
       "_model_module": "@jupyter-widgets/output",
       "_model_module_version": "1.0.0",
       "_model_name": "OutputModel",
       "_view_count": null,
       "_view_module": "@jupyter-widgets/output",
       "_view_module_version": "1.0.0",
       "_view_name": "OutputView",
       "layout": "IPY_MODEL_436abc6973754814a1fd9a6e39714f7d",
       "msg_id": "",
       "outputs": [
        {
         "name": "stdout",
         "output_type": "stream",
         "text": "$ ls /usr/bin/ | grep perl | wc -l\r\n\u001b[?2004l\r10\r\n\u001b[?2004htrantor@P7xxTM1:~/lec3$ "
        }
       ],
       "tabbable": null,
       "tooltip": null
      }
     },
     "7840dd3e80644f3dad5283ad1603db99": {
      "model_module": "@jupyter-widgets/output",
      "model_module_version": "1.0.0",
      "model_name": "OutputModel",
      "state": {
       "_dom_classes": [],
       "_model_module": "@jupyter-widgets/output",
       "_model_module_version": "1.0.0",
       "_model_name": "OutputModel",
       "_view_count": null,
       "_view_module": "@jupyter-widgets/output",
       "_view_module_version": "1.0.0",
       "_view_name": "OutputView",
       "layout": "IPY_MODEL_488a169c942e4385b4aef223ebe18672",
       "msg_id": "",
       "outputs": [
        {
         "name": "stdout",
         "output_type": "stream",
         "text": "$ file /dev/pts/4\r\n/dev/pts/4: character special (136/4)\r\ntrantor@P7xxTM1:~/lec3$ "
        }
       ],
       "tabbable": null,
       "tooltip": null
      }
     },
     "7c55d9ac0b7c4df49285d79302339fad": {
      "model_module": "@jupyter-widgets/output",
      "model_module_version": "1.0.0",
      "model_name": "OutputModel",
      "state": {
       "_dom_classes": [],
       "_model_module": "@jupyter-widgets/output",
       "_model_module_version": "1.0.0",
       "_model_name": "OutputModel",
       "_view_count": null,
       "_view_module": "@jupyter-widgets/output",
       "_view_module_version": "1.0.0",
       "_view_name": "OutputView",
       "layout": "IPY_MODEL_c3d2e5fd1b444256b9a365774227db7c",
       "msg_id": "",
       "outputs": [
        {
         "name": "stdout",
         "output_type": "stream",
         "text": "$ ./testfork\r\n\u001b[?2004l\rhello, from parent with pid 11842, pid of child is 11843\r\nhello, I am child with pid 11843, my parent is 11842\r\n\u001b[?2004htrantor@P7xxTM1:~/lec3$ "
        }
       ],
       "tabbable": null,
       "tooltip": null
      }
     },
     "7eea940460244509b8e76cb30a8dbc34": {
      "model_module": "@jupyter-widgets/base",
      "model_module_version": "2.0.0",
      "model_name": "LayoutModel",
      "state": {
       "_model_module": "@jupyter-widgets/base",
       "_model_module_version": "2.0.0",
       "_model_name": "LayoutModel",
       "_view_count": null,
       "_view_module": "@jupyter-widgets/base",
       "_view_module_version": "2.0.0",
       "_view_name": "LayoutView",
       "align_content": null,
       "align_items": null,
       "align_self": null,
       "border_bottom": "1px solid black",
       "border_left": "1px solid black",
       "border_right": "1px solid black",
       "border_top": "1px solid black",
       "bottom": null,
       "display": null,
       "flex": null,
       "flex_flow": null,
       "grid_area": null,
       "grid_auto_columns": null,
       "grid_auto_flow": null,
       "grid_auto_rows": null,
       "grid_column": null,
       "grid_gap": null,
       "grid_row": null,
       "grid_template_areas": null,
       "grid_template_columns": null,
       "grid_template_rows": null,
       "height": "100%",
       "justify_content": null,
       "justify_items": null,
       "left": null,
       "margin": null,
       "max_height": null,
       "max_width": null,
       "min_height": null,
       "min_width": null,
       "object_fit": null,
       "object_position": null,
       "order": null,
       "overflow": null,
       "padding": null,
       "right": null,
       "top": null,
       "visibility": null,
       "width": null
      }
     },
     "7fa1f3df51f041b8b894ee94b87f7986": {
      "model_module": "@jupyter-widgets/base",
      "model_module_version": "2.0.0",
      "model_name": "LayoutModel",
      "state": {
       "_model_module": "@jupyter-widgets/base",
       "_model_module_version": "2.0.0",
       "_model_name": "LayoutModel",
       "_view_count": null,
       "_view_module": "@jupyter-widgets/base",
       "_view_module_version": "2.0.0",
       "_view_name": "LayoutView",
       "align_content": null,
       "align_items": null,
       "align_self": null,
       "border_bottom": "1px solid black",
       "border_left": "1px solid black",
       "border_right": "1px solid black",
       "border_top": "1px solid black",
       "bottom": null,
       "display": null,
       "flex": null,
       "flex_flow": null,
       "grid_area": null,
       "grid_auto_columns": null,
       "grid_auto_flow": null,
       "grid_auto_rows": null,
       "grid_column": null,
       "grid_gap": null,
       "grid_row": null,
       "grid_template_areas": null,
       "grid_template_columns": null,
       "grid_template_rows": null,
       "height": "100%",
       "justify_content": null,
       "justify_items": null,
       "left": null,
       "margin": null,
       "max_height": null,
       "max_width": null,
       "min_height": null,
       "min_width": null,
       "object_fit": null,
       "object_position": null,
       "order": null,
       "overflow": null,
       "padding": null,
       "right": null,
       "top": null,
       "visibility": null,
       "width": null
      }
     },
     "88656cf25e0c42ce97cbaf6ee7f2057d": {
      "model_module": "@jupyter-widgets/base",
      "model_module_version": "2.0.0",
      "model_name": "LayoutModel",
      "state": {
       "_model_module": "@jupyter-widgets/base",
       "_model_module_version": "2.0.0",
       "_model_name": "LayoutModel",
       "_view_count": null,
       "_view_module": "@jupyter-widgets/base",
       "_view_module_version": "2.0.0",
       "_view_name": "LayoutView",
       "align_content": null,
       "align_items": null,
       "align_self": null,
       "border_bottom": "1px solid black",
       "border_left": "1px solid black",
       "border_right": "1px solid black",
       "border_top": "1px solid black",
       "bottom": null,
       "display": null,
       "flex": null,
       "flex_flow": null,
       "grid_area": null,
       "grid_auto_columns": null,
       "grid_auto_flow": null,
       "grid_auto_rows": null,
       "grid_column": null,
       "grid_gap": null,
       "grid_row": null,
       "grid_template_areas": null,
       "grid_template_columns": null,
       "grid_template_rows": null,
       "height": "100%",
       "justify_content": null,
       "justify_items": null,
       "left": null,
       "margin": null,
       "max_height": null,
       "max_width": null,
       "min_height": null,
       "min_width": null,
       "object_fit": null,
       "object_position": null,
       "order": null,
       "overflow": null,
       "padding": null,
       "right": null,
       "top": null,
       "visibility": null,
       "width": null
      }
     },
     "90b9006d4b354c71bb60e2f97905a8ea": {
      "model_module": "@jupyter-widgets/output",
      "model_module_version": "1.0.0",
      "model_name": "OutputModel",
      "state": {
       "_dom_classes": [],
       "_model_module": "@jupyter-widgets/output",
       "_model_module_version": "1.0.0",
       "_model_name": "OutputModel",
       "_view_count": null,
       "_view_module": "@jupyter-widgets/output",
       "_view_module_version": "1.0.0",
       "_view_name": "OutputView",
       "layout": "IPY_MODEL_88656cf25e0c42ce97cbaf6ee7f2057d",
       "msg_id": "",
       "outputs": [
        {
         "name": "stdout",
         "output_type": "stream",
         "text": "$ echo \"hello class\" > /dev/pts/4\r\nhello class\r\ntrantor@P7xxTM1:~/lec3$ "
        }
       ],
       "tabbable": null,
       "tooltip": null
      }
     },
     "932d20cb2f934e8e87c871901a0ed7ca": {
      "model_module": "@jupyter-widgets/output",
      "model_module_version": "1.0.0",
      "model_name": "OutputModel",
      "state": {
       "_dom_classes": [],
       "_model_module": "@jupyter-widgets/output",
       "_model_module_version": "1.0.0",
       "_model_name": "OutputModel",
       "_view_count": null,
       "_view_module": "@jupyter-widgets/output",
       "_view_module_version": "1.0.0",
       "_view_name": "OutputView",
       "layout": "IPY_MODEL_7fa1f3df51f041b8b894ee94b87f7986",
       "msg_id": "",
       "outputs": [
        {
         "name": "stdout",
         "output_type": "stream",
         "text": "$ make > RES &\r\n\u001b[?2004l\r[1] 11861\r\n\u001b[?2004htrantor@P7xxTM1:~/lec3$ "
        }
       ],
       "tabbable": null,
       "tooltip": null
      }
     },
     "9470303b0a9448f5818a2158a872d34c": {
      "model_module": "@jupyter-widgets/base",
      "model_module_version": "2.0.0",
      "model_name": "LayoutModel",
      "state": {
       "_model_module": "@jupyter-widgets/base",
       "_model_module_version": "2.0.0",
       "_model_name": "LayoutModel",
       "_view_count": null,
       "_view_module": "@jupyter-widgets/base",
       "_view_module_version": "2.0.0",
       "_view_name": "LayoutView",
       "align_content": null,
       "align_items": null,
       "align_self": null,
       "border_bottom": "1px solid black",
       "border_left": "1px solid black",
       "border_right": "1px solid black",
       "border_top": "1px solid black",
       "bottom": null,
       "display": null,
       "flex": null,
       "flex_flow": null,
       "grid_area": null,
       "grid_auto_columns": null,
       "grid_auto_flow": null,
       "grid_auto_rows": null,
       "grid_column": null,
       "grid_gap": null,
       "grid_row": null,
       "grid_template_areas": null,
       "grid_template_columns": null,
       "grid_template_rows": null,
       "height": "1in",
       "justify_content": null,
       "justify_items": null,
       "left": null,
       "margin": null,
       "max_height": null,
       "max_width": null,
       "min_height": null,
       "min_width": null,
       "object_fit": null,
       "object_position": null,
       "order": null,
       "overflow": null,
       "padding": null,
       "right": null,
       "top": null,
       "visibility": null,
       "width": null
      }
     },
     "98b2817397f847ea94283c41a9bc6abc": {
      "model_module": "@jupyter-widgets/output",
      "model_module_version": "1.0.0",
      "model_name": "OutputModel",
      "state": {
       "_dom_classes": [],
       "_model_module": "@jupyter-widgets/output",
       "_model_module_version": "1.0.0",
       "_model_name": "OutputModel",
       "_view_count": null,
       "_view_module": "@jupyter-widgets/output",
       "_view_module_version": "1.0.0",
       "_view_name": "OutputView",
       "layout": "IPY_MODEL_5c2d7852c86a483ea588d301f79f7848",
       "msg_id": "",
       "outputs": [
        {
         "name": "stdout",
         "output_type": "stream",
         "text": "$ echo $PATH\r\n\u001b[?2004l\r/usr/local/sbin:/usr/local/bin:/usr/sbin:/usr/bin:/sbin:/bin:/usr/games:/usr/local/games:/usr/lib/wsl/lib:/mnt/c/Users/trantor/.vscode-server/bin/0ee08df0cf4527e40edc9aa28f4b5bd38bbff2b2/bin/remote-cli:/mnt/c/Users/trantor/anaconda3:/mnt/c/Users/trantor/anaconda3/Library/mingw-w64/bin:/mnt/c/Users/trantor/anaconda3/Library/usr/bin:/mnt/c/Users/trantor/anaconda3/Library/bin:/mnt/c/Users/trantor/anaconda3/Scripts:/mnt/c/Users/trantor/anaconda3/bin:/mnt/c/Users/trantor/anaconda3/condabin:/mnt/c/Program Files (x86)/VMware/VMware Workstation/bin:/mnt/c/Program Files/NVIDIA GPU Computing Toolkit/CUDA/v12.1/bin:/mnt/c/Program Files/NVIDIA GPU Computing Toolkit/CUDA/v12.1/libnvvp:/mnt/c/Program Files/Microsoft/jdk-11.0.16.101-hotspot/bin:/mnt/c/Windows/system32:/mnt/c/Windows:/mnt/c/Windows/System32/Wbem:/mnt/c/Windows/System32/WindowsPowerShell/v1.0:/mnt/c/Windows/System32/OpenSSH:/mnt/c/Program Files/NVIDIA Corporation/NVIDIA NvDLISR:/mnt/c/Program Files (x86)/NVIDIA Corporation/PhysX/Common:/mnt/c/Program Files/dotnet:/mnt/c/Program Files/Microsoft SQL Server/150/Tools/Binn:/mnt/c/Program Files/Microsoft SQL Server/Client SDK/ODBC/170/Tools/Binn:/mnt/c/Program Files (x86)/Windows Kits/10/Windows Performance Toolkit:/mnt/c/Program Files/Git/cmd:/mnt/c/Program Files/Polyspace/R2024a/polyspace/bin:/mnt/c/Program Files/MATLAB/MATLAB Runtime/R2024a/runtime/win64:/mnt/c/Program Files/MATLAB/R2024a/runtime/win64:/mnt/c/Program Files/MATLAB/R2024a/bin:/mnt/c/Program Files/Microsoft VS Code/bin:/mnt/c/Program Files (x86)/Common Files/Acronis/SnapAPI:/mnt/c/Program Files (x86)/Common Files/Acronis/VirtualFile:/mnt/c/Program Files (x86)/Common Files/Acronis/VirtualFile64:/mnt/c/Program Files (x86)/Common Files/Acronis/FileProtector:/mnt/c/Program Files (x86)/Common Files/Acronis/FileProtector64:/mnt/c/Program Files/Calibre2:/mnt/c/Program Files (x86)/IncrediBuild:/mnt/c/Program Files (x86)/Microsoft SQL Server/150/Tools/Binn:/mnt/c/Program Files/Microsoft SQL Server/150/DTS/Binn:/mnt/c/Program Files (x86)/Windows Kits/8.1/Windows Performance Toolkit:/mnt/c/Program Files/NVIDIA Corporation/Nsight Compute 2023.1.1:/mnt/c/Program Files/Go/bin:/mnt/c/Program Files/gs/gs10.02.1/bin:/mnt/c/Program Files/MATLAB/R2023a/bin:/mnt/c/Program Files/Docker/Docker/resources/bin:/mnt/c/Windows/system32/config/systemprofile/AppData/Local/Microsoft/WindowsApps:/mnt/c/Users/trantor/anaconda3:/mnt/c/Users/trantor/anaconda3/Library/mingw-w64/bin:/mnt/c/Users/trantor/anaconda3/Library/usr/bin:/mnt/c/Users/trantor/anaconda3/Library/bin:/mnt/c/Users/trantor/anaconda3/Scripts:/mnt/f/Protable/Txt/mupdf:/mnt/f/Protable/Txt/pandoc:/mnt/f/Protable/Txt/pandoc/lua-filters:/mnt/f/Protable/Download/aria2:/mnt/f/Protable/Download/wget:/mnt/f/Protable/Code/cygwin64:/mnt/f/Protable/Code/java/bin:/mnt/f/Protable/Code/adb:/mnt/f/Protable/Code/grep:/mnt/f/Protable/Code/bat:/mnt/f/Protable/Code/cpp/cmake/bin:/mnt/c/Protable/Code/cpp/compiler:/mnt/f/Protable/Code/cpp/llvm-mingw/bin:/mnt/c/Protable/Code/bin:/mnt/c/Protable/Code/bin/nssm:/mnt/f/Protable/Code/pyenv/bin:/mnt/f/Protable/Code/format/markdown:/mnt/f/Protable/Serial/putty:/mnt/f/Protable/Media/ffmpeg/bin:/mnt/c/Protable/Media/ncmdump:/mnt/c/Protable/Ruanmei:/mnt/c/Protable/Code/bin/restic:/mnt/c/Protable/Code/bin/llama.cpp:/mnt/c/Program Files/WinRAR:/mnt/c/Program Files/gsudo/2.4.0:/mnt/c/Program Files/DAUM/PotPlayer:/mnt/c/Program Files/WinRAR:/mnt/c/Program Files (x86)/Vim/vim90:/mnt/c/Program Files (x86)/Adobe/Acrobat DC/Acrobat:/mnt/c/Program Files (x86)/VMware/VMware Workstation:/mnt/c/Program Files/7-Zip:/mnt/c/ProgramData/chocolatey/bin:/mnt/c/Users/trantor/AppData/Local/Microsoft/WindowsApps:/mnt/c/Users/trantor/.dotnet/tools:/mnt/c/Program Files/LLVM/bin:/mnt/c/Users/trantor/.dotnet/tools:/mnt/c/Users/trantor/go/bin:/mnt/c/Program Files/gs/gs10.02.1/bin:/mnt/c/Program Files/Git/usr/bin:/mnt/c/Users/trantor/AppData/Local/Programs/Microsoft VS Code/bin:/mnt/c/Protable/Bat/python/caj2pdf:/mnt/c/Protable/Bat/powershell:/mnt/c/Users/trantor/AppData/Local/Programs/Ollama:/snap/bin\r\n\u001b[?2004htrantor@P7xxTM1:~/lec3$ type cat\r\n\u001b[?2004l\rcat is /usr/bin/cat\r\n\u001b[?2004htrantor@P7xxTM1:~/lec3$ "
        }
       ],
       "tabbable": null,
       "tooltip": null
      }
     },
     "add5f27cf4304587aea22799ac31e98b": {
      "model_module": "@jupyter-widgets/output",
      "model_module_version": "1.0.0",
      "model_name": "OutputModel",
      "state": {
       "_dom_classes": [],
       "_model_module": "@jupyter-widgets/output",
       "_model_module_version": "1.0.0",
       "_model_name": "OutputModel",
       "_view_count": null,
       "_view_module": "@jupyter-widgets/output",
       "_view_module_version": "1.0.0",
       "_view_name": "OutputView",
       "layout": "IPY_MODEL_9470303b0a9448f5818a2158a872d34c",
       "msg_id": "",
       "outputs": [
        {
         "name": "stdout",
         "output_type": "stream",
         "text": "$ man 2 write\r\n\u001b[4mwrite\u001b[24m(2)                      System Calls Manual                     \u001b[4mwrite\u001b[24m(2)\r\n\r\n\u001b[1mNAME\u001b[0m\r\n       write - write to a file descriptor\r\n\r\n\u001b[1mLIBRARY\u001b[0m\r\n       Standard C library (\u001b[4mlibc\u001b[24m, \u001b[4m-lc\u001b[24m)\r\n\r\n\u001b[1mSYNOPSIS\u001b[0m\r\n       \u001b[1m#include <unistd.h>\u001b[0m\r\n\r\n       \u001b[1mssize_t write(int \u001b[4m\u001b[22mfd\u001b[24m\u001b[1m, const void \u001b[4m\u001b[22mbuf\u001b[24m\u001b[1m[.\u001b[4m\u001b[22mcount\u001b[24m\u001b[1m], size_t \u001b[4m\u001b[22mcount\u001b[24m\u001b[1m);\u001b[0m\r\n\r\n\u001b[1mDESCRIPTION\u001b[0m\r\n       \u001b[1mwrite\u001b[22m() writes up to \u001b[4mcount\u001b[24m bytes from the buffer starting at \u001b[4mbuf\u001b[24m to the\r\n       file referred to by the file descriptor \u001b[4mfd\u001b[24m.\r\n\r\n       The  number  of  bytes  written may be less than \u001b[4mcount\u001b[24m if, for example,\r\n       there is insufficient space on the underlying physical medium,  or  the\r\n       \u001b[1mRLIMIT_FSIZE  \u001b[22mresource  limit is encountered (see \u001b[1msetrlimit\u001b[22m(2)), or the\r\n       call was interrupted by a signal handler after having written less than\r\n       \u001b[4mcount\u001b[24m bytes.  (See also \u001b[1mpipe\u001b[22m(7).)\r\n\r\n       For a seekable file (i.e., one to which \u001b[1mlseek\u001b[22m(2) may  be  applied,  for\r\n       example,  a  regular  file) writing takes place at the file offset, and\r\n       the file offset is incremented by the number of bytes actually written.\r\n       If the file was \u001b[1mopen\u001b[22m(2)ed with \u001b[1mO_APPEND\u001b[22m, the file offset is  first  set\r\n       to the end of the file before writing.  The adjustment of the file off‐\r\n       set and the write operation are performed as an atomic step.\r\n\r\n       POSIX  requires  that  a  \u001b[1mread\u001b[22m(2)  that  can be proved to occur after a\r\n       \u001b[1mwrite\u001b[22m() has returned will return the  new  data.   Note  that  not  all\r\n       filesystems are POSIX conforming.\r\n\r\n       According to POSIX.1, if \u001b[4mcount\u001b[24m is greater than \u001b[1mSSIZE_MAX\u001b[22m, the result is\r\n       implementation-defined; see NOTES for the upper limit on Linux.\r\n\r\n\u001b[1mRETURN VALUE\u001b[0m\r\n       On  success,  the number of bytes written is returned.  On error, -1 is\r\n       returned, and \u001b[4merrno\u001b[24m is set to indicate the error.\r\n\r\n       Note that a successful \u001b[1mwrite\u001b[22m() may transfer  fewer  than  \u001b[4mcount\u001b[24m  bytes.\r\n       Such partial writes can occur for various reasons; for example, because\r\n       there was insufficient space on the disk device to write all of the re‐\r\n       quested bytes, or because a blocked \u001b[1mwrite\u001b[22m() to a socket, pipe, or simi‐\r\n       lar  was interrupted by a signal handler after it had transferred some,\r\n       but before it had transferred all of the requested bytes.  In the event\r\n       of a partial write, the caller can make another \u001b[1mwrite\u001b[22m() call to  trans‐\r\n       fer the remaining bytes.  The subsequent call will either transfer fur‐\r\n       ther bytes or may result in an error (e.g., if the disk is now full).\r\n\r\n       If  \u001b[4mcount\u001b[24m is zero and \u001b[4mfd\u001b[24m refers to a regular file, then \u001b[1mwrite\u001b[22m() may re‐\r\n       turn a failure status if one of the errors below is  detected.   If  no\r\n       errors are detected, or error detection is not performed, 0 is returned\r\n       without  causing any other effect.  If \u001b[4mcount\u001b[24m is zero and \u001b[4mfd\u001b[24m refers to a\r\n       file other than a regular file, the results are not specified.\r\n\r\n\u001b[1mERRORS\u001b[0m\r\n       \u001b[1mEAGAIN \u001b[22mThe file descriptor \u001b[4mfd\u001b[24m refers to a file other than a socket  and\r\n              has  been  marked  nonblocking (\u001b[1mO_NONBLOCK\u001b[22m), and the write would\r\n              block.  See \u001b[1mopen\u001b[22m(2) for further details on the \u001b[1mO_NONBLOCK \u001b[22mflag.\r\n\r\n       \u001b[1mEAGAIN \u001b[22mor \u001b[1mEWOULDBLOCK\u001b[0m\r\n              The file descriptor \u001b[4mfd\u001b[24m refers to a socket and  has  been  marked\r\n              nonblocking   (\u001b[1mO_NONBLOCK\u001b[22m),   and   the   write   would   block.\r\n              POSIX.1-2001 allows either error to be returned for  this  case,\r\n              and  does not require these constants to have the same value, so\r\n              a portable application should check for both possibilities.\r\n\r\n       \u001b[1mEBADF  \u001b[4m\u001b[22mfd\u001b[24m is not a valid file descriptor or is not open for writing.\r\n\r\n       \u001b[1mEDESTADDRREQ\u001b[0m\r\n              \u001b[4mfd\u001b[24m refers to a datagram socket for which a peer address has  not\r\n              been set using \u001b[1mconnect\u001b[22m(2).\r\n\r\n       \u001b[1mEDQUOT \u001b[22mThe user's quota of disk blocks on the filesystem containing the\r\n              file referred to by \u001b[4mfd\u001b[24m has been exhausted.\r\n\r\n       \u001b[1mEFAULT \u001b[4m\u001b[22mbuf\u001b[24m is outside your accessible address space.\r\n\r\n       \u001b[1mEFBIG  \u001b[22mAn attempt was made to write a file that exceeds the implementa‐\r\n              tion-defined maximum file size or the process's file size limit,\r\n              or to write at a position past the maximum allowed offset.\r\n\r\n       \u001b[1mEINTR  \u001b[22mThe  call  was interrupted by a signal before any data was writ‐\r\n              ten; see \u001b[1msignal\u001b[22m(7).\r\n\r\n       \u001b[1mEINVAL \u001b[4m\u001b[22mfd\u001b[24m is attached to an object which is unsuitable for writing;  or\r\n              the  file  was opened with the \u001b[1mO_DIRECT \u001b[22mflag, and either the ad‐\r\n              dress specified in \u001b[4mbuf\u001b[24m, the value specified  in  \u001b[4mcount\u001b[24m,  or  the\r\n              file offset is not suitably aligned.\r\n\r\n       \u001b[1mEIO    \u001b[22mA  low-level I/O error occurred while modifying the inode.  This\r\n              error may relate to the write-back of data written by an earlier\r\n              \u001b[1mwrite\u001b[22m(), which may have been issued to a different file descrip‐\r\n              tor on the same file.  Since Linux 4.13, errors from  write-back\r\n              come  with  a  promise  that they \u001b[4mmay\u001b[24m be reported by subsequent.\r\n              \u001b[1mwrite\u001b[22m() requests, and \u001b[4mwill\u001b[24m be reported by a subsequent  \u001b[1mfsync\u001b[22m(2)\r\n              (whether  or not they were also reported by \u001b[1mwrite\u001b[22m()).  An alter‐\r\n              nate cause of \u001b[1mEIO \u001b[22mon networked filesystems is when  an  advisory\r\n              lock had been taken out on the file descriptor and this lock has\r\n              been  lost.   See the \u001b[4mLost\u001b[24m \u001b[4mlocks\u001b[24m section of \u001b[1mfcntl\u001b[22m(2) for further\r\n              details.\r\n\r\n       \u001b[1mENOSPC \u001b[22mThe device containing the file referred to by \u001b[4mfd\u001b[24m has no room for\r\n              the data.\r\n\r\n       \u001b[1mEPERM  \u001b[22mThe operation was prevented by a file seal; see \u001b[1mfcntl\u001b[22m(2).\r\n\r\n       \u001b[1mEPIPE  \u001b[4m\u001b[22mfd\u001b[24m is connected to a pipe or socket whose reading end is closed.\r\n              When this happens the writing process will also receive  a  \u001b[1mSIG‐\u001b[0m\r\n              \u001b[1mPIPE  \u001b[22msignal.  (Thus, the write return value is seen only if the\r\n              program catches, blocks or ignores this signal.)\r\n\r\n       Other errors may occur, depending on the object connected to \u001b[4mfd\u001b[24m.\r\n\r\n\u001b[1mSTANDARDS\u001b[0m\r\n       POSIX.1-2008.\r\n\r\n\u001b[1mHISTORY\u001b[0m\r\n       SVr4, 4.3BSD, POSIX.1-2001.\r\n\r\n       Under SVr4 a write may be interrupted and return \u001b[1mEINTR  \u001b[22mat  any  point,\r\n       not just before any data is written.\r\n\r\n\u001b[1mNOTES\u001b[0m\r\n       A  successful return from \u001b[1mwrite\u001b[22m() does not make any guarantee that data\r\n       has been committed to disk.  On some  filesystems,  including  NFS,  it\r\n       does  not  even guarantee that space has successfully been reserved for\r\n       the data.  In this case, some errors might be delayed  until  a  future\r\n       \u001b[1mwrite\u001b[22m(),  \u001b[1mfsync\u001b[22m(2),  or  even  \u001b[1mclose\u001b[22m(2).  The only way to be sure is to\r\n       call \u001b[1mfsync\u001b[22m(2) after you are done writing all your data.\r\n\r\n       If a \u001b[1mwrite\u001b[22m() is interrupted by a signal handler before  any  bytes  are\r\n       written, then the call fails with the error \u001b[1mEINTR\u001b[22m; if it is interrupted\r\n       after  at  least  one byte has been written, the call succeeds, and re‐\r\n       turns the number of bytes written.\r\n\r\n       On Linux, \u001b[1mwrite\u001b[22m() (and similar system  calls)  will  transfer  at  most\r\n       0x7ffff000  (2,147,479,552)  bytes, returning the number of bytes actu‐\r\n       ally transferred.  (This is true on both 32-bit and 64-bit systems.)\r\n\r\n       An error return value while performing \u001b[1mwrite\u001b[22m() using  direct  I/O  does\r\n       not  mean the entire write has failed.  Partial data may be written and\r\n       the data at the file offset on which the \u001b[1mwrite\u001b[22m() was  attempted  should\r\n       be considered inconsistent.\r\n\r\n\u001b[1mBUGS\u001b[0m\r\n       According to POSIX.1-2008/SUSv4 Section XSI 2.9.7 (\"Thread Interactions\r\n       with Regular File Operations\"):\r\n\r\n           All of the following functions shall be atomic with respect to each\r\n           other in the effects specified in POSIX.1-2008 when they operate on\r\n           regular files or symbolic links: ...\r\n\r\n       Among  the  APIs  subsequently  listed  are \u001b[1mwrite\u001b[22m() and \u001b[1mwritev\u001b[22m(2).  And\r\n       among the effects that should be atomic across threads (and  processes)\r\n       are  updates  of the file offset.  However, before Linux 3.14, this was\r\n       not the case: if two processes that share an open file description (see\r\n       \u001b[1mopen\u001b[22m(2)) perform a \u001b[1mwrite\u001b[22m() (or \u001b[1mwritev\u001b[22m(2)) at the same  time,  then  the\r\n       I/O  operations  were not atomic with respect to updating the file off‐\r\n       set, with the result  that  the  blocks  of  data  output  by  the  two\r\n       processes might (incorrectly) overlap.  This problem was fixed in Linux\r\n       3.14.\r\n\r\n\u001b[1mSEE ALSO\u001b[0m\r\n       \u001b[1mclose\u001b[22m(2),  \u001b[1mfcntl\u001b[22m(2),  \u001b[1mfsync\u001b[22m(2), \u001b[1mioctl\u001b[22m(2), \u001b[1mlseek\u001b[22m(2), \u001b[1mopen\u001b[22m(2), \u001b[1mpwrite\u001b[22m(2),\r\n       \u001b[1mread\u001b[22m(2), \u001b[1mselect\u001b[22m(2), \u001b[1mwritev\u001b[22m(2), \u001b[1mfwrite\u001b[22m(3)\r\n\r\nLinux man-pages 6.7               2023-10-31                          \u001b[4mwrite\u001b[24m(2)\r\ntrantor@P7xxTM1:~/lec3$ "
        }
       ],
       "tabbable": null,
       "tooltip": null
      }
     },
     "bdde6b49f1544bfcae00aee072e5e6cf": {
      "model_module": "@jupyter-widgets/output",
      "model_module_version": "1.0.0",
      "model_name": "OutputModel",
      "state": {
       "_dom_classes": [],
       "_model_module": "@jupyter-widgets/output",
       "_model_module_version": "1.0.0",
       "_model_name": "OutputModel",
       "_view_count": null,
       "_view_module": "@jupyter-widgets/output",
       "_view_module_version": "1.0.0",
       "_view_name": "OutputView",
       "layout": "IPY_MODEL_49103806d1f349828be456f26a7ed874",
       "msg_id": "",
       "outputs": [
        {
         "name": "stdout",
         "output_type": "stream",
         "text": "$ echo \"Hello class\"\r\nHello class\r\ntrantor@P7xxTM1:~/lec3$ "
        }
       ],
       "tabbable": null,
       "tooltip": null
      }
     },
     "c3d2e5fd1b444256b9a365774227db7c": {
      "model_module": "@jupyter-widgets/base",
      "model_module_version": "2.0.0",
      "model_name": "LayoutModel",
      "state": {
       "_model_module": "@jupyter-widgets/base",
       "_model_module_version": "2.0.0",
       "_model_name": "LayoutModel",
       "_view_count": null,
       "_view_module": "@jupyter-widgets/base",
       "_view_module_version": "2.0.0",
       "_view_name": "LayoutView",
       "align_content": null,
       "align_items": null,
       "align_self": null,
       "border_bottom": "1px solid black",
       "border_left": "1px solid black",
       "border_right": "1px solid black",
       "border_top": "1px solid black",
       "bottom": null,
       "display": null,
       "flex": null,
       "flex_flow": null,
       "grid_area": null,
       "grid_auto_columns": null,
       "grid_auto_flow": null,
       "grid_auto_rows": null,
       "grid_column": null,
       "grid_gap": null,
       "grid_row": null,
       "grid_template_areas": null,
       "grid_template_columns": null,
       "grid_template_rows": null,
       "height": "100%",
       "justify_content": null,
       "justify_items": null,
       "left": null,
       "margin": null,
       "max_height": null,
       "max_width": null,
       "min_height": null,
       "min_width": null,
       "object_fit": null,
       "object_position": null,
       "order": null,
       "overflow": null,
       "padding": null,
       "right": null,
       "top": null,
       "visibility": null,
       "width": null
      }
     },
     "c56dde7a9651417cb1c22d8420087ecc": {
      "model_module": "@jupyter-widgets/base",
      "model_module_version": "2.0.0",
      "model_name": "LayoutModel",
      "state": {
       "_model_module": "@jupyter-widgets/base",
       "_model_module_version": "2.0.0",
       "_model_name": "LayoutModel",
       "_view_count": null,
       "_view_module": "@jupyter-widgets/base",
       "_view_module_version": "2.0.0",
       "_view_name": "LayoutView",
       "align_content": null,
       "align_items": null,
       "align_self": null,
       "border_bottom": "1px solid black",
       "border_left": "1px solid black",
       "border_right": "1px solid black",
       "border_top": "1px solid black",
       "bottom": null,
       "display": null,
       "flex": null,
       "flex_flow": null,
       "grid_area": null,
       "grid_auto_columns": null,
       "grid_auto_flow": null,
       "grid_auto_rows": null,
       "grid_column": null,
       "grid_gap": null,
       "grid_row": null,
       "grid_template_areas": null,
       "grid_template_columns": null,
       "grid_template_rows": null,
       "height": "100%",
       "justify_content": null,
       "justify_items": null,
       "left": null,
       "margin": null,
       "max_height": null,
       "max_width": null,
       "min_height": null,
       "min_width": null,
       "object_fit": null,
       "object_position": null,
       "order": null,
       "overflow": null,
       "padding": null,
       "right": null,
       "top": null,
       "visibility": null,
       "width": null
      }
     },
     "cd9e9fc8729149e0a07725c0869b33b7": {
      "model_module": "@jupyter-widgets/output",
      "model_module_version": "1.0.0",
      "model_name": "OutputModel",
      "state": {
       "_dom_classes": [],
       "_model_module": "@jupyter-widgets/output",
       "_model_module_version": "1.0.0",
       "_model_name": "OutputModel",
       "_view_count": null,
       "_view_module": "@jupyter-widgets/output",
       "_view_module_version": "1.0.0",
       "_view_name": "OutputView",
       "layout": "IPY_MODEL_da426875cb46469cb821f2a8b65a4f14",
       "msg_id": "",
       "outputs": [
        {
         "name": "stdout",
         "output_type": "stream",
         "text": "$ man 3 exec\r\n\u001b[?2004l\r\u001b[4mexec\u001b[24m(3)                    Library Functions Manual                    \u001b[4mexec\u001b[24m(3)\r\n\r\n\u001b[1mNAME\u001b[0m\r\n       execl, execlp, execle, execv, execvp, execvpe - execute a file\r\n\r\n\u001b[1mLIBRARY\u001b[0m\r\n       Standard C library (\u001b[4mlibc\u001b[24m, \u001b[4m-lc\u001b[24m)\r\n\r\n\u001b[1mSYNOPSIS\u001b[0m\r\n       \u001b[1m#include <unistd.h>\u001b[0m\r\n\r\n       \u001b[1mextern char **environ;\u001b[0m\r\n\r\n       \u001b[1mint execl(const char *\u001b[4m\u001b[22mpathname\u001b[24m\u001b[1m, const char *\u001b[4m\u001b[22marg\u001b[24m\u001b[1m, ...\u001b[0m\r\n                       \u001b[1m/*, (char *) NULL */);\u001b[0m\r\n       \u001b[1mint execlp(const char *\u001b[4m\u001b[22mfile\u001b[24m\u001b[1m, const char *\u001b[4m\u001b[22marg\u001b[24m\u001b[1m, ...\u001b[0m\r\n                       \u001b[1m/*, (char *) NULL */);\u001b[0m\r\n       \u001b[1mint execle(const char *\u001b[4m\u001b[22mpathname\u001b[24m\u001b[1m, const char *\u001b[4m\u001b[22marg\u001b[24m\u001b[1m, ...\u001b[0m\r\n                       \u001b[1m/*, (char *) NULL, char *const \u001b[4m\u001b[22menvp\u001b[24m\u001b[1m[] */);\u001b[0m\r\n       \u001b[1mint execv(const char *\u001b[4m\u001b[22mpathname\u001b[24m\u001b[1m, char *const \u001b[4m\u001b[22margv\u001b[24m\u001b[1m[]);\u001b[0m\r\n       \u001b[1mint execvp(const char *\u001b[4m\u001b[22mfile\u001b[24m\u001b[1m, char *const \u001b[4m\u001b[22margv\u001b[24m\u001b[1m[]);\u001b[0m\r\n       \u001b[1mint execvpe(const char *\u001b[4m\u001b[22mfile\u001b[24m\u001b[1m, char *const \u001b[4m\u001b[22margv\u001b[24m\u001b[1m[], char *const \u001b[4m\u001b[22menvp\u001b[24m\u001b[1m[]);\u001b[0m\r\n\r\n   Feature Test Macro Requirements for glibc (see \u001b[1mfeature_test_macros\u001b[22m(7)):\r\n\r\n       \u001b[1mexecvpe\u001b[22m():\r\n           _GNU_SOURCE\r\n\r\n\u001b[1mDESCRIPTION\u001b[0m\r\n       The  \u001b[1mexec\u001b[22m() family of functions replaces the current process image with\r\n       a new process image.  The functions described in this manual  page  are\r\n       layered  on  top  of \u001b[1mexecve\u001b[22m(2).  (See the manual page for \u001b[1mexecve\u001b[22m(2) for\r\n       further details about the replacement of the current process image.)\r\n\r\n       The initial argument for these functions is the name of a file that  is\r\n       to be executed.\r\n\r\n       The  functions can be grouped based on the letters following the \"exec\"\r\n       prefix.\r\n\r\n   \u001b[1ml - execl(), execlp(), execle()\u001b[0m\r\n       The \u001b[4mconst\u001b[24m \u001b[4mchar\u001b[24m \u001b[4m*arg\u001b[24m and subsequent ellipses can be thought of as  \u001b[4marg0\u001b[24m,\r\n       \u001b[4marg1\u001b[24m, ..., \u001b[4margn\u001b[24m.  Together they describe a list of one or more pointers\r\n       to  null-terminated  strings that represent the argument list available\r\n       to the executed program.  The first  argument,  by  convention,  should\r\n       point  to  the  filename  associated with the file being executed.  The\r\n       list of arguments \u001b[4mmust\u001b[24m be terminated by  a  null  pointer,  and,  since\r\n       these are variadic functions, this pointer must be cast \u001b[4m(char\u001b[24m \u001b[4m*)\u001b[24m \u001b[4mNULL\u001b[24m.\r\n\r\n       By  contrast  with the 'l' functions, the 'v' functions (below) specify\r\n       the command-line arguments of the executed program as a vector.\r\n\r\n   \u001b[1mv - execv(), execvp(), execvpe()\u001b[0m\r\n       The \u001b[4mchar\u001b[24m \u001b[4m*const\u001b[24m \u001b[4margv[]\u001b[24m argument is an array of pointers to  null-termi‐\r\n       nated  strings  that  represent  the argument list available to the new\r\n       program.  The first argument, by convention, should point to the  file‐\r\n       name  associated  with  the file being executed.  The array of pointers\r\n       \u001b[4mmust\u001b[24m be terminated by a null pointer.\r\n\r\n   \u001b[1me - execle(), execvpe()\u001b[0m\r\n       The environment of the new process image is specified via the  argument\r\n       \u001b[4menvp\u001b[24m.   The  \u001b[4menvp\u001b[24m  argument  is an array of pointers to null-terminated\r\n       strings and \u001b[4mmust\u001b[24m be terminated by a null pointer.\r\n\r\n       All other \u001b[1mexec\u001b[22m() functions (which do not include  'e'  in  the  suffix)\r\n       take  the environment for the new process image from the external vari‐\r\n       able \u001b[4menviron\u001b[24m in the calling process.\r\n\r\n   \u001b[1mp - execlp(), execvp(), execvpe()\u001b[0m\r\n       These functions duplicate the actions of the shell in searching for  an\r\n       executable  file if the specified filename does not contain a slash (/)\r\n       character.  The file is sought in the colon-separated list of directory\r\n       pathnames specified in the \u001b[1mPATH \u001b[22menvironment variable.  If this variable\r\n       isn't defined, the path list defaults to a list that includes  the  di‐\r\n       rectories  returned  by  \u001b[4mconfstr(_CS_PATH)\u001b[24m (which typically returns the\r\n       value \"/bin:/usr/bin\") and possibly also the current working directory;\r\n       see NOTES for further details.\r\n\r\n       \u001b[1mexecvpe\u001b[22m() searches for the program using the value  of  \u001b[1mPATH  \u001b[22mfrom  the\r\n       caller's environment, not from the \u001b[4menvp\u001b[24m argument.\r\n\r\n       If  the specified filename includes a slash character, then \u001b[1mPATH \u001b[22mis ig‐\r\n       nored, and the file at the specified pathname is executed.\r\n\r\n       In addition, certain errors are treated specially.\r\n\r\n       If permission is denied for a file (the attempted \u001b[1mexecve\u001b[22m(2) failed with\r\n       the error \u001b[1mEACCES\u001b[22m), these functions will continue searching the rest  of\r\n       the  search path.  If no other file is found, however, they will return\r\n       with \u001b[4merrno\u001b[24m set to \u001b[1mEACCES\u001b[22m.\r\n\r\n       If the header of a  file  isn't  recognized  (the  attempted  \u001b[1mexecve\u001b[22m(2)\r\n       failed  with the error \u001b[1mENOEXEC\u001b[22m), these functions will execute the shell\r\n       (\u001b[4m/bin/sh\u001b[24m) with the path of the file as its first  argument.   (If  this\r\n       attempt fails, no further searching is done.)\r\n\r\n       All  other  \u001b[1mexec\u001b[22m()  functions  (which do not include 'p' in the suffix)\r\n       take as their first argument a (relative  or  absolute)  pathname  that\r\n       identifies the program to be executed.\r\n\r\n\u001b[1mRETURN VALUE\u001b[0m\r\n       The  \u001b[1mexec\u001b[22m() functions return only if an error has occurred.  The return\r\n       value is -1, and \u001b[4merrno\u001b[24m is set to indicate the error.\r\n\r\n\u001b[1mERRORS\u001b[0m\r\n       All of these functions may fail and set \u001b[4merrno\u001b[24m for  any  of  the  errors\r\n       specified for \u001b[1mexecve\u001b[22m(2).\r\n\r\n\u001b[1mATTRIBUTES\u001b[0m\r\n       For  an  explanation  of  the  terms  used in this section, see \u001b[1mattrib‐\u001b[0m\r\n       \u001b[1mutes\u001b[22m(7).\r\n       ┌───────────────────────────────────────┬───────────────┬─────────────┐\r\n       │ \u001b[1mInterface                             \u001b[22m│ \u001b[1mAttribute     \u001b[22m│ \u001b[1mValue       \u001b[22m│\r\n       ├───────────────────────────────────────┼───────────────┼─────────────┤\r\n       │ \u001b[1mexecl\u001b[22m(), \u001b[1mexecle\u001b[22m(), \u001b[1mexecv\u001b[22m()            │ Thread safety │ MT-Safe     │\r\n       ├───────────────────────────────────────┼───────────────┼─────────────┤\r\n       │ \u001b[1mexeclp\u001b[22m(), \u001b[1mexecvp\u001b[22m(), \u001b[1mexecvpe\u001b[22m()         │ Thread safety │ MT-Safe env │\r\n       └───────────────────────────────────────┴───────────────┴─────────────┘\r\n\r\n\u001b[1mVERSIONS\u001b[0m\r\n       The default search path (used when the environment does not contain the\r\n       variable \u001b[1mPATH\u001b[22m) shows some variation across systems.  It  generally  in‐\r\n       cludes  \u001b[4m/bin\u001b[24m and \u001b[4m/usr/bin\u001b[24m (in that order) and may also include the cur‐\r\n       rent working directory.  On some other systems, the current working  is\r\n       included after \u001b[4m/bin\u001b[24m and \u001b[4m/usr/bin\u001b[24m, as an anti-Trojan-horse measure.  The\r\n       glibc  implementation  long  followed the traditional default where the\r\n       current working directory is included at the start of the search  path.\r\n       However,  some  code  refactoring  during the development of glibc 2.24\r\n       caused the current working directory to be dropped altogether from  the\r\n       default  search  path.   This  accidental behavior change is considered\r\n       mildly beneficial, and won't be reverted.\r\n\r\n       The behavior of \u001b[1mexeclp\u001b[22m() and \u001b[1mexecvp\u001b[22m() when errors occur while  attempt‐\r\n       ing to execute the file is historic practice, but has not traditionally\r\n       been  documented  and is not specified by the POSIX standard.  BSD (and\r\n       possibly other systems) do an automatic sleep and retry if  \u001b[1mETXTBSY  \u001b[22mis\r\n       encountered.  Linux treats it as a hard error and returns immediately.\r\n\r\n       Traditionally,  the  functions \u001b[1mexeclp\u001b[22m() and \u001b[1mexecvp\u001b[22m() ignored all errors\r\n       except for the ones described above and \u001b[1mENOMEM \u001b[22mand  \u001b[1mE2BIG\u001b[22m,  upon  which\r\n       they  returned.   They  now return if any error other than the ones de‐\r\n       scribed above occurs.\r\n\r\n\u001b[1mSTANDARDS\u001b[0m\r\n       \u001b[1menviron\u001b[0m\r\n       \u001b[1mexecl\u001b[22m()\r\n       \u001b[1mexeclp\u001b[22m()\r\n       \u001b[1mexecle\u001b[22m()\r\n       \u001b[1mexecv\u001b[22m()\r\n       \u001b[1mexecvp\u001b[22m()\r\n              POSIX.1-2008.\r\n\r\n       \u001b[1mexecvpe\u001b[22m()\r\n              GNU.\r\n\r\n\u001b[1mHISTORY\u001b[0m\r\n       \u001b[1menviron\u001b[0m\r\n       \u001b[1mexecl\u001b[22m()\r\n       \u001b[1mexeclp\u001b[22m()\r\n       \u001b[1mexecle\u001b[22m()\r\n       \u001b[1mexecv\u001b[22m()\r\n       \u001b[1mexecvp\u001b[22m()\r\n              POSIX.1-2001.\r\n\r\n       \u001b[1mexecvpe\u001b[22m()\r\n              glibc 2.11.\r\n\r\n\u001b[1mBUGS\u001b[0m\r\n       Before glibc 2.24, \u001b[1mexecl\u001b[22m() and \u001b[1mexecle\u001b[22m() employed \u001b[1mrealloc\u001b[22m(3)  internally\r\n       and  were  consequently  not async-signal-safe, in violation of the re‐\r\n       quirements of POSIX.1.  This was fixed in glibc 2.24.\r\n\r\n   \u001b[1mArchitecture-specific details\u001b[0m\r\n       On sparc and sparc64, \u001b[1mexecv\u001b[22m() is provided as a system call by the  ker‐\r\n       nel  (with  the  prototype  shown  above) for compatibility with SunOS.\r\n       This function is \u001b[4mnot\u001b[24m employed by the \u001b[1mexecv\u001b[22m() wrapper function on  those\r\n       architectures.\r\n\r\n\u001b[1mSEE ALSO\u001b[0m\r\n       \u001b[1msh\u001b[22m(1),  \u001b[1mexecve\u001b[22m(2),  \u001b[1mexecveat\u001b[22m(2),  \u001b[1mfork\u001b[22m(2),  \u001b[1mptrace\u001b[22m(2), \u001b[1mfexecve\u001b[22m(3), \u001b[1msys‐\u001b[0m\r\n       \u001b[1mtem\u001b[22m(3), \u001b[1menviron\u001b[22m(7)\r\n\r\nLinux man-pages 6.7               2023-10-31                           \u001b[4mexec\u001b[24m(3)\r\n\u001b[?2004htrantor@P7xxTM1:~/lec3$ "
        }
       ],
       "tabbable": null,
       "tooltip": null
      }
     },
     "d470c25b14ae4722bae58e05c61fe13a": {
      "model_module": "@jupyter-widgets/base",
      "model_module_version": "2.0.0",
      "model_name": "LayoutModel",
      "state": {
       "_model_module": "@jupyter-widgets/base",
       "_model_module_version": "2.0.0",
       "_model_name": "LayoutModel",
       "_view_count": null,
       "_view_module": "@jupyter-widgets/base",
       "_view_module_version": "2.0.0",
       "_view_name": "LayoutView",
       "align_content": null,
       "align_items": null,
       "align_self": null,
       "border_bottom": "1px solid black",
       "border_left": "1px solid black",
       "border_right": "1px solid black",
       "border_top": "1px solid black",
       "bottom": null,
       "display": null,
       "flex": null,
       "flex_flow": null,
       "grid_area": null,
       "grid_auto_columns": null,
       "grid_auto_flow": null,
       "grid_auto_rows": null,
       "grid_column": null,
       "grid_gap": null,
       "grid_row": null,
       "grid_template_areas": null,
       "grid_template_columns": null,
       "grid_template_rows": null,
       "height": "100%",
       "justify_content": null,
       "justify_items": null,
       "left": null,
       "margin": null,
       "max_height": null,
       "max_width": null,
       "min_height": null,
       "min_width": null,
       "object_fit": null,
       "object_position": null,
       "order": null,
       "overflow": null,
       "padding": null,
       "right": null,
       "top": null,
       "visibility": null,
       "width": null
      }
     },
     "da426875cb46469cb821f2a8b65a4f14": {
      "model_module": "@jupyter-widgets/base",
      "model_module_version": "2.0.0",
      "model_name": "LayoutModel",
      "state": {
       "_model_module": "@jupyter-widgets/base",
       "_model_module_version": "2.0.0",
       "_model_name": "LayoutModel",
       "_view_count": null,
       "_view_module": "@jupyter-widgets/base",
       "_view_module_version": "2.0.0",
       "_view_name": "LayoutView",
       "align_content": null,
       "align_items": null,
       "align_self": null,
       "border_bottom": "1px solid black",
       "border_left": "1px solid black",
       "border_right": "1px solid black",
       "border_top": "1px solid black",
       "bottom": null,
       "display": null,
       "flex": null,
       "flex_flow": null,
       "grid_area": null,
       "grid_auto_columns": null,
       "grid_auto_flow": null,
       "grid_auto_rows": null,
       "grid_column": null,
       "grid_gap": null,
       "grid_row": null,
       "grid_template_areas": null,
       "grid_template_columns": null,
       "grid_template_rows": null,
       "height": "1in",
       "justify_content": null,
       "justify_items": null,
       "left": null,
       "margin": null,
       "max_height": null,
       "max_width": null,
       "min_height": null,
       "min_width": null,
       "object_fit": null,
       "object_position": null,
       "order": null,
       "overflow": null,
       "padding": null,
       "right": null,
       "top": null,
       "visibility": null,
       "width": null
      }
     },
     "df2558b8f6df4cb7bf678f5bf184d676": {
      "model_module": "@jupyter-widgets/output",
      "model_module_version": "1.0.0",
      "model_name": "OutputModel",
      "state": {
       "_dom_classes": [],
       "_model_module": "@jupyter-widgets/output",
       "_model_module_version": "1.0.0",
       "_model_name": "OutputModel",
       "_view_count": null,
       "_view_module": "@jupyter-widgets/output",
       "_view_module_version": "1.0.0",
       "_view_name": "OutputView",
       "layout": "IPY_MODEL_3e438ff8d9164d8ebb89ae28519565d3",
       "msg_id": "",
       "outputs": [
        {
         "name": "stdout",
         "output_type": "stream",
         "text": "$ cat /tmp/reshello\r\nHello class\r\ntrantor@P7xxTM1:~/lec3$ "
        }
       ],
       "tabbable": null,
       "tooltip": null
      }
     },
     "f90499acc72140bbb132cddfca865075": {
      "model_module": "@jupyter-widgets/output",
      "model_module_version": "1.0.0",
      "model_name": "OutputModel",
      "state": {
       "_dom_classes": [],
       "_model_module": "@jupyter-widgets/output",
       "_model_module_version": "1.0.0",
       "_model_name": "OutputModel",
       "_view_count": null,
       "_view_module": "@jupyter-widgets/output",
       "_view_module_version": "1.0.0",
       "_view_name": "OutputView",
       "layout": "IPY_MODEL_62e24525c99e4f8b80e77a024dfb7e5b",
       "msg_id": "",
       "outputs": [
        {
         "name": "stdout",
         "output_type": "stream",
         "text": "$ [[ -d mydir ]] && rm -rf mydir\r\ntrantor@P7xxTM1:~$     [[ -a myfile ]] && rm myfile\r\ntrantor@P7xxTM1:~$     [[ -a errors ]] && rm errors \r\ntrantor@P7xxTM1:~$     [[ -a mydate ]] && rm mydate\r\ntrantor@P7xxTM1:~$     [[ -a mynewdir ]] && rm -rf mynewdir\r\ntrantor@P7xxTM1:~$     [[ -a anotherfile ]] && rm anotherfile\r\ntrantor@P7xxTM1:~$     [[ -a mybin ]] && rm -rf  mybin\r\ntrantor@P7xxTM1:~$     [[ -a myinfo ]] && rm myinfo\r\ntrantor@P7xxTM1:~$ "
        }
       ],
       "tabbable": null,
       "tooltip": null
      }
     },
     "f9cd52da2e61445ea0a1112ffcaea7b0": {
      "model_module": "@jupyter-widgets/output",
      "model_module_version": "1.0.0",
      "model_name": "OutputModel",
      "state": {
       "_dom_classes": [],
       "_model_module": "@jupyter-widgets/output",
       "_model_module_version": "1.0.0",
       "_model_name": "OutputModel",
       "_view_count": null,
       "_view_module": "@jupyter-widgets/output",
       "_view_module_version": "1.0.0",
       "_view_name": "OutputView",
       "layout": "IPY_MODEL_6107b0c4241d488dbba778189f196b76",
       "msg_id": "",
       "outputs": [
        {
         "name": "stdout",
         "output_type": "stream",
         "text": "$ pwd\r\n\u001b[?2004l\r/home/trantor/lec3\r\n\u001b[?2004htrantor@P7xxTM1:~/lec3$ "
        }
       ],
       "tabbable": null,
       "tooltip": null
      }
     },
     "ff0220ffa24e4d8ba72e0a45c2d7dc74": {
      "model_module": "@jupyter-widgets/base",
      "model_module_version": "2.0.0",
      "model_name": "LayoutModel",
      "state": {
       "_model_module": "@jupyter-widgets/base",
       "_model_module_version": "2.0.0",
       "_model_name": "LayoutModel",
       "_view_count": null,
       "_view_module": "@jupyter-widgets/base",
       "_view_module_version": "2.0.0",
       "_view_name": "LayoutView",
       "align_content": null,
       "align_items": null,
       "align_self": null,
       "border_bottom": "1px solid black",
       "border_left": "1px solid black",
       "border_right": "1px solid black",
       "border_top": "1px solid black",
       "bottom": null,
       "display": null,
       "flex": null,
       "flex_flow": null,
       "grid_area": null,
       "grid_auto_columns": null,
       "grid_auto_flow": null,
       "grid_auto_rows": null,
       "grid_column": null,
       "grid_gap": null,
       "grid_row": null,
       "grid_template_areas": null,
       "grid_template_columns": null,
       "grid_template_rows": null,
       "height": "100%",
       "justify_content": null,
       "justify_items": null,
       "left": null,
       "margin": null,
       "max_height": null,
       "max_width": null,
       "min_height": null,
       "min_width": null,
       "object_fit": null,
       "object_position": null,
       "order": null,
       "overflow": null,
       "padding": null,
       "right": null,
       "top": null,
       "visibility": null,
       "width": null
      }
     }
    },
    "version_major": 2,
    "version_minor": 0
   }
  }
 },
 "nbformat": 4,
 "nbformat_minor": 5
}