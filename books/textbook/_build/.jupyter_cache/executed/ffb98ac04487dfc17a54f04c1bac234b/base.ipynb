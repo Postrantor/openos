{
 "cells": [
  {
   "cell_type": "code",
   "execution_count": 1,
   "id": "44083773-7831-4c1f-ac34-3f9fa2e5b288",
   "metadata": {
    "tags": [
     "remove-output",
     "remove-cell",
     "remove-input"
    ]
   },
   "outputs": [],
   "source": [
    "%run -i ../python/common.py\n",
    "publish=False\n",
    "\n",
    "if not publish:\n",
    "    # cleanup any old state\n",
    "    # demke - fill in as we see what state gets generated in this page.\n",
    "    bashCmds('''[[ -d mydir ]] && rm -rf mydir\n",
    "    #''')\n",
    "else:\n",
    "    bashCmds('''rm -rf ~/*''')\n",
    "    \n",
    "closeAllOpenTtySessions()\n",
    "\n"
   ]
  },
  {
   "cell_type": "code",
   "execution_count": 2,
   "id": "6eb3bc99-4c9f-41c8-8505-8011780d847e",
   "metadata": {
    "tags": [
     "remove-input"
    ]
   },
   "outputs": [],
   "source": [
    "appdir=os.getenv('HOME')\n",
    "appdir=appdir + \"/sync\"\n",
    "output = runTermCmd(\"[[ -d \" + appdir + \" ]] &&  rm -rf \"+ appdir + \n",
    "             \";cp -r ../src/sync \" + appdir)\n",
    "\n",
    "bash = BashSession(cwd=appdir)"
   ]
  },
  {
   "cell_type": "code",
   "execution_count": 3,
   "id": "9382d385-202e-4927-bbd6-4b7b68e78f16",
   "metadata": {
    "tags": [
     "remove-output",
     "remove-cell",
     "remove-input"
    ]
   },
   "outputs": [
    {
     "data": {
      "text/markdown": [
       "<font size=\"1.2rem\"><b>spinlock.c - Basic spinlock using C11 atomics.</b>\n",
       "<div style=\"width:100%; height:100%; font-size:inherit; overflow: auto;\" >\n",
       "\n",
       "\n",
       "``` \n",
       "0: #include <stdatomic.h>\n",
       "1: \n",
       "2: typedef struct spinlock_s {\n",
       "3:     atomic_flag locked;\n",
       "4: } spinlock_t; \n",
       "5: \n",
       "6: static inline void spinlock_init(spinlock_t *l) {\n",
       "7:     atomic_flag_clear( &l->locked );\n",
       "8: }\n",
       "9: \n",
       "10: static inline void spinlock_acquire(spinlock_t *l)\n",
       "11: {\n",
       "12:     while(atomic_flag_test_and_set( &l->locked )) { };\n",
       "13: }\n",
       "14: \n",
       "15: static inline void spinlock_release(spinlock_t *l)\n",
       "16: {\n",
       "17:     atomic_flag_clear( &l->locked );\n",
       "18: }\n",
       "\n",
       "```\n",
       "\n",
       "\n",
       "</div>\n",
       "</font>"
      ],
      "text/plain": [
       "<IPython.core.display.Markdown object>"
      ]
     },
     "metadata": {},
     "output_type": "display_data"
    }
   ],
   "source": [
    "# demke:\n",
    "# \n",
    "# This cell is removed in the html, but displays the code in the Jupyter notebook.\n",
    "#\n",
    "\n",
    "display(Markdown('<font size=\"1.2rem\">' + FileCodeBox(\n",
    "    file=appdir + \"/spinlock.h\", \n",
    "    lang=\"\", \n",
    "    number=True,\n",
    "    title=\"<b>spinlock.c - Basic spinlock using C11 atomics.</b>\",\n",
    "    h=\"100%\", \n",
    "    w=\"100%\"\n",
    ") + '</font>'))"
   ]
  },
  {
   "cell_type": "code",
   "execution_count": 4,
   "id": "61522bc2-98c6-428f-9581-23b9e0924117",
   "metadata": {
    "tags": [
     "remove-output",
     "remove-cell",
     "remove-input"
    ]
   },
   "outputs": [
    {
     "data": {
      "text/markdown": [
       "<font size=\"1.2rem\"><b>counter_spinlock.c: Shared counter example using test-and-set spinlock to protect access to counter variable.</b>\n",
       "<div style=\"width:100%; height:100%; font-size:inherit; overflow: auto;\" >\n",
       "\n",
       "\n",
       "``` \n",
       "0: #include <pthread.h>\n",
       "1: #include <stdlib.h>\n",
       "2: #include <sys/types.h>\n",
       "3: #include <unistd.h>\n",
       "4: #include <string.h>\n",
       "5: #include <stdio.h>\n",
       "6: #include \"spinlock.h\"\n",
       "7: \n",
       "8: spinlock_t splock;\n",
       "9: volatile long shared_counter;\n",
       "10: \n",
       "11: static void *increment_thread(void *arg)\n",
       "12: {\n",
       "13:     long niters = (long)arg;\n",
       "14:     for (int i = 0; i < niters; i++) {\n",
       "15:         spinlock_acquire(&splock);\n",
       "16:         shared_counter++;\n",
       "17:         spinlock_release(&splock);\n",
       "18:     }\n",
       "19: \n",
       "20:     return (void *)0;\n",
       "21: }\n",
       "22: \n",
       "23: static void *decrement_thread(void *arg)\n",
       "24: {\n",
       "25:     long niters = (long)arg;\n",
       "26: \n",
       "27:     for (int i = 0; i < niters; i++) {\n",
       "28:         spinlock_acquire(&splock);\n",
       "29:         shared_counter--;\n",
       "30:         spinlock_release(&splock);\n",
       "31:     }\n",
       "32: \n",
       "33:     return (void *)0;\n",
       "34: }\n",
       "35: \n",
       "36: int main(int argc, char **argv)\n",
       "37: {\n",
       "38:     pthread_t *tids;\n",
       "39:     long niters;\n",
       "40:     int nthreads, i;\n",
       "41:     \n",
       "42:     if (argc != 3) {\n",
       "43:         fprintf(stderr,\"Usage: %s <num_threads> <num_iters>\\n\",argv[0]);\n",
       "44:         return 1;\n",
       "45:     }\n",
       "46: \n",
       "47:     nthreads = atoi(argv[1]);\n",
       "48:     niters = atoi(argv[2]);\n",
       "49:     shared_counter = 0;\n",
       "50:     spinlock_init( &splock );\n",
       "51:     \n",
       "52:     printf(\"Main thread: Beginning test with %d threads\\n\", nthreads);\n",
       "53:     \n",
       "54:     tids = (pthread_t *)malloc(nthreads * sizeof(pthread_t));\n",
       "55:     \n",
       "56:     /* We create the same number of increment and decrement threads, each doing the same number of iterations. \n",
       "57:      * When all threads have completed, we expect the final value of the shared counter to be the same as its\n",
       "58:      * initial value (i.e., 0).\n",
       "59:      */\n",
       "60:     for (i = 0; i < nthreads; i+=2) {\n",
       "61:         (void)pthread_create(&tids[i], NULL, increment_thread, (void *)niters );\n",
       "62:         (void)pthread_create(&tids[i+1], NULL, decrement_thread, (void *)niters );\n",
       "63:     }\n",
       "64:     \n",
       "65:     /* Wait for child threads to finish */\n",
       "66:     for (i = 0; i < nthreads; i+=2) {\n",
       "67:         pthread_join(tids[i], NULL);\n",
       "68:         pthread_join(tids[i+1], NULL);\n",
       "69:     }\n",
       "70:     \n",
       "71:     printf(\"Main thread: Final value of shared counter is %ld\\n\", shared_counter);\n",
       "72: \n",
       "73:     return 0;\n",
       "74: }\n",
       "\n",
       "```\n",
       "\n",
       "\n",
       "</div>\n",
       "</font>"
      ],
      "text/plain": [
       "<IPython.core.display.Markdown object>"
      ]
     },
     "metadata": {},
     "output_type": "display_data"
    }
   ],
   "source": [
    "# demke:\n",
    "# \n",
    "# This cell is removed in the html, but displays the code in the Jupyter notebook.\n",
    "#\n",
    "\n",
    "display(Markdown('<font size=\"1.2rem\">' + FileCodeBox(\n",
    "    file=appdir + \"/counter_spinlock.c\", \n",
    "    lang=\"\", \n",
    "    number=True,\n",
    "    title=\"<b>counter_spinlock.c: Shared counter example using test-and-set spinlock to protect access to counter variable.</b>\",\n",
    "    h=\"100%\", \n",
    "    w=\"100%\"\n",
    ") + '</font>'))"
   ]
  },
  {
   "cell_type": "code",
   "execution_count": 5,
   "id": "e9690b23-5b44-4f52-9020-97536cefd448",
   "metadata": {
    "tags": [
     "remove-input"
    ]
   },
   "outputs": [
    {
     "data": {
      "application/vnd.jupyter.widget-view+json": {
       "model_id": "f8de9e1d41674d42a60443da3608be10",
       "version_major": 2,
       "version_minor": 0
      },
      "text/plain": [
       "Output(layout=Layout(border_bottom='1px solid black', border_left='1px solid black', border_right='1px solid b…"
      ]
     },
     "execution_count": 5,
     "metadata": {},
     "output_type": "execute_result"
    }
   ],
   "source": [
    "bash.runNoOutput(\"[[ -a counter_spinlock ]] && rm counter_spinlock;make counter_spinlock\")\n",
    "cmds = '''./counter_spinlock 2 20000\n",
    "./counter_spinlock 2 100000\n",
    "./counter_spinlock 4 100000\n",
    "./counter_spinlock 4 100000'''\n",
    "\n",
    "bash.run(cmds)"
   ]
  },
  {
   "cell_type": "code",
   "execution_count": 6,
   "id": "6b8e4594-d4d2-491a-9fa9-267d72950a28",
   "metadata": {
    "tags": [
     "remove-output",
     "remove-input",
     "remove-cell"
    ]
   },
   "outputs": [
    {
     "data": {
      "text/markdown": [
       "<font size=\"1.2rem\"><b>C11 implementation of a ticket lock</b>\n",
       "<div style=\"width:100%; height:100%; font-size:inherit; overflow: auto;\" >\n",
       "\n",
       "\n",
       "``` \n",
       "0: #include <stdatomic.h>\n",
       "1: \n",
       "2: typedef struct ticketlock_s {\n",
       "3:     atomic_ulong next_ticket;\n",
       "4:     atomic_ulong now_serving;\n",
       "5: } ticketlock_t; \n",
       "6: \n",
       "7: static inline void ticketlock_init(ticketlock_t *l) {\n",
       "8:     l->next_ticket = 0;\n",
       "9:     l->now_serving = 0;\n",
       "10: }\n",
       "11: \n",
       "12: static inline void ticketlock_acquire(ticketlock_t *l)\n",
       "13: {\n",
       "14:     unsigned long my_ticket = atomic_fetch_add(&l->next_ticket, 1);\n",
       "15:     while(my_ticket != l->now_serving) { };\n",
       "16: }\n",
       "17: \n",
       "18: static inline void ticketlock_release(ticketlock_t *l)\n",
       "19: {\n",
       "20:     l->now_serving++;\n",
       "21: }\n",
       "\n",
       "```\n",
       "\n",
       "\n",
       "</div>\n",
       "</font>"
      ],
      "text/plain": [
       "<IPython.core.display.Markdown object>"
      ]
     },
     "metadata": {},
     "output_type": "display_data"
    }
   ],
   "source": [
    "# demke:\n",
    "# \n",
    "# This cell is removed in the html, but displays the code in the Jupyter notebook.\n",
    "#\n",
    "\n",
    "display(Markdown('<font size=\"1.2rem\">' + FileCodeBox(\n",
    "    file=appdir + \"/ticketlock.h\", \n",
    "    lang=\"\", \n",
    "    number=True,\n",
    "    title=\"<b>C11 implementation of a ticket lock</b>\",\n",
    "    h=\"100%\", \n",
    "    w=\"100%\"\n",
    ") + '</font>'))"
   ]
  },
  {
   "cell_type": "code",
   "execution_count": 7,
   "id": "546e4c5f-bb2a-4808-99a9-188563ddbaa9",
   "metadata": {
    "tags": [
     "remove-output",
     "remove-input",
     "remove-cell"
    ]
   },
   "outputs": [
    {
     "data": {
      "text/markdown": [
       "<font size=\"1.2rem\"><b>counter_ticketlock.c: Shared counter example using test-and-set spinlock to protect access to counter variable.</b>\n",
       "<div style=\"width:100%; height:100%; font-size:inherit; overflow: auto;\" >\n",
       "\n",
       "\n",
       "``` \n",
       "0: #include <pthread.h>\n",
       "1: #include <stdlib.h>\n",
       "2: #include <sys/types.h>\n",
       "3: #include <unistd.h>\n",
       "4: #include <string.h>\n",
       "5: #include <stdio.h>\n",
       "6: #include \"ticketlock.h\"\n",
       "7: \n",
       "8: ticketlock_t tktlock;\n",
       "9: volatile long shared_counter;\n",
       "10: \n",
       "11: static void *increment_thread(void *arg)\n",
       "12: {\n",
       "13:     long niters = (long)arg;\n",
       "14:     for (int i = 0; i < niters; i++) {\n",
       "15:         ticketlock_acquire(&tktlock);\n",
       "16:         shared_counter++;\n",
       "17:         ticketlock_release(&tktlock);\n",
       "18:     }\n",
       "19: \n",
       "20:     return (void *)0;\n",
       "21: }\n",
       "22: \n",
       "23: static void *decrement_thread(void *arg)\n",
       "24: {\n",
       "25:     long niters = (long)arg;\n",
       "26: \n",
       "27:     for (int i = 0; i < niters; i++) {\n",
       "28:         ticketlock_acquire(&tktlock);\n",
       "29:         shared_counter--;\n",
       "30:         ticketlock_release(&tktlock);\n",
       "31:     }\n",
       "32: \n",
       "33:     return (void *)0;\n",
       "34: }\n",
       "35: \n",
       "36: int main(int argc, char **argv)\n",
       "37: {\n",
       "38:     pthread_t *tids;\n",
       "39:     long niters;\n",
       "40:     int nthreads, i;\n",
       "41:     \n",
       "42:     if (argc != 3) {\n",
       "43:         fprintf(stderr,\"Usage: %s <num_threads> <num_iters>\\n\",argv[0]);\n",
       "44:         return 1;\n",
       "45:     }\n",
       "46: \n",
       "47:     nthreads = atoi(argv[1]);\n",
       "48:     niters = atoi(argv[2]);\n",
       "49:     shared_counter = 0;\n",
       "50:     ticketlock_init( &tktlock );\n",
       "51:     \n",
       "52:     printf(\"Main thread: Beginning test with %d threads\\n\", nthreads);\n",
       "53:     \n",
       "54:     tids = (pthread_t *)malloc(nthreads * sizeof(pthread_t));\n",
       "55:     \n",
       "56:     /* We create the same number of increment and decrement threads, each doing the same number of iterations. \n",
       "57:      * When all threads have completed, we expect the final value of the shared counter to be the same as its\n",
       "58:      * initial value (i.e., 0).\n",
       "59:      */\n",
       "60:     for (i = 0; i < nthreads; i+=2) {\n",
       "61:         (void)pthread_create(&tids[i], NULL, increment_thread, (void *)niters );\n",
       "62:         (void)pthread_create(&tids[i+1], NULL, decrement_thread, (void *)niters );\n",
       "63:     }\n",
       "64:     \n",
       "65:     /* Wait for child threads to finish */\n",
       "66:     for (i = 0; i < nthreads; i+=2) {\n",
       "67:         pthread_join(tids[i], NULL);\n",
       "68:         pthread_join(tids[i+1], NULL);\n",
       "69:     }\n",
       "70:     \n",
       "71:     printf(\"Main thread: Final value of shared counter is %ld\\n\", shared_counter);\n",
       "72: \n",
       "73:     return 0;\n",
       "74: }\n",
       "\n",
       "```\n",
       "\n",
       "\n",
       "</div>\n",
       "</font>"
      ],
      "text/plain": [
       "<IPython.core.display.Markdown object>"
      ]
     },
     "metadata": {},
     "output_type": "display_data"
    }
   ],
   "source": [
    "# demke:\n",
    "# \n",
    "# This cell is removed in the html, but displays the code in the Jupyter notebook.\n",
    "#\n",
    "\n",
    "display(Markdown('<font size=\"1.2rem\">' + FileCodeBox(\n",
    "    file=appdir + \"/counter_ticketlock.c\", \n",
    "    lang=\"\", \n",
    "    number=True,\n",
    "    title=\"<b>counter_ticketlock.c: Shared counter example using test-and-set spinlock to protect access to counter variable.</b>\",\n",
    "    h=\"100%\", \n",
    "    w=\"100%\"\n",
    ") + '</font>'))"
   ]
  },
  {
   "cell_type": "code",
   "execution_count": 8,
   "id": "0964e05a-695b-4b4a-8dc7-97aeb40bb26b",
   "metadata": {
    "tags": [
     "remove-input"
    ]
   },
   "outputs": [
    {
     "data": {
      "application/vnd.jupyter.widget-view+json": {
       "model_id": "62162905de1f4f4785fe2947c543d911",
       "version_major": 2,
       "version_minor": 0
      },
      "text/plain": [
       "Output(layout=Layout(border_bottom='1px solid black', border_left='1px solid black', border_right='1px solid b…"
      ]
     },
     "execution_count": 8,
     "metadata": {},
     "output_type": "execute_result"
    }
   ],
   "source": [
    "bash.runNoOutput(\"[[ -a counter_ticketlock ]] && rm counter_ticketlock;make counter_ticketlock\")\n",
    "cmds = '''./counter_ticketlock 2 20000\n",
    "./counter_ticketlock 2 100000\n",
    "./counter_ticketlock 4 100000\n",
    "./counter_ticketlock 4 100000'''\n",
    "\n",
    "bash.run(cmds)"
   ]
  },
  {
   "cell_type": "code",
   "execution_count": 9,
   "id": "af79c1ed-1bcb-4c83-8b67-69de3e2b4e48",
   "metadata": {
    "tags": [
     "remove-cell",
     "remove-output",
     "remove-input"
    ]
   },
   "outputs": [
    {
     "data": {
      "text/markdown": [
       "<font size=\"1.2rem\"><b>check_spinlock_fairness.c - Sample program to show fairness and efficiency of test-and-set spinlock implementation.</b>\n",
       "<div style=\"width:100%; height:100%; font-size:inherit; overflow: auto;\" >\n",
       "\n",
       "\n",
       "``` \n",
       "0: #include <pthread.h>\n",
       "1: #include <stdlib.h>\n",
       "2: #include <sys/types.h>\n",
       "3: #include <unistd.h>\n",
       "4: #include <string.h>\n",
       "5: #include <stdio.h>\n",
       "6: #include <stdbool.h>\n",
       "7: #include <limits.h>\n",
       "8: #include \"spinlock.h\"\n",
       "9: \n",
       "10: spinlock_t splock;\n",
       "11: atomic_bool start;\n",
       "12: atomic_bool done;\n",
       "13: \n",
       "14: struct thread_info {\n",
       "15:     pthread_t tid;\n",
       "16:     unsigned iters_done;\n",
       "17: };\n",
       "18: \n",
       "19: static void *thread_func(void *arg)\n",
       "20: {\n",
       "21:     struct thread_info *my_info = (struct thread_info *)arg;\n",
       "22:     unsigned i = 0;\n",
       "23:     \n",
       "24:     while(!start) {} ; /* Wait until parent flags that all threads have been created */ \n",
       "25:     \n",
       "26:     while (!done) {\n",
       "27:         spinlock_acquire(&splock);\n",
       "28:         i++;\n",
       "29:         spinlock_release(&splock);\n",
       "30:     }\n",
       "31: \n",
       "32:     my_info->iters_done = i;\n",
       "33:     return (void *)0;\n",
       "34: }\n",
       "35: \n",
       "36: \n",
       "37: \n",
       "38: int main(int argc, char **argv)\n",
       "39: {\n",
       "40:     struct thread_info *tinfo;\n",
       "41:     int duration;\n",
       "42:     int nthreads, i;\n",
       "43:     \n",
       "44:     if (argc != 3) {\n",
       "45:         fprintf(stderr,\"Usage: %s <num_threads> <duration>\\n\\t where duration is the number of seconds for threads to run.\\n\",argv[0]);\n",
       "46:         return 1;\n",
       "47:     }\n",
       "48: \n",
       "49:     start = false;\n",
       "50:     done = false;\n",
       "51:     nthreads = atoi(argv[1]);\n",
       "52:     duration = atoi(argv[2]);\n",
       "53:     spinlock_init( &splock );\n",
       "54:     \n",
       "55:     printf(\"Main thread: Beginning test with %d threads, running for %d seconds\\n\", nthreads, duration);\n",
       "56:     \n",
       "57:     tinfo = (struct thread_info *)calloc(nthreads, sizeof(struct thread_info));\n",
       "58: \n",
       "59:     /* We create the requested number of threads, all doing the same work */\n",
       "60:     for (i = 0; i < nthreads; i++) {\n",
       "61:         (void)pthread_create(&tinfo[i].tid, NULL, thread_func, (void *)&tinfo[i] );\n",
       "62:     }\n",
       "63:     \n",
       "64:     /* All threads created. Let them run concurrently for requested duration. */\n",
       "65:     start = true;\n",
       "66:     sleep(duration);\n",
       "67:     done = true;\n",
       "68:     \n",
       "69:     /* Wait for child threads to finish */\n",
       "70:     for (i = 0; i < nthreads; i++) {\n",
       "71:         pthread_join(tinfo[i].tid, NULL);\n",
       "72:     }\n",
       "73: \n",
       "74:     unsigned min_iters = UINT_MAX;\n",
       "75:     unsigned max_iters = 0; \n",
       "76:     unsigned tot_iters = 0;\n",
       "77:     for (i = 0; i < nthreads; i++) {\n",
       "78:         tot_iters += tinfo[i].iters_done;\n",
       "79:         if (tinfo[i].iters_done < min_iters) {\n",
       "80:             min_iters = tinfo[i].iters_done;\n",
       "81:         }\n",
       "82:         if (tinfo[i].iters_done > max_iters) {\n",
       "83:             max_iters = tinfo[i].iters_done;\n",
       "84:         }\n",
       "85:         printf(\"Thread %d completed %u iters\\n\", i, tinfo[i].iters_done);\n",
       "86:     }\n",
       "87:     \n",
       "88:     unsigned diff = max_iters - min_iters;\n",
       "89:     printf(\"\\nTOTAL: %u iterations completed.\\n\", tot_iters);\n",
       "90:     printf(\"Unfairness: Most productive thread completed %u iters, least productive thread completed %u iters\\n\", max_iters, min_iters);\n",
       "91:     printf(\"Difference is %u iters\\n\", diff); \n",
       "92: \n",
       "93:     return 0;\n",
       "94: }\n",
       "\n",
       "```\n",
       "\n",
       "\n",
       "</div>\n",
       "</font>"
      ],
      "text/plain": [
       "<IPython.core.display.Markdown object>"
      ]
     },
     "metadata": {},
     "output_type": "display_data"
    }
   ],
   "source": [
    "# demke:\n",
    "# \n",
    "# This cell is removed in the html, but displays the code in the Jupyter notebook.\n",
    "#\n",
    "\n",
    "display(Markdown('<font size=\"1.2rem\">' + FileCodeBox(\n",
    "    file=appdir + \"/check_spinlock_fairness.c\", \n",
    "    lang=\"\", \n",
    "    number=True,\n",
    "    title=\"<b>check_spinlock_fairness.c - Sample program to show fairness and efficiency of test-and-set spinlock implementation.</b>\",\n",
    "    h=\"100%\", \n",
    "    w=\"100%\"\n",
    ") + '</font>'))"
   ]
  },
  {
   "cell_type": "code",
   "execution_count": 10,
   "id": "8ca52008-0509-4b56-b112-14d42286409a",
   "metadata": {
    "tags": [
     "remove-input"
    ]
   },
   "outputs": [
    {
     "data": {
      "application/vnd.jupyter.widget-view+json": {
       "model_id": "c76d2d2d021a4cdea15af153f3d429b1",
       "version_major": 2,
       "version_minor": 0
      },
      "text/plain": [
       "Output(layout=Layout(border_bottom='1px solid black', border_left='1px solid black', border_right='1px solid b…"
      ]
     },
     "execution_count": 10,
     "metadata": {},
     "output_type": "execute_result"
    }
   ],
   "source": [
    "bash.runNoOutput(\"[[ -a check_spinlock_fairness ]] && rm check_spinlock_fairness;make check_spinlock_fairness\")\n",
    "bash.run(\"./check_spinlock_fairness 6 5\")"
   ]
  },
  {
   "cell_type": "code",
   "execution_count": 11,
   "id": "f76071d3-46e7-40ff-a69c-fc16f81b6882",
   "metadata": {
    "tags": [
     "remove-input"
    ]
   },
   "outputs": [
    {
     "data": {
      "application/vnd.jupyter.widget-view+json": {
       "model_id": "a2db23415eec48e080128dac8a16fc57",
       "version_major": 2,
       "version_minor": 0
      },
      "text/plain": [
       "Output(layout=Layout(border_bottom='1px solid black', border_left='1px solid black', border_right='1px solid b…"
      ]
     },
     "execution_count": 11,
     "metadata": {},
     "output_type": "execute_result"
    }
   ],
   "source": [
    "bash.runNoOutput(\"[[ -a check_ticketlock_fairness ]] && rm check_ticketlock_fairness;make check_ticketlock_fairness\")\n",
    "bash.run(\"./check_ticketlock_fairness 6 5\")"
   ]
  },
  {
   "cell_type": "code",
   "execution_count": 12,
   "id": "9b7c9d4f-9d73-4348-a8e6-28bceb260c42",
   "metadata": {
    "tags": [
     "remove-input"
    ]
   },
   "outputs": [
    {
     "data": {
      "application/vnd.jupyter.widget-view+json": {
       "model_id": "9bb2e4d434b7434084bdaf0042b92519",
       "version_major": 2,
       "version_minor": 0
      },
      "text/plain": [
       "Output(layout=Layout(border_bottom='1px solid black', border_left='1px solid black', border_right='1px solid b…"
      ]
     },
     "execution_count": 12,
     "metadata": {},
     "output_type": "execute_result"
    }
   ],
   "source": [
    "bash.runNoOutput(\"[[ -a check_mutex_fairness ]] && rm check_mutex_fairness;make check_mutex_fairness\")\n",
    "bash.run(\"./check_mutex_fairness 6 5\")"
   ]
  }
 ],
 "metadata": {
  "kernelspec": {
   "display_name": "Python 3 (ipykernel)",
   "language": "python",
   "name": "python3"
  },
  "language_info": {
   "codemirror_mode": {
    "name": "ipython",
    "version": 3
   },
   "file_extension": ".py",
   "mimetype": "text/x-python",
   "name": "python",
   "nbconvert_exporter": "python",
   "pygments_lexer": "ipython3",
   "version": "3.12.3"
  },
  "widgets": {
   "application/vnd.jupyter.widget-state+json": {
    "state": {
     "29176ce5051b4dafb11a52cda47aa1cb": {
      "model_module": "@jupyter-widgets/base",
      "model_module_version": "2.0.0",
      "model_name": "LayoutModel",
      "state": {
       "_model_module": "@jupyter-widgets/base",
       "_model_module_version": "2.0.0",
       "_model_name": "LayoutModel",
       "_view_count": null,
       "_view_module": "@jupyter-widgets/base",
       "_view_module_version": "2.0.0",
       "_view_name": "LayoutView",
       "align_content": null,
       "align_items": null,
       "align_self": null,
       "border_bottom": "1px solid black",
       "border_left": "1px solid black",
       "border_right": "1px solid black",
       "border_top": "1px solid black",
       "bottom": null,
       "display": null,
       "flex": null,
       "flex_flow": null,
       "grid_area": null,
       "grid_auto_columns": null,
       "grid_auto_flow": null,
       "grid_auto_rows": null,
       "grid_column": null,
       "grid_gap": null,
       "grid_row": null,
       "grid_template_areas": null,
       "grid_template_columns": null,
       "grid_template_rows": null,
       "height": "100%",
       "justify_content": null,
       "justify_items": null,
       "left": null,
       "margin": null,
       "max_height": null,
       "max_width": null,
       "min_height": null,
       "min_width": null,
       "object_fit": null,
       "object_position": null,
       "order": null,
       "overflow": null,
       "padding": null,
       "right": null,
       "top": null,
       "visibility": null,
       "width": null
      }
     },
     "415def9fe68d495f80bf3abe5f56abc7": {
      "model_module": "@jupyter-widgets/base",
      "model_module_version": "2.0.0",
      "model_name": "LayoutModel",
      "state": {
       "_model_module": "@jupyter-widgets/base",
       "_model_module_version": "2.0.0",
       "_model_name": "LayoutModel",
       "_view_count": null,
       "_view_module": "@jupyter-widgets/base",
       "_view_module_version": "2.0.0",
       "_view_name": "LayoutView",
       "align_content": null,
       "align_items": null,
       "align_self": null,
       "border_bottom": "1px solid black",
       "border_left": "1px solid black",
       "border_right": "1px solid black",
       "border_top": "1px solid black",
       "bottom": null,
       "display": null,
       "flex": null,
       "flex_flow": null,
       "grid_area": null,
       "grid_auto_columns": null,
       "grid_auto_flow": null,
       "grid_auto_rows": null,
       "grid_column": null,
       "grid_gap": null,
       "grid_row": null,
       "grid_template_areas": null,
       "grid_template_columns": null,
       "grid_template_rows": null,
       "height": "100%",
       "justify_content": null,
       "justify_items": null,
       "left": null,
       "margin": null,
       "max_height": null,
       "max_width": null,
       "min_height": null,
       "min_width": null,
       "object_fit": null,
       "object_position": null,
       "order": null,
       "overflow": null,
       "padding": null,
       "right": null,
       "top": null,
       "visibility": null,
       "width": null
      }
     },
     "50c6c2b1484c44ed90672f279fd1fdec": {
      "model_module": "@jupyter-widgets/base",
      "model_module_version": "2.0.0",
      "model_name": "LayoutModel",
      "state": {
       "_model_module": "@jupyter-widgets/base",
       "_model_module_version": "2.0.0",
       "_model_name": "LayoutModel",
       "_view_count": null,
       "_view_module": "@jupyter-widgets/base",
       "_view_module_version": "2.0.0",
       "_view_name": "LayoutView",
       "align_content": null,
       "align_items": null,
       "align_self": null,
       "border_bottom": "1px solid black",
       "border_left": "1px solid black",
       "border_right": "1px solid black",
       "border_top": "1px solid black",
       "bottom": null,
       "display": null,
       "flex": null,
       "flex_flow": null,
       "grid_area": null,
       "grid_auto_columns": null,
       "grid_auto_flow": null,
       "grid_auto_rows": null,
       "grid_column": null,
       "grid_gap": null,
       "grid_row": null,
       "grid_template_areas": null,
       "grid_template_columns": null,
       "grid_template_rows": null,
       "height": "100%",
       "justify_content": null,
       "justify_items": null,
       "left": null,
       "margin": null,
       "max_height": null,
       "max_width": null,
       "min_height": null,
       "min_width": null,
       "object_fit": null,
       "object_position": null,
       "order": null,
       "overflow": null,
       "padding": null,
       "right": null,
       "top": null,
       "visibility": null,
       "width": null
      }
     },
     "62162905de1f4f4785fe2947c543d911": {
      "model_module": "@jupyter-widgets/output",
      "model_module_version": "1.0.0",
      "model_name": "OutputModel",
      "state": {
       "_dom_classes": [],
       "_model_module": "@jupyter-widgets/output",
       "_model_module_version": "1.0.0",
       "_model_name": "OutputModel",
       "_view_count": null,
       "_view_module": "@jupyter-widgets/output",
       "_view_module_version": "1.0.0",
       "_view_name": "OutputView",
       "layout": "IPY_MODEL_992abb06a8be4257b61aad84f73a6a39",
       "msg_id": "",
       "outputs": [
        {
         "name": "stdout",
         "output_type": "stream",
         "text": "$ ./counter_ticketlock 2 20000\r\nMain thread: Beginning test with 2 threads\r\nMain thread: Final value of shared counter is 0\r\ntrantor@P7xxTM1:~/sync$ ./counter_ticketlock 2 100000\r\nMain thread: Beginning test with 2 threads\r\nMain thread: Final value of shared counter is 0\r\ntrantor@P7xxTM1:~/sync$ ./counter_ticketlock 4 100000\r\nMain thread: Beginning test with 4 threads\r\nMain thread: Final value of shared counter is 0\r\ntrantor@P7xxTM1:~/sync$ ./counter_ticketlock 4 100000\r\nMain thread: Beginning test with 4 threads\r\nMain thread: Final value of shared counter is 0\r\ntrantor@P7xxTM1:~/sync$ "
        }
       ],
       "tabbable": null,
       "tooltip": null
      }
     },
     "992abb06a8be4257b61aad84f73a6a39": {
      "model_module": "@jupyter-widgets/base",
      "model_module_version": "2.0.0",
      "model_name": "LayoutModel",
      "state": {
       "_model_module": "@jupyter-widgets/base",
       "_model_module_version": "2.0.0",
       "_model_name": "LayoutModel",
       "_view_count": null,
       "_view_module": "@jupyter-widgets/base",
       "_view_module_version": "2.0.0",
       "_view_name": "LayoutView",
       "align_content": null,
       "align_items": null,
       "align_self": null,
       "border_bottom": "1px solid black",
       "border_left": "1px solid black",
       "border_right": "1px solid black",
       "border_top": "1px solid black",
       "bottom": null,
       "display": null,
       "flex": null,
       "flex_flow": null,
       "grid_area": null,
       "grid_auto_columns": null,
       "grid_auto_flow": null,
       "grid_auto_rows": null,
       "grid_column": null,
       "grid_gap": null,
       "grid_row": null,
       "grid_template_areas": null,
       "grid_template_columns": null,
       "grid_template_rows": null,
       "height": "100%",
       "justify_content": null,
       "justify_items": null,
       "left": null,
       "margin": null,
       "max_height": null,
       "max_width": null,
       "min_height": null,
       "min_width": null,
       "object_fit": null,
       "object_position": null,
       "order": null,
       "overflow": null,
       "padding": null,
       "right": null,
       "top": null,
       "visibility": null,
       "width": null
      }
     },
     "9bb2e4d434b7434084bdaf0042b92519": {
      "model_module": "@jupyter-widgets/output",
      "model_module_version": "1.0.0",
      "model_name": "OutputModel",
      "state": {
       "_dom_classes": [],
       "_model_module": "@jupyter-widgets/output",
       "_model_module_version": "1.0.0",
       "_model_name": "OutputModel",
       "_view_count": null,
       "_view_module": "@jupyter-widgets/output",
       "_view_module_version": "1.0.0",
       "_view_name": "OutputView",
       "layout": "IPY_MODEL_415def9fe68d495f80bf3abe5f56abc7",
       "msg_id": "",
       "outputs": [
        {
         "name": "stdout",
         "output_type": "stream",
         "text": "$ ./check_mutex_fairness 6 5\r\nMain thread: Beginning test with 6 threads, running for 5 seconds\r\nThread 0 completed 13095829 iters\r\nThread 1 completed 17674441 iters\r\nThread 2 completed 17238999 iters\r\nThread 3 completed 17185998 iters\r\nThread 4 completed 17105139 iters\r\nThread 5 completed 13071096 iters\r\n\r\nTOTAL: 95371502 iterations completed.\r\nMost productive thread completed 17674441 iterations, least productive thread completed 13071096 iterations\r\nDifference is 4603345 iters\r\ntrantor@P7xxTM1:~/sync$ "
        }
       ],
       "tabbable": null,
       "tooltip": null
      }
     },
     "a2db23415eec48e080128dac8a16fc57": {
      "model_module": "@jupyter-widgets/output",
      "model_module_version": "1.0.0",
      "model_name": "OutputModel",
      "state": {
       "_dom_classes": [],
       "_model_module": "@jupyter-widgets/output",
       "_model_module_version": "1.0.0",
       "_model_name": "OutputModel",
       "_view_count": null,
       "_view_module": "@jupyter-widgets/output",
       "_view_module_version": "1.0.0",
       "_view_name": "OutputView",
       "layout": "IPY_MODEL_adba92db041a4e09aaa3b120c960e45c",
       "msg_id": "",
       "outputs": [
        {
         "name": "stdout",
         "output_type": "stream",
         "text": "$ ./check_ticketlock_fairness 6 5\r\nMain thread: Beginning test with 6 threads, running for 5 seconds\r\nThread 0 completed 8876377 iters\r\nThread 1 completed 8876852 iters\r\nThread 2 completed 8876438 iters\r\nThread 3 completed 8876150 iters\r\nThread 4 completed 8876572 iters\r\nThread 5 completed 8876907 iters\r\n\r\nTOTAL: 53259296 iterations completed.\r\nMost productive thread completed 8876907 iterations, least productive thread completed 8876150 iterations\r\nDifference is 757 iters\r\ntrantor@P7xxTM1:~/sync$ "
        }
       ],
       "tabbable": null,
       "tooltip": null
      }
     },
     "adba92db041a4e09aaa3b120c960e45c": {
      "model_module": "@jupyter-widgets/base",
      "model_module_version": "2.0.0",
      "model_name": "LayoutModel",
      "state": {
       "_model_module": "@jupyter-widgets/base",
       "_model_module_version": "2.0.0",
       "_model_name": "LayoutModel",
       "_view_count": null,
       "_view_module": "@jupyter-widgets/base",
       "_view_module_version": "2.0.0",
       "_view_name": "LayoutView",
       "align_content": null,
       "align_items": null,
       "align_self": null,
       "border_bottom": "1px solid black",
       "border_left": "1px solid black",
       "border_right": "1px solid black",
       "border_top": "1px solid black",
       "bottom": null,
       "display": null,
       "flex": null,
       "flex_flow": null,
       "grid_area": null,
       "grid_auto_columns": null,
       "grid_auto_flow": null,
       "grid_auto_rows": null,
       "grid_column": null,
       "grid_gap": null,
       "grid_row": null,
       "grid_template_areas": null,
       "grid_template_columns": null,
       "grid_template_rows": null,
       "height": "100%",
       "justify_content": null,
       "justify_items": null,
       "left": null,
       "margin": null,
       "max_height": null,
       "max_width": null,
       "min_height": null,
       "min_width": null,
       "object_fit": null,
       "object_position": null,
       "order": null,
       "overflow": null,
       "padding": null,
       "right": null,
       "top": null,
       "visibility": null,
       "width": null
      }
     },
     "bbfbb1acda914b99b42ad3a720fc676a": {
      "model_module": "@jupyter-widgets/base",
      "model_module_version": "2.0.0",
      "model_name": "LayoutModel",
      "state": {
       "_model_module": "@jupyter-widgets/base",
       "_model_module_version": "2.0.0",
       "_model_name": "LayoutModel",
       "_view_count": null,
       "_view_module": "@jupyter-widgets/base",
       "_view_module_version": "2.0.0",
       "_view_name": "LayoutView",
       "align_content": null,
       "align_items": null,
       "align_self": null,
       "border_bottom": "1px solid black",
       "border_left": "1px solid black",
       "border_right": "1px solid black",
       "border_top": "1px solid black",
       "bottom": null,
       "display": null,
       "flex": null,
       "flex_flow": null,
       "grid_area": null,
       "grid_auto_columns": null,
       "grid_auto_flow": null,
       "grid_auto_rows": null,
       "grid_column": null,
       "grid_gap": null,
       "grid_row": null,
       "grid_template_areas": null,
       "grid_template_columns": null,
       "grid_template_rows": null,
       "height": "100%",
       "justify_content": null,
       "justify_items": null,
       "left": null,
       "margin": null,
       "max_height": null,
       "max_width": null,
       "min_height": null,
       "min_width": null,
       "object_fit": null,
       "object_position": null,
       "order": null,
       "overflow": null,
       "padding": null,
       "right": null,
       "top": null,
       "visibility": null,
       "width": null
      }
     },
     "bf4875f8efc9427aa2575fffb5c20885": {
      "model_module": "@jupyter-widgets/output",
      "model_module_version": "1.0.0",
      "model_name": "OutputModel",
      "state": {
       "_dom_classes": [],
       "_model_module": "@jupyter-widgets/output",
       "_model_module_version": "1.0.0",
       "_model_name": "OutputModel",
       "_view_count": null,
       "_view_module": "@jupyter-widgets/output",
       "_view_module_version": "1.0.0",
       "_view_name": "OutputView",
       "layout": "IPY_MODEL_bbfbb1acda914b99b42ad3a720fc676a",
       "msg_id": "",
       "outputs": [
        {
         "name": "stdout",
         "output_type": "stream",
         "text": "$ [[ -d mydir ]] && rm -rf mydir\r\ntrantor@P7xxTM1:~$     #\r\ntrantor@P7xxTM1:~$ "
        }
       ],
       "tabbable": null,
       "tooltip": null
      }
     },
     "c76d2d2d021a4cdea15af153f3d429b1": {
      "model_module": "@jupyter-widgets/output",
      "model_module_version": "1.0.0",
      "model_name": "OutputModel",
      "state": {
       "_dom_classes": [],
       "_model_module": "@jupyter-widgets/output",
       "_model_module_version": "1.0.0",
       "_model_name": "OutputModel",
       "_view_count": null,
       "_view_module": "@jupyter-widgets/output",
       "_view_module_version": "1.0.0",
       "_view_name": "OutputView",
       "layout": "IPY_MODEL_50c6c2b1484c44ed90672f279fd1fdec",
       "msg_id": "",
       "outputs": [
        {
         "name": "stdout",
         "output_type": "stream",
         "text": "$ ./check_spinlock_fairness 6 5\r\nMain thread: Beginning test with 6 threads, running for 5 seconds\r\nThread 0 completed 4794225 iters\r\nThread 1 completed 4303114 iters\r\nThread 2 completed 4947035 iters\r\nThread 3 completed 4607969 iters\r\nThread 4 completed 4781790 iters\r\nThread 5 completed 5161176 iters\r\n\r\nTOTAL: 28595309 iterations completed.\r\nUnfairness: Most productive thread completed 5161176 iters, least productive thread completed 4303114 iters\r\nDifference is 858062 iters\r\ntrantor@P7xxTM1:~/sync$ "
        }
       ],
       "tabbable": null,
       "tooltip": null
      }
     },
     "f8de9e1d41674d42a60443da3608be10": {
      "model_module": "@jupyter-widgets/output",
      "model_module_version": "1.0.0",
      "model_name": "OutputModel",
      "state": {
       "_dom_classes": [],
       "_model_module": "@jupyter-widgets/output",
       "_model_module_version": "1.0.0",
       "_model_name": "OutputModel",
       "_view_count": null,
       "_view_module": "@jupyter-widgets/output",
       "_view_module_version": "1.0.0",
       "_view_name": "OutputView",
       "layout": "IPY_MODEL_29176ce5051b4dafb11a52cda47aa1cb",
       "msg_id": "",
       "outputs": [
        {
         "name": "stdout",
         "output_type": "stream",
         "text": "$ ./counter_spinlock 2 20000\r\nMain thread: Beginning test with 2 threads\r\nMain thread: Final value of shared counter is 0\r\ntrantor@P7xxTM1:~/sync$ ./counter_spinlock 2 100000\r\nMain thread: Beginning test with 2 threads\r\nMain thread: Final value of shared counter is 0\r\ntrantor@P7xxTM1:~/sync$ ./counter_spinlock 4 100000\r\nMain thread: Beginning test with 4 threads\r\nMain thread: Final value of shared counter is 0\r\ntrantor@P7xxTM1:~/sync$ ./counter_spinlock 4 100000\r\nMain thread: Beginning test with 4 threads\r\nMain thread: Final value of shared counter is 0\r\ntrantor@P7xxTM1:~/sync$ "
        }
       ],
       "tabbable": null,
       "tooltip": null
      }
     }
    },
    "version_major": 2,
    "version_minor": 0
   }
  }
 },
 "nbformat": 4,
 "nbformat_minor": 5
}