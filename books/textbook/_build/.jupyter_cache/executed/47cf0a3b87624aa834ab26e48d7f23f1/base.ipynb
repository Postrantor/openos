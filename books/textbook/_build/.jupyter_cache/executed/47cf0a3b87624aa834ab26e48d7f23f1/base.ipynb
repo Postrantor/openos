{
 "cells": [
  {
   "cell_type": "code",
   "execution_count": 1,
   "id": "44083773-7831-4c1f-ac34-3f9fa2e5b288",
   "metadata": {
    "tags": [
     "remove-output",
     "remove-cell",
     "remove-input"
    ]
   },
   "outputs": [],
   "source": [
    "%run -i ../python/common.py\n",
    "publish=False\n",
    "\n",
    "if not publish:\n",
    "    # cleanup any old state\n",
    "    # demke - fill in as we see what state gets generated in this page.\n",
    "    bashCmds('''[[ -d mydir ]] && rm -rf mydir\n",
    "    #''')\n",
    "else:\n",
    "    bashCmds('''rm -rf ~/*''')\n",
    "    \n",
    "closeAllOpenTtySessions()\n",
    "\n"
   ]
  },
  {
   "cell_type": "code",
   "execution_count": 2,
   "id": "6eb3bc99-4c9f-41c8-8505-8011780d847e",
   "metadata": {
    "tags": [
     "remove-input"
    ]
   },
   "outputs": [],
   "source": [
    "appdir=os.getenv('HOME')\n",
    "appdir=appdir + \"/sync\"\n",
    "output = runTermCmd(\"[[ -d \" + appdir + \" ]] &&  rm -rf \"+ appdir + \n",
    "             \";cp -r ../src/sync \" + appdir)\n",
    "\n",
    "bash = BashSession(cwd=appdir)"
   ]
  },
  {
   "cell_type": "code",
   "execution_count": 3,
   "id": "505dda7b-58a2-4465-803d-b5f5b702b766",
   "metadata": {
    "tags": [
     "remove-cell",
     "remove-input",
     "hide-output"
    ]
   },
   "outputs": [
    {
     "data": {
      "text/markdown": [
       "<font size=\"1.2rem\"><b>output_example.c - Uncontrolled thread interleaving using output to the terminal.</b>\n",
       "<div style=\"width:100%; height:100%; font-size:inherit; overflow: auto;\" >\n",
       "\n",
       "\n",
       "``` \n",
       "0: #include <pthread.h>\n",
       "1: #include <stdlib.h>\n",
       "2: #include <sys/types.h>\n",
       "3: #include <unistd.h>\n",
       "4: #include <string.h>\n",
       "5: #include <stdio.h>\n",
       "6: \n",
       "7: /* This function is intended so simulate a thread needing to do some other \n",
       "8:  * work in between output statements.\n",
       "9:  */\n",
       "10: static long waste_cpu()\n",
       "11: {\n",
       "12:     long dummy = 0;\n",
       "13:     for (int i = 0; i < 10000; i++) {\n",
       "14:         dummy += rand();\n",
       "15:     }\n",
       "16:     return dummy;\n",
       "17: }\n",
       "18: \n",
       "19: /* Start of function executed by each thread.\n",
       "20:  * Each character of the argument string is printed out one-by-one\n",
       "21:  * in a separate system call. \n",
       "22:  * To increase the number of interleavings, we voluntarily yield the \n",
       "23:  * CPU after each character is output.\n",
       "24:  */\n",
       "25: static void *write_one_by_one(void *arg)\n",
       "26: {\n",
       "27:     char *mystr = (char *)arg;\n",
       "28:       \n",
       "29:     for (int i = 0; i < strlen(mystr); i++) {\n",
       "30:         write(STDOUT_FILENO, &mystr[i], 1); \n",
       "31:         waste_cpu();\n",
       "32:     }\n",
       "33:   \n",
       "34:     return (void *)0;       \n",
       "35: }\n",
       "36: /* End of function executed by each thread. */\n",
       "37: \n",
       "38: \n",
       "39: int main(int argc, char **argv)\n",
       "40: {\n",
       "41:     pthread_t tid1, tid2;\n",
       "42:     char *str1 = \"Hello\";\n",
       "43:     char *str2 = \"Goodbye\";\n",
       "44: \n",
       "45:     /* Normally we'd want to test the return value of pthread_create. */\n",
       "46: \n",
       "47:     (void)pthread_create(&tid1, NULL, write_one_by_one, (void *)str1 );\n",
       "48:     (void)pthread_create(&tid2, NULL, write_one_by_one, (void *)str2 );\n",
       "49: \n",
       "50:     /* Wait for child threads to finish */\n",
       "51:     pthread_join(tid1, NULL);\n",
       "52:     pthread_join(tid2, NULL);\n",
       "53: \n",
       "54:     (void)write(STDOUT_FILENO, \"\\n\", 1);    \n",
       "55:     return 0;\n",
       "56: }\n",
       "57: \n",
       "\n",
       "```\n",
       "\n",
       "\n",
       "</div>\n",
       "</font>"
      ],
      "text/plain": [
       "<IPython.core.display.Markdown object>"
      ]
     },
     "metadata": {},
     "output_type": "display_data"
    }
   ],
   "source": [
    "# demke:\n",
    "# \n",
    "# This cell is removed in the html, but displays the code in the Jupyter notebook.\n",
    "#\n",
    "\n",
    "display(Markdown('<font size=\"1.2rem\">' + FileCodeBox(\n",
    "    file=appdir + \"/output_example.c\", \n",
    "    lang=\"\", \n",
    "    number=True,\n",
    "    title=\"<b>output_example.c - Uncontrolled thread interleaving using output to the terminal.</b>\",\n",
    "    h=\"100%\", \n",
    "    w=\"100%\"\n",
    ") + '</font>'))\n"
   ]
  },
  {
   "cell_type": "code",
   "execution_count": 4,
   "id": "4294b8ba-cd39-4480-8d02-4e2b688f4707",
   "metadata": {
    "tags": [
     "remove-input"
    ]
   },
   "outputs": [
    {
     "data": {
      "application/vnd.jupyter.widget-view+json": {
       "model_id": "319d5c8be3584f308be3a79b86a7a3ad",
       "version_major": 2,
       "version_minor": 0
      },
      "text/plain": [
       "Output(layout=Layout(border_bottom='1px solid black', border_left='1px solid black', border_right='1px solid b…"
      ]
     },
     "execution_count": 4,
     "metadata": {},
     "output_type": "execute_result"
    }
   ],
   "source": [
    "bash.runNoOutput(\"[[ -a output_example ]] && rm output_example;make output_example\")\n",
    "cmds = '''./output_example\n",
    "./output_example\n",
    "./output_example\n",
    "./output_example'''\n",
    "\n",
    "bash.run(cmds)"
   ]
  },
  {
   "cell_type": "code",
   "execution_count": 5,
   "id": "34685f13-c46f-4169-8918-c63fca67ac0e",
   "metadata": {
    "tags": [
     "remove-cell",
     "remove-input",
     "remove-output",
     "hide-output"
    ]
   },
   "outputs": [
    {
     "data": {
      "text/markdown": [
       "<font size=\"1.2rem\"><b>bank_deposit.c - Full source code for simple bank account example</b>\n",
       "<div style=\"width:100%; height:100%; font-size:inherit; overflow: auto;\" >\n",
       "\n",
       "\n",
       "``` \n",
       "0: #include <pthread.h>\n",
       "1: #include <stdlib.h>\n",
       "2: #include <sys/types.h>\n",
       "3: #include <unistd.h>\n",
       "4: #include <string.h>\n",
       "5: #include <stdio.h>\n",
       "6: \n",
       "7: #define money_t double\n",
       "8: #define MAX_ACCOUNTS 1000\n",
       "9: \n",
       "10: struct deposit_s {\n",
       "11:     int account_num;\n",
       "12:     money_t amount;\n",
       "13: };\n",
       "14: \n",
       "15: money_t accounts[MAX_ACCOUNTS];\n",
       "16: \n",
       "17: /* This function is intended so simulate the work of retrieving the current balance\n",
       "18:  * for a given account number. It just spins and yields a random number of times.\n",
       "19:  */\n",
       "20: static money_t get_balance(int account_num)\n",
       "21: {\n",
       "22:     long dummy = 0;\n",
       "23:     int nyield = rand() % 10;\n",
       "24:     int nspin = rand() % 1000;\n",
       "25: \n",
       "26: \n",
       "27:     for (int i = 0; i < nyield; i++) {\n",
       "28:         sched_yield();\n",
       "29:         for (int j = 0; j < nspin; j++) {\n",
       "30:             dummy += rand();\n",
       "31:         }\n",
       "32:     }\n",
       "33: \n",
       "34:     return accounts[account_num];\n",
       "35: }\n",
       "36: \n",
       "37: /* This function is intended so simulate the work of saving the current balance\n",
       "38:  * back to a given account number. It just spins and yields a random number of times.\n",
       "39:  */\n",
       "40: static void put_balance(int account_num, money_t balance)\n",
       "41: {\n",
       "42:     long dummy = 0;\n",
       "43:     int nyield = rand() % 10;\n",
       "44:     int nspin = rand() % 1000;\n",
       "45: \n",
       "46: \n",
       "47:     for (int i = 0; i < nyield; i++) {\n",
       "48:         sched_yield();\n",
       "49:         for (int j = 0; j < nspin; j++) {\n",
       "50:             dummy += rand();\n",
       "51:         }\n",
       "52:     }\n",
       "53: \n",
       "54:     accounts[account_num] = balance;\n",
       "55:     return;\n",
       "56: }\n",
       "57: \n",
       "58: /* Start of deposit function */\n",
       "59: static void deposit(int account, money_t amount)\n",
       "60: {\n",
       "61:     money_t balance = get_balance(account);\n",
       "62:     balance += amount;\n",
       "63:     put_balance(account, balance);\n",
       "64: \n",
       "65:     return;        \n",
       "66: }\n",
       "67: /* End of deposit function */\n",
       "68: \n",
       "69: static void *deposit_thread(void *arg)\n",
       "70: {\n",
       "71:     struct deposit_s *my_deposit = (struct deposit_s *)arg;\n",
       "72:     deposit(my_deposit->account_num, my_deposit->amount);\n",
       "73: \n",
       "74:     return (void *)0;\n",
       "75: }\n",
       "76: \n",
       "77: int main(int argc, char **argv)\n",
       "78: {\n",
       "79:     pthread_t tid1, tid2;\n",
       "80:     int account_num = 100;\n",
       "81:     money_t amt1 = 50.00;\n",
       "82:     money_t amt2 = 100.00; \n",
       "83: \n",
       "84:     struct deposit_s dep1 = {account_num, amt1};\n",
       "85:     struct deposit_s dep2 = {account_num, amt2}; \n",
       "86: \n",
       "87:     /* Normally we'd want to test the return value of pthread_create. */\n",
       "88: \n",
       "89:     (void)pthread_create(&tid1, NULL, deposit_thread, (void *)&dep1 );\n",
       "90:     (void)pthread_create(&tid2, NULL, deposit_thread, (void *)&dep2 );\n",
       "91: \n",
       "92:     /* Wait for child threads to finish */\n",
       "93:     pthread_join(tid1, NULL);\n",
       "94:     pthread_join(tid2, NULL);\n",
       "95: \n",
       "96:     printf(\"Final balance of account #%d after depositing $%.2lf and $%.2lf is $%.2lf\\n\",\n",
       "97:            account_num, amt1, amt2, accounts[account_num] );\n",
       "98:     return 0;\n",
       "99: }\n",
       "\n",
       "```\n",
       "\n",
       "\n",
       "</div>\n",
       "</font>"
      ],
      "text/plain": [
       "<IPython.core.display.Markdown object>"
      ]
     },
     "metadata": {},
     "output_type": "display_data"
    }
   ],
   "source": [
    "# demke:\n",
    "# \n",
    "# This cell is removed in the html, but displays the code in the Jupyter notebook.\n",
    "#\n",
    "\n",
    "display(Markdown('<font size=\"1.2rem\">' + FileCodeBox(\n",
    "    file=appdir + \"/bank_deposit.c\", \n",
    "    lang=\"\", \n",
    "    number=True,\n",
    "    title=\"<b>bank_deposit.c - Full source code for simple bank account example</b>\",\n",
    "    h=\"100%\", \n",
    "    w=\"100%\"\n",
    ") + '</font>'))\n"
   ]
  },
  {
   "cell_type": "code",
   "execution_count": 6,
   "id": "c5cea154-7be2-4383-b97f-03f99101435c",
   "metadata": {
    "tags": [
     "remove-input"
    ]
   },
   "outputs": [
    {
     "data": {
      "application/vnd.jupyter.widget-view+json": {
       "model_id": "ea08f3ef75094da387000f9ac6e734f1",
       "version_major": 2,
       "version_minor": 0
      },
      "text/plain": [
       "Output(layout=Layout(border_bottom='1px solid black', border_left='1px solid black', border_right='1px solid b…"
      ]
     },
     "execution_count": 6,
     "metadata": {},
     "output_type": "execute_result"
    }
   ],
   "source": [
    "bash.runNoOutput(\"[[ -a bank_deposit ]] && rm bank_deposit;make bank_deposit\")\n",
    "cmds = '''./bank_deposit\n",
    "./bank_deposit\n",
    "./bank_deposit\n",
    "./bank_deposit\n",
    "./bank_deposit'''\n",
    "bash.run(cmds)"
   ]
  },
  {
   "cell_type": "code",
   "execution_count": 7,
   "id": "20ee3aff-96ce-4d98-9827-6492f3b18c6b",
   "metadata": {
    "tags": [
     "remove-cell",
     "remove-input",
     "remove-output",
     "hide-output"
    ]
   },
   "outputs": [
    {
     "data": {
      "text/markdown": [
       "<font size=\"1.2rem\"><b>counter.c - Two threads increment and decrement a shared counter without synchronization.</b>\n",
       "<div style=\"width:100%; height:100%; font-size:inherit; overflow: auto;\" >\n",
       "\n",
       "\n",
       "``` \n",
       "0: #include <pthread.h>\n",
       "1: #include <stdlib.h>\n",
       "2: #include <sys/types.h>\n",
       "3: #include <unistd.h>\n",
       "4: #include <string.h>\n",
       "5: #include <stdio.h>\n",
       "6: \n",
       "7: volatile long shared_counter;\n",
       "8: \n",
       "9: static void *increment_thread(void *arg)\n",
       "10: {\n",
       "11:     long niters = (long)arg;\n",
       "12:     for (long i = 0; i < niters; i++) {\n",
       "13:         shared_counter++;\n",
       "14:     }\n",
       "15: \n",
       "16:     return (void *)0;\n",
       "17: }\n",
       "18: \n",
       "19: static void *decrement_thread(void *arg)\n",
       "20: {\n",
       "21:     long niters = (long)arg;\n",
       "22: \n",
       "23:     for (long i = 0; i < niters; i++) {\n",
       "24:         shared_counter--;\n",
       "25:     }\n",
       "26: \n",
       "27:     return (void *)0;\n",
       "28: }\n",
       "29: \n",
       "30: int main(int argc, char **argv)\n",
       "31: {\n",
       "32:     pthread_t *tids;\n",
       "33:     long niters;\n",
       "34:     int nthreads;\n",
       "35:     \n",
       "36:     if (argc != 3) {\n",
       "37:         fprintf(stderr,\"Usage: %s <num_threads> <num_iters>\\n\",argv[0]);\n",
       "38:         return 1;\n",
       "39:     }\n",
       "40: \n",
       "41:     nthreads = atoi(argv[1]);\n",
       "42:     niters = atoi(argv[2]);\n",
       "43:     shared_counter = 0;\n",
       "44:     \n",
       "45:     printf(\"Main thread: Beginning test with %d threads\\n\", nthreads);\n",
       "46:     \n",
       "47:     tids = (pthread_t *)malloc(nthreads * sizeof(pthread_t));\n",
       "48:     \n",
       "49:     /* We create the same number of increment and decrement threads, each doing the same number of iterations. \n",
       "50:      * When all threads have completed, we expect the final value of the shared counter to be the same as its\n",
       "51:      * initial value (i.e., 0).\n",
       "52:      */\n",
       "53:     for (int i = 0; i < nthreads; i+=2) {\n",
       "54:         (void)pthread_create(&tids[i], NULL, increment_thread, (void *)niters );\n",
       "55:         (void)pthread_create(&tids[i+1], NULL, decrement_thread, (void *)niters );\n",
       "56:     }\n",
       "57:     \n",
       "58:     /* Wait for child threads to finish */\n",
       "59:     for (int i = 0; i < nthreads; i+=2) {\n",
       "60:         pthread_join(tids[i], NULL);\n",
       "61:         pthread_join(tids[i+1], NULL);\n",
       "62:     }\n",
       "63:     \n",
       "64:     printf(\"Main thread: Final value of shared counter is %ld\\n\", shared_counter);\n",
       "65: \n",
       "66:     return 0;\n",
       "67: }\n",
       "\n",
       "```\n",
       "\n",
       "\n",
       "</div>\n",
       "</font>"
      ],
      "text/plain": [
       "<IPython.core.display.Markdown object>"
      ]
     },
     "metadata": {},
     "output_type": "display_data"
    }
   ],
   "source": [
    "# demke:\n",
    "# \n",
    "# This cell is removed in the html, but displays the code in the Jupyter notebook.\n",
    "#\n",
    "\n",
    "display(Markdown('<font size=\"1.2rem\">' + FileCodeBox(\n",
    "    file=appdir + \"/counter.c\", \n",
    "    lang=\"\", \n",
    "    number=True,\n",
    "    title=\"<b>counter.c - Two threads increment and decrement a shared counter without synchronization.</b>\",\n",
    "    h=\"100%\", \n",
    "    w=\"100%\"\n",
    ") + '</font>'))\n"
   ]
  },
  {
   "cell_type": "code",
   "execution_count": 8,
   "id": "573a1a67-2ddf-4b48-b027-a3809f71cfcc",
   "metadata": {
    "tags": [
     "remove-input"
    ]
   },
   "outputs": [
    {
     "data": {
      "application/vnd.jupyter.widget-view+json": {
       "model_id": "44655cdea46e48c2b7241110446206cb",
       "version_major": 2,
       "version_minor": 0
      },
      "text/plain": [
       "Output(layout=Layout(border_bottom='1px solid black', border_left='1px solid black', border_right='1px solid b…"
      ]
     },
     "execution_count": 8,
     "metadata": {},
     "output_type": "execute_result"
    }
   ],
   "source": [
    "bash.runNoOutput(\"[[ -a counter ]] && rm counter;make counter\")\n",
    "cmds = '''./counter 2 20000\n",
    "./counter 2 100000\n",
    "./counter 4 100000\n",
    "./counter 4 100000'''\n",
    "\n",
    "bash.run(cmds)"
   ]
  }
 ],
 "metadata": {
  "kernelspec": {
   "display_name": "Python 3 (ipykernel)",
   "language": "python",
   "name": "python3"
  },
  "language_info": {
   "codemirror_mode": {
    "name": "ipython",
    "version": 3
   },
   "file_extension": ".py",
   "mimetype": "text/x-python",
   "name": "python",
   "nbconvert_exporter": "python",
   "pygments_lexer": "ipython3",
   "version": "3.12.3"
  },
  "widgets": {
   "application/vnd.jupyter.widget-state+json": {
    "state": {
     "13dac679d5024b9487e061bc405af2a9": {
      "model_module": "@jupyter-widgets/base",
      "model_module_version": "2.0.0",
      "model_name": "LayoutModel",
      "state": {
       "_model_module": "@jupyter-widgets/base",
       "_model_module_version": "2.0.0",
       "_model_name": "LayoutModel",
       "_view_count": null,
       "_view_module": "@jupyter-widgets/base",
       "_view_module_version": "2.0.0",
       "_view_name": "LayoutView",
       "align_content": null,
       "align_items": null,
       "align_self": null,
       "border_bottom": "1px solid black",
       "border_left": "1px solid black",
       "border_right": "1px solid black",
       "border_top": "1px solid black",
       "bottom": null,
       "display": null,
       "flex": null,
       "flex_flow": null,
       "grid_area": null,
       "grid_auto_columns": null,
       "grid_auto_flow": null,
       "grid_auto_rows": null,
       "grid_column": null,
       "grid_gap": null,
       "grid_row": null,
       "grid_template_areas": null,
       "grid_template_columns": null,
       "grid_template_rows": null,
       "height": "100%",
       "justify_content": null,
       "justify_items": null,
       "left": null,
       "margin": null,
       "max_height": null,
       "max_width": null,
       "min_height": null,
       "min_width": null,
       "object_fit": null,
       "object_position": null,
       "order": null,
       "overflow": null,
       "padding": null,
       "right": null,
       "top": null,
       "visibility": null,
       "width": null
      }
     },
     "2937ffca6adb459f8d7d16240fd2211c": {
      "model_module": "@jupyter-widgets/output",
      "model_module_version": "1.0.0",
      "model_name": "OutputModel",
      "state": {
       "_dom_classes": [],
       "_model_module": "@jupyter-widgets/output",
       "_model_module_version": "1.0.0",
       "_model_name": "OutputModel",
       "_view_count": null,
       "_view_module": "@jupyter-widgets/output",
       "_view_module_version": "1.0.0",
       "_view_name": "OutputView",
       "layout": "IPY_MODEL_9cee57dd71de4b849387b6346293cdb6",
       "msg_id": "",
       "outputs": [
        {
         "name": "stdout",
         "output_type": "stream",
         "text": "$ [[ -d mydir ]] && rm -rf mydir\r\ntrantor@P7xxTM1:~$     #\r\ntrantor@P7xxTM1:~$ "
        }
       ],
       "tabbable": null,
       "tooltip": null
      }
     },
     "319d5c8be3584f308be3a79b86a7a3ad": {
      "model_module": "@jupyter-widgets/output",
      "model_module_version": "1.0.0",
      "model_name": "OutputModel",
      "state": {
       "_dom_classes": [],
       "_model_module": "@jupyter-widgets/output",
       "_model_module_version": "1.0.0",
       "_model_name": "OutputModel",
       "_view_count": null,
       "_view_module": "@jupyter-widgets/output",
       "_view_module_version": "1.0.0",
       "_view_name": "OutputView",
       "layout": "IPY_MODEL_13dac679d5024b9487e061bc405af2a9",
       "msg_id": "",
       "outputs": [
        {
         "name": "stdout",
         "output_type": "stream",
         "text": "$ ./output_example\r\nHGeloloodbye\r\ntrantor@P7xxTM1:~/sync$ ./output_example\r\nHGeololdobye\r\ntrantor@P7xxTM1:~/sync$ ./output_example\r\nHGeololdobye\r\ntrantor@P7xxTM1:~/sync$ ./output_example\r\nHGoeoldbloye\r\ntrantor@P7xxTM1:~/sync$ "
        }
       ],
       "tabbable": null,
       "tooltip": null
      }
     },
     "44655cdea46e48c2b7241110446206cb": {
      "model_module": "@jupyter-widgets/output",
      "model_module_version": "1.0.0",
      "model_name": "OutputModel",
      "state": {
       "_dom_classes": [],
       "_model_module": "@jupyter-widgets/output",
       "_model_module_version": "1.0.0",
       "_model_name": "OutputModel",
       "_view_count": null,
       "_view_module": "@jupyter-widgets/output",
       "_view_module_version": "1.0.0",
       "_view_name": "OutputView",
       "layout": "IPY_MODEL_5b7f0fab83ef4862b2b5330078965eea",
       "msg_id": "",
       "outputs": [
        {
         "name": "stdout",
         "output_type": "stream",
         "text": "$ ./counter 2 20000\r\nMain thread: Beginning test with 2 threads\r\nMain thread: Final value of shared counter is 0\r\ntrantor@P7xxTM1:~/sync$ ./counter 2 100000\r\nMain thread: Beginning test with 2 threads\r\nMain thread: Final value of shared counter is -32944\r\ntrantor@P7xxTM1:~/sync$ ./counter 4 100000\r\nMain thread: Beginning test with 4 threads\r\nMain thread: Final value of shared counter is 4441\r\ntrantor@P7xxTM1:~/sync$ ./counter 4 100000\r\nMain thread: Beginning test with 4 threads\r\nMain thread: Final value of shared counter is -15059\r\ntrantor@P7xxTM1:~/sync$ "
        }
       ],
       "tabbable": null,
       "tooltip": null
      }
     },
     "4647c7e1a6f945cbac58a5a6206ab211": {
      "model_module": "@jupyter-widgets/base",
      "model_module_version": "2.0.0",
      "model_name": "LayoutModel",
      "state": {
       "_model_module": "@jupyter-widgets/base",
       "_model_module_version": "2.0.0",
       "_model_name": "LayoutModel",
       "_view_count": null,
       "_view_module": "@jupyter-widgets/base",
       "_view_module_version": "2.0.0",
       "_view_name": "LayoutView",
       "align_content": null,
       "align_items": null,
       "align_self": null,
       "border_bottom": "1px solid black",
       "border_left": "1px solid black",
       "border_right": "1px solid black",
       "border_top": "1px solid black",
       "bottom": null,
       "display": null,
       "flex": null,
       "flex_flow": null,
       "grid_area": null,
       "grid_auto_columns": null,
       "grid_auto_flow": null,
       "grid_auto_rows": null,
       "grid_column": null,
       "grid_gap": null,
       "grid_row": null,
       "grid_template_areas": null,
       "grid_template_columns": null,
       "grid_template_rows": null,
       "height": "100%",
       "justify_content": null,
       "justify_items": null,
       "left": null,
       "margin": null,
       "max_height": null,
       "max_width": null,
       "min_height": null,
       "min_width": null,
       "object_fit": null,
       "object_position": null,
       "order": null,
       "overflow": null,
       "padding": null,
       "right": null,
       "top": null,
       "visibility": null,
       "width": null
      }
     },
     "5b7f0fab83ef4862b2b5330078965eea": {
      "model_module": "@jupyter-widgets/base",
      "model_module_version": "2.0.0",
      "model_name": "LayoutModel",
      "state": {
       "_model_module": "@jupyter-widgets/base",
       "_model_module_version": "2.0.0",
       "_model_name": "LayoutModel",
       "_view_count": null,
       "_view_module": "@jupyter-widgets/base",
       "_view_module_version": "2.0.0",
       "_view_name": "LayoutView",
       "align_content": null,
       "align_items": null,
       "align_self": null,
       "border_bottom": "1px solid black",
       "border_left": "1px solid black",
       "border_right": "1px solid black",
       "border_top": "1px solid black",
       "bottom": null,
       "display": null,
       "flex": null,
       "flex_flow": null,
       "grid_area": null,
       "grid_auto_columns": null,
       "grid_auto_flow": null,
       "grid_auto_rows": null,
       "grid_column": null,
       "grid_gap": null,
       "grid_row": null,
       "grid_template_areas": null,
       "grid_template_columns": null,
       "grid_template_rows": null,
       "height": "100%",
       "justify_content": null,
       "justify_items": null,
       "left": null,
       "margin": null,
       "max_height": null,
       "max_width": null,
       "min_height": null,
       "min_width": null,
       "object_fit": null,
       "object_position": null,
       "order": null,
       "overflow": null,
       "padding": null,
       "right": null,
       "top": null,
       "visibility": null,
       "width": null
      }
     },
     "9cee57dd71de4b849387b6346293cdb6": {
      "model_module": "@jupyter-widgets/base",
      "model_module_version": "2.0.0",
      "model_name": "LayoutModel",
      "state": {
       "_model_module": "@jupyter-widgets/base",
       "_model_module_version": "2.0.0",
       "_model_name": "LayoutModel",
       "_view_count": null,
       "_view_module": "@jupyter-widgets/base",
       "_view_module_version": "2.0.0",
       "_view_name": "LayoutView",
       "align_content": null,
       "align_items": null,
       "align_self": null,
       "border_bottom": "1px solid black",
       "border_left": "1px solid black",
       "border_right": "1px solid black",
       "border_top": "1px solid black",
       "bottom": null,
       "display": null,
       "flex": null,
       "flex_flow": null,
       "grid_area": null,
       "grid_auto_columns": null,
       "grid_auto_flow": null,
       "grid_auto_rows": null,
       "grid_column": null,
       "grid_gap": null,
       "grid_row": null,
       "grid_template_areas": null,
       "grid_template_columns": null,
       "grid_template_rows": null,
       "height": "100%",
       "justify_content": null,
       "justify_items": null,
       "left": null,
       "margin": null,
       "max_height": null,
       "max_width": null,
       "min_height": null,
       "min_width": null,
       "object_fit": null,
       "object_position": null,
       "order": null,
       "overflow": null,
       "padding": null,
       "right": null,
       "top": null,
       "visibility": null,
       "width": null
      }
     },
     "ea08f3ef75094da387000f9ac6e734f1": {
      "model_module": "@jupyter-widgets/output",
      "model_module_version": "1.0.0",
      "model_name": "OutputModel",
      "state": {
       "_dom_classes": [],
       "_model_module": "@jupyter-widgets/output",
       "_model_module_version": "1.0.0",
       "_model_name": "OutputModel",
       "_view_count": null,
       "_view_module": "@jupyter-widgets/output",
       "_view_module_version": "1.0.0",
       "_view_name": "OutputView",
       "layout": "IPY_MODEL_4647c7e1a6f945cbac58a5a6206ab211",
       "msg_id": "",
       "outputs": [
        {
         "name": "stdout",
         "output_type": "stream",
         "text": "$ ./bank_deposit\r\nFinal balance of account #100 after depositing $50.00 and $100.00 is $50.00\r\ntrantor@P7xxTM1:~/sync$ ./bank_deposit\r\nFinal balance of account #100 after depositing $50.00 and $100.00 is $150.00\r\ntrantor@P7xxTM1:~/sync$ ./bank_deposit\r\nFinal balance of account #100 after depositing $50.00 and $100.00 is $150.00\r\ntrantor@P7xxTM1:~/sync$ ./bank_deposit\r\nFinal balance of account #100 after depositing $50.00 and $100.00 is $150.00\r\ntrantor@P7xxTM1:~/sync$ ./bank_deposit\r\nFinal balance of account #100 after depositing $50.00 and $100.00 is $150.00\r\ntrantor@P7xxTM1:~/sync$ "
        }
       ],
       "tabbable": null,
       "tooltip": null
      }
     }
    },
    "version_major": 2,
    "version_minor": 0
   }
  }
 },
 "nbformat": 4,
 "nbformat_minor": 5
}