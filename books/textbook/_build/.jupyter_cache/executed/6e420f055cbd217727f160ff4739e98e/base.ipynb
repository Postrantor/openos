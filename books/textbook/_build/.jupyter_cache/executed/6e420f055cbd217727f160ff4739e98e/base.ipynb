{
 "cells": [
  {
   "cell_type": "code",
   "execution_count": 1,
   "id": "44083773-7831-4c1f-ac34-3f9fa2e5b288",
   "metadata": {
    "tags": [
     "remove-output",
     "remove-cell",
     "remove-input"
    ]
   },
   "outputs": [],
   "source": [
    "%run -i ../python/common.py\n",
    "publish=False\n",
    "\n",
    "if not publish:\n",
    "    # cleanup any old state\n",
    "    # demke - fill in as we see what state gets generated in this page.\n",
    "    bashCmds('''[[ -d mydir ]] && rm -rf mydir\n",
    "    #''')\n",
    "else:\n",
    "    bashCmds('''rm -rf ~/*''')\n",
    "    \n",
    "closeAllOpenTtySessions()\n",
    "\n"
   ]
  },
  {
   "cell_type": "code",
   "execution_count": 2,
   "id": "6eb3bc99-4c9f-41c8-8505-8011780d847e",
   "metadata": {
    "tags": [
     "remove-input"
    ]
   },
   "outputs": [],
   "source": [
    "appdir=os.getenv('HOME')\n",
    "appdir=appdir + \"/sync\"\n",
    "output = runTermCmd(\"[[ -d \" + appdir + \" ]] &&  rm -rf \"+ appdir + \n",
    "             \";cp -r ../src/sync \" + appdir)\n",
    "\n",
    "bash = BashSession(cwd=appdir)"
   ]
  },
  {
   "cell_type": "code",
   "execution_count": 3,
   "id": "9ba0fde8-dbec-405a-bd05-3bb63643a76d",
   "metadata": {
    "tags": [
     "remove-output",
     "remove-cell",
     "remove-input"
    ]
   },
   "outputs": [
    {
     "data": {
      "text/markdown": [
       "<font size=\"1.2rem\"><b>counter.c - Two threads increment and decrement a shared counter without synchronization.</b>\n",
       "<div style=\"width:100%; height:100%; font-size:inherit; overflow: auto;\" >\n",
       "\n",
       "\n",
       "``` \n",
       "0: #include <pthread.h>\n",
       "1: #include <stdlib.h>\n",
       "2: #include <sys/types.h>\n",
       "3: #include <unistd.h>\n",
       "4: #include <string.h>\n",
       "5: #include <stdio.h>\n",
       "6: \n",
       "7: pthread_mutex_t mutex = PTHREAD_MUTEX_INITIALIZER;\n",
       "8: volatile long shared_counter;\n",
       "9: \n",
       "10: static void *increment_thread(void *arg)\n",
       "11: {\n",
       "12:     long niters = (long)arg;\n",
       "13:     for (int i = 0; i < niters; i++) {\n",
       "14:         pthread_mutex_lock(&mutex);\n",
       "15:         shared_counter++;\n",
       "16:         pthread_mutex_unlock(&mutex);\n",
       "17:     }\n",
       "18: \n",
       "19:     return (void *)0;\n",
       "20: }\n",
       "21: \n",
       "22: static void *decrement_thread(void *arg)\n",
       "23: {\n",
       "24:     long niters = (long)arg;\n",
       "25: \n",
       "26:     for (int i = 0; i < niters; i++) {\n",
       "27:         pthread_mutex_lock(&mutex);\n",
       "28:         shared_counter--;\n",
       "29:         pthread_mutex_unlock(&mutex);\n",
       "30:     }\n",
       "31: \n",
       "32:     return (void *)0;\n",
       "33: }\n",
       "34: \n",
       "35: int main(int argc, char **argv)\n",
       "36: {\n",
       "37:     pthread_t *tids;\n",
       "38:     long niters;\n",
       "39:     int nthreads, i;\n",
       "40:     \n",
       "41:     if (argc != 3) {\n",
       "42:         fprintf(stderr,\"Usage: %s <num_threads> <num_iters>\\n\",argv[0]);\n",
       "43:         return 1;\n",
       "44:     }\n",
       "45: \n",
       "46:     nthreads = atoi(argv[1]);\n",
       "47:     niters = atoi(argv[2]);\n",
       "48:     shared_counter = 0;\n",
       "49:     \n",
       "50:     printf(\"Main thread: Beginning test with %d threads\\n\", nthreads);\n",
       "51:     \n",
       "52:     tids = (pthread_t *)malloc(nthreads * sizeof(pthread_t));\n",
       "53:     \n",
       "54:     /* We create the same number of increment and decrement threads, each doing the same number of iterations. \n",
       "55:      * When all threads have completed, we expect the final value of the shared counter to be the same as its\n",
       "56:      * initial value (i.e., 0).\n",
       "57:      */\n",
       "58:     for (i = 0; i < nthreads; i+=2) {\n",
       "59:         (void)pthread_create(&tids[i], NULL, increment_thread, (void *)niters );\n",
       "60:         (void)pthread_create(&tids[i+1], NULL, decrement_thread, (void *)niters );\n",
       "61:     }\n",
       "62:     \n",
       "63:     /* Wait for child threads to finish */\n",
       "64:     for (i = 0; i < nthreads; i+=2) {\n",
       "65:         pthread_join(tids[i], NULL);\n",
       "66:         pthread_join(tids[i+1], NULL);\n",
       "67:     }\n",
       "68:     \n",
       "69:     printf(\"Main thread: Final value of shared counter is %ld\\n\", shared_counter);\n",
       "70: \n",
       "71:     return 0;\n",
       "72: }\n",
       "\n",
       "```\n",
       "\n",
       "\n",
       "</div>\n",
       "</font>"
      ],
      "text/plain": [
       "<IPython.core.display.Markdown object>"
      ]
     },
     "metadata": {},
     "output_type": "display_data"
    }
   ],
   "source": [
    "# demke:\n",
    "# \n",
    "# This cell is removed in the html, but displays the code in the Jupyter notebook.\n",
    "#\n",
    "\n",
    "display(Markdown('<font size=\"1.2rem\">' + FileCodeBox(\n",
    "    file=appdir + \"/counter_mutex.c\", \n",
    "    lang=\"\", \n",
    "    number=True,\n",
    "    title=\"<b>counter.c - Two threads increment and decrement a shared counter without synchronization.</b>\",\n",
    "    h=\"100%\", \n",
    "    w=\"100%\"\n",
    ") + '</font>'))"
   ]
  },
  {
   "cell_type": "code",
   "execution_count": 4,
   "id": "6089c910-df39-4af8-93dd-57dd8e73a742",
   "metadata": {
    "tags": [
     "remove-input"
    ]
   },
   "outputs": [
    {
     "data": {
      "application/vnd.jupyter.widget-view+json": {
       "model_id": "3596f25f8fc64f3fb962a28d0f891372",
       "version_major": 2,
       "version_minor": 0
      },
      "text/plain": [
       "Output(layout=Layout(border_bottom='1px solid black', border_left='1px solid black', border_right='1px solid b…"
      ]
     },
     "execution_count": 4,
     "metadata": {},
     "output_type": "execute_result"
    }
   ],
   "source": [
    "bash.runNoOutput(\"[[ -a counter_mutex ]] && rm counter_mutex;make counter_mutex\")\n",
    "cmds = '''./counter_mutex 2 20000\n",
    "./counter_mutex 2 100000\n",
    "./counter_mutex 4 100000\n",
    "./counter_mutex 4 100000'''\n",
    "\n",
    "bash.run(cmds)"
   ]
  }
 ],
 "metadata": {
  "kernelspec": {
   "display_name": "Python 3 (ipykernel)",
   "language": "python",
   "name": "python3"
  },
  "language_info": {
   "codemirror_mode": {
    "name": "ipython",
    "version": 3
   },
   "file_extension": ".py",
   "mimetype": "text/x-python",
   "name": "python",
   "nbconvert_exporter": "python",
   "pygments_lexer": "ipython3",
   "version": "3.12.3"
  },
  "widgets": {
   "application/vnd.jupyter.widget-state+json": {
    "state": {
     "10c5605cf5ac4a5bbb1630be8eb0793d": {
      "model_module": "@jupyter-widgets/base",
      "model_module_version": "2.0.0",
      "model_name": "LayoutModel",
      "state": {
       "_model_module": "@jupyter-widgets/base",
       "_model_module_version": "2.0.0",
       "_model_name": "LayoutModel",
       "_view_count": null,
       "_view_module": "@jupyter-widgets/base",
       "_view_module_version": "2.0.0",
       "_view_name": "LayoutView",
       "align_content": null,
       "align_items": null,
       "align_self": null,
       "border_bottom": "1px solid black",
       "border_left": "1px solid black",
       "border_right": "1px solid black",
       "border_top": "1px solid black",
       "bottom": null,
       "display": null,
       "flex": null,
       "flex_flow": null,
       "grid_area": null,
       "grid_auto_columns": null,
       "grid_auto_flow": null,
       "grid_auto_rows": null,
       "grid_column": null,
       "grid_gap": null,
       "grid_row": null,
       "grid_template_areas": null,
       "grid_template_columns": null,
       "grid_template_rows": null,
       "height": "100%",
       "justify_content": null,
       "justify_items": null,
       "left": null,
       "margin": null,
       "max_height": null,
       "max_width": null,
       "min_height": null,
       "min_width": null,
       "object_fit": null,
       "object_position": null,
       "order": null,
       "overflow": null,
       "padding": null,
       "right": null,
       "top": null,
       "visibility": null,
       "width": null
      }
     },
     "140f6170feff4ec38fb242398fca75d0": {
      "model_module": "@jupyter-widgets/base",
      "model_module_version": "2.0.0",
      "model_name": "LayoutModel",
      "state": {
       "_model_module": "@jupyter-widgets/base",
       "_model_module_version": "2.0.0",
       "_model_name": "LayoutModel",
       "_view_count": null,
       "_view_module": "@jupyter-widgets/base",
       "_view_module_version": "2.0.0",
       "_view_name": "LayoutView",
       "align_content": null,
       "align_items": null,
       "align_self": null,
       "border_bottom": "1px solid black",
       "border_left": "1px solid black",
       "border_right": "1px solid black",
       "border_top": "1px solid black",
       "bottom": null,
       "display": null,
       "flex": null,
       "flex_flow": null,
       "grid_area": null,
       "grid_auto_columns": null,
       "grid_auto_flow": null,
       "grid_auto_rows": null,
       "grid_column": null,
       "grid_gap": null,
       "grid_row": null,
       "grid_template_areas": null,
       "grid_template_columns": null,
       "grid_template_rows": null,
       "height": "100%",
       "justify_content": null,
       "justify_items": null,
       "left": null,
       "margin": null,
       "max_height": null,
       "max_width": null,
       "min_height": null,
       "min_width": null,
       "object_fit": null,
       "object_position": null,
       "order": null,
       "overflow": null,
       "padding": null,
       "right": null,
       "top": null,
       "visibility": null,
       "width": null
      }
     },
     "3596f25f8fc64f3fb962a28d0f891372": {
      "model_module": "@jupyter-widgets/output",
      "model_module_version": "1.0.0",
      "model_name": "OutputModel",
      "state": {
       "_dom_classes": [],
       "_model_module": "@jupyter-widgets/output",
       "_model_module_version": "1.0.0",
       "_model_name": "OutputModel",
       "_view_count": null,
       "_view_module": "@jupyter-widgets/output",
       "_view_module_version": "1.0.0",
       "_view_name": "OutputView",
       "layout": "IPY_MODEL_140f6170feff4ec38fb242398fca75d0",
       "msg_id": "",
       "outputs": [
        {
         "name": "stdout",
         "output_type": "stream",
         "text": "$ ./counter_mutex 2 20000\r\nMain thread: Beginning test with 2 threads\r\nMain thread: Final value of shared counter is 0\r\ntrantor@P7xxTM1:~/sync$ ./counter_mutex 2 100000\r\nMain thread: Beginning test with 2 threads\r\nMain thread: Final value of shared counter is 0\r\ntrantor@P7xxTM1:~/sync$ ./counter_mutex 4 100000\r\nMain thread: Beginning test with 4 threads\r\nMain thread: Final value of shared counter is 0\r\ntrantor@P7xxTM1:~/sync$ ./counter_mutex 4 100000\r\nMain thread: Beginning test with 4 threads\r\nMain thread: Final value of shared counter is 0\r\ntrantor@P7xxTM1:~/sync$ "
        }
       ],
       "tabbable": null,
       "tooltip": null
      }
     },
     "d3e4c0434fbb496794c2d4f5d93c7ba3": {
      "model_module": "@jupyter-widgets/output",
      "model_module_version": "1.0.0",
      "model_name": "OutputModel",
      "state": {
       "_dom_classes": [],
       "_model_module": "@jupyter-widgets/output",
       "_model_module_version": "1.0.0",
       "_model_name": "OutputModel",
       "_view_count": null,
       "_view_module": "@jupyter-widgets/output",
       "_view_module_version": "1.0.0",
       "_view_name": "OutputView",
       "layout": "IPY_MODEL_10c5605cf5ac4a5bbb1630be8eb0793d",
       "msg_id": "",
       "outputs": [
        {
         "name": "stdout",
         "output_type": "stream",
         "text": "$ [[ -d mydir ]] && rm -rf mydir\r\ntrantor@P7xxTM1:~$     #\r\ntrantor@P7xxTM1:~$ "
        }
       ],
       "tabbable": null,
       "tooltip": null
      }
     }
    },
    "version_major": 2,
    "version_minor": 0
   }
  }
 },
 "nbformat": 4,
 "nbformat_minor": 5
}