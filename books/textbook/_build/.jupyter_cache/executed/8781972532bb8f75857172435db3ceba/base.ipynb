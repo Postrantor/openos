{
 "cells": [
  {
   "cell_type": "code",
   "execution_count": null,
   "id": "6a5a10f1-924b-404e-8f7e-bc1fec7ca543",
   "metadata": {
    "tags": []
   },
   "outputs": [],
   "source": []
  },
  {
   "cell_type": "code",
   "execution_count": null,
   "id": "3ffbed7f-f487-4d1c-a4bb-db68f0c2ab13",
   "metadata": {},
   "outputs": [],
   "source": []
  }
 ],
 "metadata": {
  "kernelspec": {
   "display_name": "Python 3 (ipykernel)",
   "language": "python",
   "name": "python3"
  },
  "language_info": {
   "codemirror_mode": {
    "name": "ipython",
    "version": 3
   },
   "file_extension": ".py",
   "mimetype": "text/x-python",
   "name": "python",
   "nbconvert_exporter": "python",
   "pygments_lexer": "ipython3",
   "version": "3.12.3"
  },
  "vscode": {
   "interpreter": {
    "hash": "f4e3c63a28d2eadc36e3bba0725a6dea388233dd4d06cf5319c6ed40df7370ac"
   }
  }
 },
 "nbformat": 4,
 "nbformat_minor": 5
}