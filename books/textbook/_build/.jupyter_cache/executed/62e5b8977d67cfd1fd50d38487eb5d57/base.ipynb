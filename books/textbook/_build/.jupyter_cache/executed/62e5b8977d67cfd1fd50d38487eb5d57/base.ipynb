{
 "cells": [
  {
   "cell_type": "code",
   "execution_count": 1,
   "id": "44083773-7831-4c1f-ac34-3f9fa2e5b288",
   "metadata": {
    "tags": [
     "remove-output",
     "remove-cell",
     "remove-input"
    ]
   },
   "outputs": [],
   "source": [
    "%run -i ../python/common.py\n",
    "publish=False\n",
    "\n",
    "if not publish:\n",
    "    # cleanup any old state\n",
    "    # demke - fill in as we see what state gets generated in this page.\n",
    "    bashCmds('''[[ -d mydir ]] && rm -rf mydir\n",
    "    #''')\n",
    "else:\n",
    "    bashCmds('''rm -rf ~/*''')\n",
    "    \n",
    "closeAllOpenTtySessions()\n",
    "\n"
   ]
  },
  {
   "cell_type": "code",
   "execution_count": 2,
   "id": "6eb3bc99-4c9f-41c8-8505-8011780d847e",
   "metadata": {
    "tags": [
     "remove-input"
    ]
   },
   "outputs": [],
   "source": [
    "appdir=os.getenv('HOME')\n",
    "appdir=appdir + \"/sync\"\n",
    "output = runTermCmd(\"[[ -d \" + appdir + \" ]] &&  rm -rf \"+ appdir + \n",
    "             \";cp -r ../src/sync \" + appdir)\n",
    "\n",
    "bash = BashSession(cwd=appdir)"
   ]
  },
  {
   "cell_type": "code",
   "execution_count": 3,
   "id": "50716aac-680e-4aa9-ad83-5c0b291377fa",
   "metadata": {
    "tags": [
     "remove-output",
     "remove-cell",
     "remove-input"
    ]
   },
   "outputs": [
    {
     "data": {
      "text/markdown": [
       "<font size=\"1.2rem\"><b>Bounded buffer with sleep() and wakeup()</b>\n",
       "<div style=\"width:100%; height:100%; font-size:inherit; overflow: auto;\" >\n",
       "\n",
       "\n",
       "``` \n",
       "0: /* For illustration purposes only. \n",
       "1:  * This code is not complete and cannot be compiled into an executable.\n",
       "2:  */\n",
       "3: #include <stdatomic.h>\n",
       "4: #include <stdbool.h>\n",
       "5: #include \"waitqueue.h\"\n",
       "6: \n",
       "7: extern char produce_item();\n",
       "8: extern void consume_item(char item);\n",
       "9: \n",
       "10: #define N 2\n",
       "11: \n",
       "12: struct bounded_buffer {\n",
       "13: \tchar data[N];   /* 'items' in this example are just bytes */\n",
       "14: \tint in;     /* index where producer inserts items, initially 0 */\n",
       "15: \tint out;    /* index where consumer removes items, initially 0 */\n",
       "16: \tatomic_int count;  /* number of items currently in buffer, initially 0 */\n",
       "17: \tstruct wait_queue waitq; /* keep track of waiting threads */\n",
       "18: };\n",
       "19: \n",
       "20: struct bounded_buffer bb;\n",
       "21: \n",
       "22: void *producer(void *arg) {\n",
       "23:     while(true) {\n",
       "24:         char item = produce_item();\n",
       "25:         if (bb.count == N)\n",
       "26:             sleep(&bb.waitq);\n",
       "27:         bb.data[bb.in] = item;\n",
       "28:         bb.in = (bb.in + 1) % N;\n",
       "29:         bb.count++;\n",
       "30:         if (bb.count == 1) \n",
       "31:             wakeup(&bb.waitq);\n",
       "32:     }\n",
       "33: }\n",
       "34: \n",
       "35: void *consumer(void *arg) {\n",
       "36:     while(true) {\n",
       "37:         if (bb.count == 0) \n",
       "38:             sleep(&bb.waitq);\n",
       "39:         char item = bb.data[bb.out];\n",
       "40:         bb.out = (bb.out + 1) % N;\n",
       "41:         bb.count--;\n",
       "42:         if (bb.count == N-1) \n",
       "43:             wakeup(&bb.waitq);\n",
       "44:         consume_item(item);\n",
       "45:     }\n",
       "46: }\n",
       "\n",
       "```\n",
       "\n",
       "\n",
       "</div>\n",
       "</font>"
      ],
      "text/plain": [
       "<IPython.core.display.Markdown object>"
      ]
     },
     "metadata": {},
     "output_type": "display_data"
    }
   ],
   "source": [
    "# demke:\n",
    "# \n",
    "# This cell is removed in the html, but displays the code in the Jupyter notebook.\n",
    "#\n",
    "\n",
    "display(Markdown('<font size=\"1.2rem\">' + FileCodeBox(\n",
    "    file=appdir + \"/bounded_buffer_wq.c\", \n",
    "    lang=\"\", \n",
    "    number=True,\n",
    "    title=\"<b>Bounded buffer with sleep() and wakeup()</b>\",\n",
    "    h=\"100%\", \n",
    "    w=\"100%\"\n",
    ") + '</font>'))"
   ]
  },
  {
   "cell_type": "code",
   "execution_count": 4,
   "id": "24b12544-7e08-4a0e-93ed-dfc61758d5b4",
   "metadata": {
    "tags": [
     "remove-cell",
     "remove-output",
     "remove-input"
    ]
   },
   "outputs": [
    {
     "data": {
      "text/markdown": [
       "<font size=\"1.2rem\"><b>Bounded buffer with semaphores</b>\n",
       "<div style=\"width:100%; height:100%; font-size:inherit; overflow: auto;\" >\n",
       "\n",
       "\n",
       "``` \n",
       "0: /* For illustration purposes only. \n",
       "1:  * This code is not complete and cannot be compiled into an executable.\n",
       "2:  */\n",
       "3: #include <semaphore.h>\n",
       "4: #include <stdbool.h>\n",
       "5: \n",
       "6: extern char produce_item();\n",
       "7: extern void consume_item(char item);\n",
       "8: \n",
       "9: #define N 2\n",
       "10: \n",
       "11: struct bounded_buffer {\n",
       "12:     char data[N];   /* 'items' in this example are just bytes */\n",
       "13:     int in;     /* index where producer inserts items, initially 0 */\n",
       "14:     int out;    /* index where consumer removes items, initially 0 */\n",
       "15:     sem_t sem_empty;\n",
       "16:     sem_t sem_filled;\n",
       "17: };\n",
       "18: \n",
       "19: struct bounded_buffer bb;\n",
       "20: \n",
       "21: void *producer(void *arg) {\n",
       "22:     while(true) {\n",
       "23:         char item = produce_item();\n",
       "24:         sem_wait(&bb.sem_empty);\n",
       "25:         bb.data[bb.in] = item;\n",
       "26:         bb.in = (bb.in + 1) % N;\n",
       "27:         sem_post(&bb.sem_filled);\n",
       "28:     }\n",
       "29: }\n",
       "30: \n",
       "31: void *consumer(void *arg) {\n",
       "32:     while(true) {\n",
       "33:         sem_wait(&bb.sem_filled);\n",
       "34:         char item = bb.data[bb.out];\n",
       "35:         bb.out = (bb.out + 1) % N;\n",
       "36:         sem_post(&bb.sem_empty);\n",
       "37:         consume_item(item);\n",
       "38:     }\n",
       "39: }\n",
       "40: \n",
       "41: int main()\n",
       "42: {\n",
       "43:     sem_init(&bb.sem_empty, 0, N);\n",
       "44:     sem_init(&bb.sem_filled,0, 0);\n",
       "45:     \n",
       "46:     /*** Thread creation stuff here ***/\n",
       "47:     \n",
       "48:     return 0;\n",
       "49: }\n",
       "\n",
       "```\n",
       "\n",
       "\n",
       "</div>\n",
       "</font>"
      ],
      "text/plain": [
       "<IPython.core.display.Markdown object>"
      ]
     },
     "metadata": {},
     "output_type": "display_data"
    }
   ],
   "source": [
    "# demke:\n",
    "# \n",
    "# This cell is removed in the html, but displays the code in the Jupyter notebook.\n",
    "#\n",
    "\n",
    "display(Markdown('<font size=\"1.2rem\">' + FileCodeBox(\n",
    "    file=appdir + \"/bounded_buffer_sem.c\", \n",
    "    lang=\"\", \n",
    "    number=True,\n",
    "    title=\"<b>Bounded buffer with semaphores</b>\",\n",
    "    h=\"100%\", \n",
    "    w=\"100%\"\n",
    ") + '</font>'))"
   ]
  },
  {
   "cell_type": "code",
   "execution_count": 5,
   "id": "5aed8ec0-65b9-41ce-92dc-9ad4f1f612e7",
   "metadata": {
    "tags": [
     "remove-output",
     "remove-cell",
     "remove-input"
    ]
   },
   "outputs": [
    {
     "data": {
      "text/markdown": [
       "<font size=\"1.2rem\"><b>Bounded buffer with semaphores for multiple producers and consumers.</b>\n",
       "<div style=\"width:100%; height:100%; font-size:inherit; overflow: auto;\" >\n",
       "\n",
       "\n",
       "``` \n",
       "0: /* For illustration purposes only. \n",
       "1:  * This code is not complete and cannot be compiled into an executable.\n",
       "2:  */\n",
       "3: #include <semaphore.h>\n",
       "4: #include <stdbool.h>\n",
       "5: \n",
       "6: extern char produce_item();\n",
       "7: extern void consume_item(char item);\n",
       "8: \n",
       "9: #define N 2\n",
       "10: \n",
       "11: struct bounded_buffer {\n",
       "12: \tchar data[N];   /* 'items' in this example are just bytes */\n",
       "13: \tint in;     /* index where producer inserts items, initially 0 */\n",
       "14: \tint out;    /* index where consumer removes items, initially 0 */\n",
       "15:     sem_t sem_empty;\n",
       "16:     sem_t sem_filled;\n",
       "17:     sem_t sem_mutex;\n",
       "18: };\n",
       "19: \n",
       "20: struct bounded_buffer bb;\n",
       "21: \n",
       "22: void *producer(void *arg) {\n",
       "23:     while(true) {\n",
       "24:         char item = produce_item();\n",
       "25:         sem_wait(&bb.sem_empty);\n",
       "26:         sem_wait(&bb.sem_mutex);\n",
       "27:         bb.data[bb.in] = item;\n",
       "28:         bb.in = (bb.in + 1) % N;\n",
       "29:         sem_post(&bb.sem_mutex);\n",
       "30:         sem_post(&bb.sem_filled);\n",
       "31:     }\n",
       "32: }\n",
       "33: \n",
       "34: void *consumer(void *arg) {\n",
       "35:     while(true) {\n",
       "36:         sem_wait(&bb.sem_filled);\n",
       "37:         sem_wait(&bb.sem_mutex);\n",
       "38:         char item = bb.data[bb.out];\n",
       "39:         bb.out = (bb.out + 1) % N;\n",
       "40:         sem_post(&bb.sem_mutex);\n",
       "41:         sem_post(&bb.sem_empty);\n",
       "42:         consume_item(item);\n",
       "43:     }\n",
       "44: }\n",
       "45: \n",
       "46: int main()\n",
       "47: {\n",
       "48:     sem_init(&bb.sem_empty, 0, N);\n",
       "49:     sem_init(&bb.sem_filled, 0, 0);\n",
       "50:     sem_init(&bb.sem_mutex, 0, 1);\n",
       "51:     \n",
       "52:     /*** Thread creation stuff here ***/\n",
       "53:     \n",
       "54:     return 0;\n",
       "55: }\n",
       "\n",
       "```\n",
       "\n",
       "\n",
       "</div>\n",
       "</font>"
      ],
      "text/plain": [
       "<IPython.core.display.Markdown object>"
      ]
     },
     "metadata": {},
     "output_type": "display_data"
    }
   ],
   "source": [
    "# demke:\n",
    "# \n",
    "# This cell is removed in the html, but displays the code in the Jupyter notebook.\n",
    "#\n",
    "\n",
    "display(Markdown('<font size=\"1.2rem\">' + FileCodeBox(\n",
    "    file=appdir + \"/bounded_buffer_sem_multi.c\", \n",
    "    lang=\"\", \n",
    "    number=True,\n",
    "    title=\"<b>Bounded buffer with semaphores for multiple producers and consumers.</b>\",\n",
    "    h=\"100%\", \n",
    "    w=\"100%\"\n",
    ") + '</font>'))"
   ]
  },
  {
   "cell_type": "code",
   "execution_count": 6,
   "id": "a6978e8c-3a70-4f46-b322-ec79e63ee18d",
   "metadata": {
    "tags": [
     "remove-input",
     "remove-output",
     "remove-cell"
    ]
   },
   "outputs": [
    {
     "data": {
      "text/markdown": [
       "<font size=\"1.2rem\"><b>Bounded buffer with condition variables for multiple producers and consumers.</b>\n",
       "<div style=\"width:100%; height:100%; font-size:inherit; overflow: auto;\" >\n",
       "\n",
       "\n",
       "``` \n",
       "0: /* For illustration purposes only. \n",
       "1:  * This code is not complete and cannot be compiled into an executable.\n",
       "2:  */\n",
       "3: #include <pthread.h>\n",
       "4: #include <stdbool.h>\n",
       "5: \n",
       "6: extern char produce_item();\n",
       "7: extern void consume_item(char item);\n",
       "8: \n",
       "9: #define N 2\n",
       "10: \n",
       "11: struct bounded_buffer {\n",
       "12:     char data[N];   /* 'items' in this example are just bytes */\n",
       "13:     int in;     /* index where producer inserts items, initially 0 */\n",
       "14:     int out;    /* index where consumer removes items, initially 0 */\n",
       "15:     int count;\n",
       "16:     pthread_mutex_t buflock;\n",
       "17:     pthread_cond_t not_full;\n",
       "18:     pthread_cond_t not_empty;\n",
       "19: };\n",
       "20: \n",
       "21: struct bounded_buffer bb;\n",
       "22: \n",
       "23: void *producer(void *arg) {\n",
       "24:     while(true) {\n",
       "25:         char item = produce_item();\n",
       "26:         pthread_mutex_lock(&bb.buflock);\n",
       "27:         while(bb.count == N) {\n",
       "28:             pthread_cond_wait(&bb.notfull, &bb.buflock);\n",
       "29:         }\n",
       "30:         bb.data[bb.in] = item;\n",
       "31:         bb.in = (bb.in + 1) % N;\n",
       "32:         bb.count++;\n",
       "33:         pthread_cond_signal(&bb.notempty);\n",
       "34:         pthread_mutex_unlock(&bb.buflock);\n",
       "35:     }\n",
       "36: }\n",
       "37: \n",
       "38: void *consumer(void *arg) {\n",
       "39:     while(true) {\n",
       "40:         pthread_mutex_lock(&bb.buflock);\n",
       "41:         while (bb.count == 0) {\n",
       "42:             pthread_cond_wait(&bb.notempty, &bb.buflock);\n",
       "43:         }\n",
       "44:         char item = bb.data[bb.out];\n",
       "45:         bb.out = (bb.out + 1) % N;\n",
       "46:         bb.count--;\n",
       "47:         pthread_cond_signal(&bb.notfull);\n",
       "48:         pthread_mutex_unlock(&bb.buflock);\n",
       "49: \n",
       "50:         consume_item(item);\n",
       "51:     }\n",
       "52: }\n",
       "53: \n",
       "54: int main()\n",
       "55: {\n",
       "56:     pthread_mutex_init(&bb.buflock, NULL);\n",
       "57:     pthread_cond_init(&bb.notfull, NULL);\n",
       "58:     pthread_cond_init(&bb.notempty, NULL);\n",
       "59:     \n",
       "60:     /*** Thread creation stuff here ***/\n",
       "61:     \n",
       "62:     return 0;\n",
       "63: }\n",
       "\n",
       "```\n",
       "\n",
       "\n",
       "</div>\n",
       "</font>"
      ],
      "text/plain": [
       "<IPython.core.display.Markdown object>"
      ]
     },
     "metadata": {},
     "output_type": "display_data"
    }
   ],
   "source": [
    "# demke:\n",
    "# \n",
    "# This cell is removed in the html, but displays the code in the Jupyter notebook.\n",
    "#\n",
    "\n",
    "display(Markdown('<font size=\"1.2rem\">' + FileCodeBox(\n",
    "    file=appdir + \"/bounded_buffer_cv.c\", \n",
    "    lang=\"\", \n",
    "    number=True,\n",
    "    title=\"<b>Bounded buffer with condition variables for multiple producers and consumers.</b>\",\n",
    "    h=\"100%\", \n",
    "    w=\"100%\"\n",
    ") + '</font>'))"
   ]
  }
 ],
 "metadata": {
  "kernelspec": {
   "display_name": "Python 3 (ipykernel)",
   "language": "python",
   "name": "python3"
  },
  "language_info": {
   "codemirror_mode": {
    "name": "ipython",
    "version": 3
   },
   "file_extension": ".py",
   "mimetype": "text/x-python",
   "name": "python",
   "nbconvert_exporter": "python",
   "pygments_lexer": "ipython3",
   "version": "3.12.3"
  },
  "widgets": {
   "application/vnd.jupyter.widget-state+json": {
    "state": {
     "4d2e2941e7dc4e21b51da16b4b6da82a": {
      "model_module": "@jupyter-widgets/base",
      "model_module_version": "2.0.0",
      "model_name": "LayoutModel",
      "state": {
       "_model_module": "@jupyter-widgets/base",
       "_model_module_version": "2.0.0",
       "_model_name": "LayoutModel",
       "_view_count": null,
       "_view_module": "@jupyter-widgets/base",
       "_view_module_version": "2.0.0",
       "_view_name": "LayoutView",
       "align_content": null,
       "align_items": null,
       "align_self": null,
       "border_bottom": "1px solid black",
       "border_left": "1px solid black",
       "border_right": "1px solid black",
       "border_top": "1px solid black",
       "bottom": null,
       "display": null,
       "flex": null,
       "flex_flow": null,
       "grid_area": null,
       "grid_auto_columns": null,
       "grid_auto_flow": null,
       "grid_auto_rows": null,
       "grid_column": null,
       "grid_gap": null,
       "grid_row": null,
       "grid_template_areas": null,
       "grid_template_columns": null,
       "grid_template_rows": null,
       "height": "100%",
       "justify_content": null,
       "justify_items": null,
       "left": null,
       "margin": null,
       "max_height": null,
       "max_width": null,
       "min_height": null,
       "min_width": null,
       "object_fit": null,
       "object_position": null,
       "order": null,
       "overflow": null,
       "padding": null,
       "right": null,
       "top": null,
       "visibility": null,
       "width": null
      }
     },
     "e51fcbccdbb14e4ab4812ce6e1dbcf4e": {
      "model_module": "@jupyter-widgets/output",
      "model_module_version": "1.0.0",
      "model_name": "OutputModel",
      "state": {
       "_dom_classes": [],
       "_model_module": "@jupyter-widgets/output",
       "_model_module_version": "1.0.0",
       "_model_name": "OutputModel",
       "_view_count": null,
       "_view_module": "@jupyter-widgets/output",
       "_view_module_version": "1.0.0",
       "_view_name": "OutputView",
       "layout": "IPY_MODEL_4d2e2941e7dc4e21b51da16b4b6da82a",
       "msg_id": "",
       "outputs": [
        {
         "name": "stdout",
         "output_type": "stream",
         "text": "$ [[ -d mydir ]] && rm -rf mydir\r\ntrantor@P7xxTM1:~$     #\r\ntrantor@P7xxTM1:~$ "
        }
       ],
       "tabbable": null,
       "tooltip": null
      }
     }
    },
    "version_major": 2,
    "version_minor": 0
   }
  }
 },
 "nbformat": 4,
 "nbformat_minor": 5
}