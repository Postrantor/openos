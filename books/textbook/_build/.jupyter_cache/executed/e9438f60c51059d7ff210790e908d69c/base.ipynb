{
 "cells": [
  {
   "cell_type": "code",
   "execution_count": 1,
   "id": "95a886f5-abbc-49c6-b05d-103af7753822",
   "metadata": {
    "tags": [
     "remove-cell",
     "remove-input",
     "hide-output"
    ]
   },
   "outputs": [],
   "source": [
    "%run -i ../python/common.py\n",
    "publish=False\n",
    "\n",
    "if not publish:\n",
    "    # cleanup any old state\n",
    "    bashCmds('''[[ -d mydir ]] && rm -rf mydir\n",
    "    [[ -a myfile ]] && rm myfile\n",
    "    [[ -a errors ]] && rm errors \n",
    "    [[ -a mydate ]] && rm mydate\n",
    "    [[ -a mynewdir ]] && rm -rf mynewdir\n",
    "    [[ -a anotherfile ]] && rm anotherfile\n",
    "    [[ -a mybin ]] && rm -rf  mybin\n",
    "    [[ -a myinfo ]] && rm myinfo''')\n",
    "else:\n",
    "    bashCmds('''rm -rf ~/*''')\n",
    "    \n",
    "closeAllOpenTtySessions()\n",
    "\n",
    "generated=\"~/myfile ~/errors ~/mydate ~/mydir ~/mynewdir ~/out\"\n"
   ]
  },
  {
   "cell_type": "code",
   "execution_count": 2,
   "id": "3ce58f86-4d4b-44e0-995f-0eac3904a8ba",
   "metadata": {
    "hide_input": true,
    "tags": [
     "remove-input"
    ]
   },
   "outputs": [],
   "source": [
    "appdir=os.getenv('HOME')\n",
    "appdir=appdir + \"/lec3\"\n",
    "TermShellCmd(\"ls \")\n",
    "output = runTermCmd(\"[[ -d \" + appdir + \" ]] &&  rm -rf \"+ appdir + \n",
    "             \";cp -r ../src/lec3 \" + appdir)\n",
    "\n",
    "# demke - moved starting bash session to here, so it can start with its cwd set to appdir\n",
    "bash = BashSession(cwd=appdir)"
   ]
  },
  {
   "cell_type": "code",
   "execution_count": 3,
   "id": "76837563-e501-42d6-a9f6-a911daef7fb5",
   "metadata": {
    "tags": [
     "remove-input",
     "hide-output"
    ]
   },
   "outputs": [],
   "source": [
    "bash.run('''make wo''');"
   ]
  },
  {
   "cell_type": "code",
   "execution_count": 4,
   "id": "3396b973-86bc-4fef-b19c-04b264a58497",
   "metadata": {
    "tags": [
     "remove-input"
    ]
   },
   "outputs": [
    {
     "data": {
      "application/vnd.jupyter.widget-view+json": {
       "model_id": "4e189361e06f4f06b50efa7424fe67e4",
       "version_major": 2,
       "version_minor": 0
      },
      "text/plain": [
       "Output(layout=Layout(border_bottom='1px solid black', border_left='1px solid black', border_right='1px solid b…"
      ]
     },
     "execution_count": 4,
     "metadata": {},
     "output_type": "execute_result"
    }
   ],
   "source": [
    "bash.run('''./wo & cat /proc/$!/maps''')"
   ]
  },
  {
   "cell_type": "code",
   "execution_count": 5,
   "id": "1b1ef2a0-2cb2-4939-873d-0f94961ae338",
   "metadata": {
    "tags": [
     "remove-input",
     "output_scroll"
    ]
   },
   "outputs": [
    {
     "data": {
      "application/vnd.jupyter.widget-view+json": {
       "model_id": "fae83592e36e4ecc8557207be6e79424",
       "version_major": 2,
       "version_minor": 0
      },
      "text/plain": [
       "Output(layout=Layout(border_bottom='1px solid black', border_left='1px solid black', border_right='1px solid b…"
      ]
     },
     "execution_count": 5,
     "metadata": {},
     "output_type": "execute_result"
    }
   ],
   "source": [
    "bash.run(\"objdump -h wo\", height='2in')"
   ]
  }
 ],
 "metadata": {
  "kernelspec": {
   "display_name": "Python 3 (ipykernel)",
   "language": "python",
   "name": "python3"
  },
  "language_info": {
   "codemirror_mode": {
    "name": "ipython",
    "version": 3
   },
   "file_extension": ".py",
   "mimetype": "text/x-python",
   "name": "python",
   "nbconvert_exporter": "python",
   "pygments_lexer": "ipython3",
   "version": "3.12.3"
  },
  "widgets": {
   "application/vnd.jupyter.widget-state+json": {
    "state": {
     "4e189361e06f4f06b50efa7424fe67e4": {
      "model_module": "@jupyter-widgets/output",
      "model_module_version": "1.0.0",
      "model_name": "OutputModel",
      "state": {
       "_dom_classes": [],
       "_model_module": "@jupyter-widgets/output",
       "_model_module_version": "1.0.0",
       "_model_name": "OutputModel",
       "_view_count": null,
       "_view_module": "@jupyter-widgets/output",
       "_view_module_version": "1.0.0",
       "_view_name": "OutputView",
       "layout": "IPY_MODEL_c0ebf5c11146407f9b3cd7f71fcbb504",
       "msg_id": "",
       "outputs": [
        {
         "name": "stdout",
         "output_type": "stream",
         "text": "$ ./wo & cat /proc/$!/maps\r\n[1] 12534\r\n00400000-00401000 r--p 00000000 08:10 153762                             /home/trantor/lec3/wo\r\n00401000-0047f000 r-xp 00001000 08:10 153762                             /home/trantor/lec3/wo\r\n0047f000-004a5000 r--p 0007f000 08:10 153762                             /home/trantor/lec3/wo\r\n004a5000-004aa000 r--p 000a4000 08:10 153762                             /home/trantor/lec3/wo\r\n004aa000-004ac000 rw-p 000a9000 08:10 153762                             /home/trantor/lec3/wo\r\n004ac000-004b2000 rw-p 00000000 00:00 0 \r\n01370000-01392000 rw-p 00000000 00:00 0                                  [heap]\r\n7ffddceee000-7ffddcf10000 rw-p 00000000 00:00 0                          [stack]\r\n7ffddcf9f000-7ffddcfa3000 r--p 00000000 00:00 0                          [vvar]\r\n7ffddcfa3000-7ffddcfa4000 r-xp 00000000 00:00 0                          [vdso]\r\ntrantor@P7xxTM1:~/lec3$ "
        }
       ],
       "tabbable": null,
       "tooltip": null
      }
     },
     "8997562d7984450d96e0a00fee9f6ae4": {
      "model_module": "@jupyter-widgets/base",
      "model_module_version": "2.0.0",
      "model_name": "LayoutModel",
      "state": {
       "_model_module": "@jupyter-widgets/base",
       "_model_module_version": "2.0.0",
       "_model_name": "LayoutModel",
       "_view_count": null,
       "_view_module": "@jupyter-widgets/base",
       "_view_module_version": "2.0.0",
       "_view_name": "LayoutView",
       "align_content": null,
       "align_items": null,
       "align_self": null,
       "border_bottom": "1px solid black",
       "border_left": "1px solid black",
       "border_right": "1px solid black",
       "border_top": "1px solid black",
       "bottom": null,
       "display": null,
       "flex": null,
       "flex_flow": null,
       "grid_area": null,
       "grid_auto_columns": null,
       "grid_auto_flow": null,
       "grid_auto_rows": null,
       "grid_column": null,
       "grid_gap": null,
       "grid_row": null,
       "grid_template_areas": null,
       "grid_template_columns": null,
       "grid_template_rows": null,
       "height": "100%",
       "justify_content": null,
       "justify_items": null,
       "left": null,
       "margin": null,
       "max_height": null,
       "max_width": null,
       "min_height": null,
       "min_width": null,
       "object_fit": null,
       "object_position": null,
       "order": null,
       "overflow": null,
       "padding": null,
       "right": null,
       "top": null,
       "visibility": null,
       "width": null
      }
     },
     "9d0de4ffdcb445c5aa6f9af4feda6326": {
      "model_module": "@jupyter-widgets/output",
      "model_module_version": "1.0.0",
      "model_name": "OutputModel",
      "state": {
       "_dom_classes": [],
       "_model_module": "@jupyter-widgets/output",
       "_model_module_version": "1.0.0",
       "_model_name": "OutputModel",
       "_view_count": null,
       "_view_module": "@jupyter-widgets/output",
       "_view_module_version": "1.0.0",
       "_view_name": "OutputView",
       "layout": "IPY_MODEL_dd83d432f4d743fd801694566752564f",
       "msg_id": "",
       "outputs": [
        {
         "name": "stdout",
         "output_type": "stream",
         "text": "$ ls \n\r: command not found\r\nbash: /home/trantor/.bashrc: line 6: syntax error near unexpected token `$'in\\r''\r\nbash: /home/trantor/.bashrc: line 6: `case $- in\r'\r\nintro.ipynb    sch-goals.ipynb\tsch-real.ipynb\t  threads.ipynb\r\nprocess.ipynb  sch-prio.ipynb\tsch-simple.ipynb  virtual.ipynb\r\nreview.ipynb   sch-prop.ipynb\tscheduling.ipynb\r\n$ "
        }
       ],
       "tabbable": null,
       "tooltip": null
      }
     },
     "a5c67417e2b34688aad45ead10028a46": {
      "model_module": "@jupyter-widgets/base",
      "model_module_version": "2.0.0",
      "model_name": "LayoutModel",
      "state": {
       "_model_module": "@jupyter-widgets/base",
       "_model_module_version": "2.0.0",
       "_model_name": "LayoutModel",
       "_view_count": null,
       "_view_module": "@jupyter-widgets/base",
       "_view_module_version": "2.0.0",
       "_view_name": "LayoutView",
       "align_content": null,
       "align_items": null,
       "align_self": null,
       "border_bottom": "1px solid black",
       "border_left": "1px solid black",
       "border_right": "1px solid black",
       "border_top": "1px solid black",
       "bottom": null,
       "display": null,
       "flex": null,
       "flex_flow": null,
       "grid_area": null,
       "grid_auto_columns": null,
       "grid_auto_flow": null,
       "grid_auto_rows": null,
       "grid_column": null,
       "grid_gap": null,
       "grid_row": null,
       "grid_template_areas": null,
       "grid_template_columns": null,
       "grid_template_rows": null,
       "height": "2in",
       "justify_content": null,
       "justify_items": null,
       "left": null,
       "margin": null,
       "max_height": null,
       "max_width": null,
       "min_height": null,
       "min_width": null,
       "object_fit": null,
       "object_position": null,
       "order": null,
       "overflow": null,
       "padding": null,
       "right": null,
       "top": null,
       "visibility": null,
       "width": null
      }
     },
     "b5c938b36431416dace9f5beda42fb07": {
      "model_module": "@jupyter-widgets/output",
      "model_module_version": "1.0.0",
      "model_name": "OutputModel",
      "state": {
       "_dom_classes": [],
       "_model_module": "@jupyter-widgets/output",
       "_model_module_version": "1.0.0",
       "_model_name": "OutputModel",
       "_view_count": null,
       "_view_module": "@jupyter-widgets/output",
       "_view_module_version": "1.0.0",
       "_view_name": "OutputView",
       "layout": "IPY_MODEL_8997562d7984450d96e0a00fee9f6ae4",
       "msg_id": "",
       "outputs": [
        {
         "name": "stdout",
         "output_type": "stream",
         "text": "$ [[ -d mydir ]] && rm -rf mydir\r\ntrantor@P7xxTM1:~$     [[ -a myfile ]] && rm myfile\r\ntrantor@P7xxTM1:~$     [[ -a errors ]] && rm errors \r\ntrantor@P7xxTM1:~$     [[ -a mydate ]] && rm mydate\r\ntrantor@P7xxTM1:~$     [[ -a mynewdir ]] && rm -rf mynewdir\r\ntrantor@P7xxTM1:~$     [[ -a anotherfile ]] && rm anotherfile\r\ntrantor@P7xxTM1:~$     [[ -a mybin ]] && rm -rf  mybin\r\ntrantor@P7xxTM1:~$     [[ -a myinfo ]] && rm myinfo\r\ntrantor@P7xxTM1:~$ "
        }
       ],
       "tabbable": null,
       "tooltip": null
      }
     },
     "c0ebf5c11146407f9b3cd7f71fcbb504": {
      "model_module": "@jupyter-widgets/base",
      "model_module_version": "2.0.0",
      "model_name": "LayoutModel",
      "state": {
       "_model_module": "@jupyter-widgets/base",
       "_model_module_version": "2.0.0",
       "_model_name": "LayoutModel",
       "_view_count": null,
       "_view_module": "@jupyter-widgets/base",
       "_view_module_version": "2.0.0",
       "_view_name": "LayoutView",
       "align_content": null,
       "align_items": null,
       "align_self": null,
       "border_bottom": "1px solid black",
       "border_left": "1px solid black",
       "border_right": "1px solid black",
       "border_top": "1px solid black",
       "bottom": null,
       "display": null,
       "flex": null,
       "flex_flow": null,
       "grid_area": null,
       "grid_auto_columns": null,
       "grid_auto_flow": null,
       "grid_auto_rows": null,
       "grid_column": null,
       "grid_gap": null,
       "grid_row": null,
       "grid_template_areas": null,
       "grid_template_columns": null,
       "grid_template_rows": null,
       "height": "100%",
       "justify_content": null,
       "justify_items": null,
       "left": null,
       "margin": null,
       "max_height": null,
       "max_width": null,
       "min_height": null,
       "min_width": null,
       "object_fit": null,
       "object_position": null,
       "order": null,
       "overflow": null,
       "padding": null,
       "right": null,
       "top": null,
       "visibility": null,
       "width": null
      }
     },
     "cf0b9593b68149c1935a3116ca62262a": {
      "model_module": "@jupyter-widgets/base",
      "model_module_version": "2.0.0",
      "model_name": "LayoutModel",
      "state": {
       "_model_module": "@jupyter-widgets/base",
       "_model_module_version": "2.0.0",
       "_model_name": "LayoutModel",
       "_view_count": null,
       "_view_module": "@jupyter-widgets/base",
       "_view_module_version": "2.0.0",
       "_view_name": "LayoutView",
       "align_content": null,
       "align_items": null,
       "align_self": null,
       "border_bottom": "1px solid black",
       "border_left": "1px solid black",
       "border_right": "1px solid black",
       "border_top": "1px solid black",
       "bottom": null,
       "display": null,
       "flex": null,
       "flex_flow": null,
       "grid_area": null,
       "grid_auto_columns": null,
       "grid_auto_flow": null,
       "grid_auto_rows": null,
       "grid_column": null,
       "grid_gap": null,
       "grid_row": null,
       "grid_template_areas": null,
       "grid_template_columns": null,
       "grid_template_rows": null,
       "height": "100%",
       "justify_content": null,
       "justify_items": null,
       "left": null,
       "margin": null,
       "max_height": null,
       "max_width": null,
       "min_height": null,
       "min_width": null,
       "object_fit": null,
       "object_position": null,
       "order": null,
       "overflow": null,
       "padding": null,
       "right": null,
       "top": null,
       "visibility": null,
       "width": null
      }
     },
     "dd83d432f4d743fd801694566752564f": {
      "model_module": "@jupyter-widgets/base",
      "model_module_version": "2.0.0",
      "model_name": "LayoutModel",
      "state": {
       "_model_module": "@jupyter-widgets/base",
       "_model_module_version": "2.0.0",
       "_model_name": "LayoutModel",
       "_view_count": null,
       "_view_module": "@jupyter-widgets/base",
       "_view_module_version": "2.0.0",
       "_view_name": "LayoutView",
       "align_content": null,
       "align_items": null,
       "align_self": null,
       "border_bottom": "1px solid black",
       "border_left": "1px solid black",
       "border_right": "1px solid black",
       "border_top": "1px solid black",
       "bottom": null,
       "display": null,
       "flex": null,
       "flex_flow": null,
       "grid_area": null,
       "grid_auto_columns": null,
       "grid_auto_flow": null,
       "grid_auto_rows": null,
       "grid_column": null,
       "grid_gap": null,
       "grid_row": null,
       "grid_template_areas": null,
       "grid_template_columns": null,
       "grid_template_rows": null,
       "height": "100%",
       "justify_content": null,
       "justify_items": null,
       "left": null,
       "margin": null,
       "max_height": null,
       "max_width": null,
       "min_height": null,
       "min_width": null,
       "object_fit": null,
       "object_position": null,
       "order": null,
       "overflow": null,
       "padding": null,
       "right": null,
       "top": null,
       "visibility": null,
       "width": null
      }
     },
     "ed5526897c494b86baff780559007274": {
      "model_module": "@jupyter-widgets/output",
      "model_module_version": "1.0.0",
      "model_name": "OutputModel",
      "state": {
       "_dom_classes": [],
       "_model_module": "@jupyter-widgets/output",
       "_model_module_version": "1.0.0",
       "_model_name": "OutputModel",
       "_view_count": null,
       "_view_module": "@jupyter-widgets/output",
       "_view_module_version": "1.0.0",
       "_view_name": "OutputView",
       "layout": "IPY_MODEL_cf0b9593b68149c1935a3116ca62262a",
       "msg_id": "",
       "outputs": [
        {
         "name": "stdout",
         "output_type": "stream",
         "text": "$ make wo\r\nmake[1]: Entering directory '/home/trantor/lec3'\r\ngcc -static  wo.c -o wo\r\nmake[1]: Leaving directory '/home/trantor/lec3'\r\ntrantor@P7xxTM1:~/lec3$ "
        }
       ],
       "tabbable": null,
       "tooltip": null
      }
     },
     "fae83592e36e4ecc8557207be6e79424": {
      "model_module": "@jupyter-widgets/output",
      "model_module_version": "1.0.0",
      "model_name": "OutputModel",
      "state": {
       "_dom_classes": [],
       "_model_module": "@jupyter-widgets/output",
       "_model_module_version": "1.0.0",
       "_model_name": "OutputModel",
       "_view_count": null,
       "_view_module": "@jupyter-widgets/output",
       "_view_module_version": "1.0.0",
       "_view_name": "OutputView",
       "layout": "IPY_MODEL_a5c67417e2b34688aad45ead10028a46",
       "msg_id": "",
       "outputs": [
        {
         "name": "stdout",
         "output_type": "stream",
         "text": "$ objdump -h wo\r\n\r\nwo:     file format elf64-x86-64\r\n\r\nSections:\r\nIdx Name          Size      VMA               LMA               File off  Algn\r\n  0 .note.gnu.property 00000030  0000000000400270  0000000000400270  00000270  2**3\r\n                  CONTENTS, ALLOC, LOAD, READONLY, DATA\r\n  1 .note.gnu.build-id 00000024  00000000004002a0  00000000004002a0  000002a0  2**2\r\n                  CONTENTS, ALLOC, LOAD, READONLY, DATA\r\n  2 .note.ABI-tag 00000020  00000000004002c4  00000000004002c4  000002c4  2**2\r\n                  CONTENTS, ALLOC, LOAD, READONLY, DATA\r\n  3 .rela.plt     00000210  00000000004002e8  00000000004002e8  000002e8  2**3\r\n                  CONTENTS, ALLOC, LOAD, READONLY, DATA\r\n  4 .init         0000001b  0000000000401000  0000000000401000  00001000  2**2\r\n                  CONTENTS, ALLOC, LOAD, READONLY, CODE\r\n  5 .plt          00000160  0000000000401020  0000000000401020  00001020  2**4\r\n                  CONTENTS, ALLOC, LOAD, READONLY, CODE\r\n  6 .text         0007d261  0000000000401180  0000000000401180  00001180  2**6\r\n                  CONTENTS, ALLOC, LOAD, READONLY, CODE\r\n  7 .fini         0000000d  000000000047e3e4  000000000047e3e4  0007e3e4  2**2\r\n                  CONTENTS, ALLOC, LOAD, READONLY, CODE\r\n  8 .rodata       0001c1a4  000000000047f000  000000000047f000  0007f000  2**5\r\n                  CONTENTS, ALLOC, LOAD, READONLY, DATA\r\n  9 .stapsdt.base 00000001  000000000049b1a4  000000000049b1a4  0009b1a4  2**0\r\n                  CONTENTS, ALLOC, LOAD, READONLY, DATA\r\n 10 rodata.cst32  00000060  000000000049b1c0  000000000049b1c0  0009b1c0  2**5\r\n                  CONTENTS, ALLOC, LOAD, READONLY, DATA\r\n 11 .eh_frame     00009670  000000000049b220  000000000049b220  0009b220  2**3\r\n                  CONTENTS, ALLOC, LOAD, READONLY, DATA\r\n 12 .gcc_except_table 000000dc  00000000004a4890  00000000004a4890  000a4890  2**0\r\n                  CONTENTS, ALLOC, LOAD, READONLY, DATA\r\n 13 .tdata        00000018  00000000004a5f50  00000000004a5f50  000a4f50  2**3\r\n                  CONTENTS, ALLOC, LOAD, DATA, THREAD_LOCAL\r\n 14 .tbss         00000040  00000000004a5f68  00000000004a5f68  000a4f68  2**3\r\n                  ALLOC, THREAD_LOCAL\r\n 15 .init_array   00000008  00000000004a5f68  00000000004a5f68  000a4f68  2**3\r\n                  CONTENTS, ALLOC, LOAD, DATA\r\n 16 .fini_array   00000010  00000000004a5f70  00000000004a5f70  000a4f70  2**3\r\n                  CONTENTS, ALLOC, LOAD, DATA\r\n 17 .data.rel.ro  00003fc8  00000000004a5f80  00000000004a5f80  000a4f80  2**5\r\n                  CONTENTS, ALLOC, LOAD, DATA\r\n 18 .got          00000090  00000000004a9f48  00000000004a9f48  000a8f48  2**3\r\n                  CONTENTS, ALLOC, LOAD, DATA\r\n 19 .got.plt      000000c8  00000000004a9fe8  00000000004a9fe8  000a8fe8  2**3\r\n                  CONTENTS, ALLOC, LOAD, DATA\r\n 20 .data         00001a08  00000000004aa0c0  00000000004aa0c0  000a90c0  2**5\r\n                  CONTENTS, ALLOC, LOAD, DATA\r\n 21 .bss          00005768  00000000004abae0  00000000004abae0  000aaac8  2**5\r\n                  ALLOC\r\n 22 .comment      00000026  0000000000000000  0000000000000000  000aaac8  2**0\r\n                  CONTENTS, READONLY\r\n 23 .note.stapsdt 000015a0  0000000000000000  0000000000000000  000aaaf0  2**2\r\n                  CONTENTS, READONLY\r\ntrantor@P7xxTM1:~/lec3$ "
        }
       ],
       "tabbable": null,
       "tooltip": null
      }
     }
    },
    "version_major": 2,
    "version_minor": 0
   }
  }
 },
 "nbformat": 4,
 "nbformat_minor": 5
}