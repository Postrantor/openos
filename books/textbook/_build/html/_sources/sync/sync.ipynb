{
 "cells": [
  {
   "cell_type": "markdown",
   "id": "333d054c-7921-4f34-a537-9d7228007335",
   "metadata": {
    "tags": []
   },
   "source": [
    "(cont:sync:intro)=\n",
    "# Introduction \n",
    "\n",
    "One of the key responsibilities of an operating system is that of synchronization---handling concurrent events in a reasonable way, and providing mechanisms for user applications to do so as well.  Synchronization occurs for multi-threaded applications and when processes share memory.  We [first](cont:sync:basic) motivate and describe basic synchronization, then discuss common [concurrency bugs](cont:sync:concurrency_bugs) and introduce the concept of deadlock, where no progress is made.  Finally, we discuss more [advanced](cont:sync:advanced) synchronization concepts.  \n"
   ]
  },
  {
   "cell_type": "code",
   "execution_count": null,
   "id": "d1bdafe6-0d19-49b1-a62e-3cde9cb83025",
   "metadata": {},
   "outputs": [],
   "source": []
  }
 ],
 "metadata": {
  "kernelspec": {
   "display_name": "Python 3 (ipykernel)",
   "language": "python",
   "name": "python3"
  },
  "language_info": {
   "codemirror_mode": {
    "name": "ipython",
    "version": 3
   },
   "file_extension": ".py",
   "mimetype": "text/x-python",
   "name": "python",
   "nbconvert_exporter": "python",
   "pygments_lexer": "ipython3",
   "version": "3.10.5"
  }
 },
 "nbformat": 4,
 "nbformat_minor": 5
}
