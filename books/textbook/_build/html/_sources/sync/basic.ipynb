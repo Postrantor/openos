{
 "cells": [
  {
   "cell_type": "markdown",
   "id": "1abf4d04-d377-4ae6-a53a-4b0b41be5a7b",
   "metadata": {},
   "source": [
    "(cont:sync:basic)=\n",
    "# Basic Synchronization\n",
    "\n",
    "We [first](cont:sync:sharing) discuss mechanisms in unix to share memory and provide simple motivating examples for synchronization.  We then discuss the idea of a [critical section and locking](cont:sync:criticalsection), and [then](cont:sync:locks) review different implementations of locks.  The following [chapter](cont:sync:ordering) discusses some of the challenges of ordering thread events and introduces a key OS primitive, semaphores, to enable thread to block rather than spin.  "
   ]
  }
 ],
 "metadata": {
  "kernelspec": {
   "display_name": "Python 3 (ipykernel)",
   "language": "python",
   "name": "python3"
  },
  "language_info": {
   "codemirror_mode": {
    "name": "ipython",
    "version": 3
   },
   "file_extension": ".py",
   "mimetype": "text/x-python",
   "name": "python",
   "nbconvert_exporter": "python",
   "pygments_lexer": "ipython3",
   "version": "3.10.5"
  }
 },
 "nbformat": 4,
 "nbformat_minor": 5
}
