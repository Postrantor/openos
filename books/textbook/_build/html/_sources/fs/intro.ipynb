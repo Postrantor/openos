{
 "cells": [
  {
   "cell_type": "markdown",
   "id": "6c62fe81-da53-436f-bc07-ce1030d71804",
   "metadata": {},
   "source": [
    "(cont:fs:intro)= \n",
    "# Introduction\n",
    "\n",
    "The power of Unix comes from the fundamental idea that [everything is a file](cont:gs:abstractions:file) or really more accurately a stream.  However, in many cases we want to store data persistently on disks and in that case file systems provide that abstraction, and, as we will see, a richer set of abstractions.  \n",
    "\n",
    "We first describe this [rich interface](cont:fs:interface) Unix (and many similar systems) require of file systems.  We then discuss the [ugly hardware](cont:fs:disks) abstractions that needs to be transformed by file systems into this interface. We then discuss how file systems are [implemented](cont:fs:impl).\n",
    "\n",
    "\n"
   ]
  },
  {
   "cell_type": "code",
   "execution_count": null,
   "id": "3fdd013f-73a5-4826-966b-25e847f34684",
   "metadata": {},
   "outputs": [],
   "source": []
  }
 ],
 "metadata": {
  "kernelspec": {
   "display_name": "Python 3 (ipykernel)",
   "language": "python",
   "name": "python3"
  },
  "language_info": {
   "codemirror_mode": {
    "name": "ipython",
    "version": 3
   },
   "file_extension": ".py",
   "mimetype": "text/x-python",
   "name": "python",
   "nbconvert_exporter": "python",
   "pygments_lexer": "ipython3",
   "version": "3.10.5"
  }
 },
 "nbformat": 4,
 "nbformat_minor": 5
}
