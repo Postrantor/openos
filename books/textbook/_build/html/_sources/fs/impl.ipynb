{
 "cells": [
  {
   "cell_type": "markdown",
   "id": "5a3f2f9c-92b5-4b6e-88a0-19de2e1dffeb",
   "metadata": {},
   "source": [
    "(cont:fs:impl)= \n",
    "# Implementation\n",
    "\n",
    "After describing how you get to the file system [on disk](cont:fs:layout), the next four chapters describe key file system design issues, namely how to: 1)[keep track of the blocks used in a file](fs:dl_track_used), 2)[keep track of the free blocks](fs:dl_track_free), 3) [maintain the name space](fs:dl_name), and 4) [deal with failures](fs:dl_failures).\n",
    "\n",
    "The final two chapters [provide examples of real file systems](fs:dl_ex_exx) and [discuss what runs in the kernel, and the VFS layer unix file systems have](cont:fs:kernel).\n"
   ]
  },
  {
   "cell_type": "code",
   "execution_count": null,
   "id": "1dfb9eaf-ff52-4922-8aef-6df5eb2762fa",
   "metadata": {},
   "outputs": [],
   "source": []
  }
 ],
 "metadata": {
  "kernelspec": {
   "display_name": "Python 3 (ipykernel)",
   "language": "python",
   "name": "python3"
  },
  "language_info": {
   "codemirror_mode": {
    "name": "ipython",
    "version": 3
   },
   "file_extension": ".py",
   "mimetype": "text/x-python",
   "name": "python",
   "nbconvert_exporter": "python",
   "pygments_lexer": "ipython3",
   "version": "3.10.5"
  }
 },
 "nbformat": 4,
 "nbformat_minor": 5
}
