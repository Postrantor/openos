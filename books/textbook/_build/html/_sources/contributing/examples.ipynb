{
 "cells": [
  {
   "cell_type": "markdown",
   "id": "3cadf3a6-b446-4a11-a1ec-812fc3a5cdff",
   "metadata": {},
   "source": [
    "# Examples\n",
    "\n",
    "Starting to re-organize this, to just past in simple examples so there is one place to find them\n"
   ]
  },
  {
   "cell_type": "markdown",
   "id": "214dfe8e-0af9-45e3-b83f-9142cabf1f74",
   "metadata": {},
   "source": [
    "## Notes and warnings\n",
    "\n",
    "```{note}\n",
    "We recommend you look at this notebook as the best example of generating content, and we will make a valiant attempt to keep it up to date as we gain more experience. Having said that, the file system chapter today probably has a better set of examples\n",
    "\n",
    "```{warning} It is really easy to waste months with all the degrees of freedom with this authoring model, and we will try to be prescriptive on how we use the tools, so we recommend you jump straight to the [tutorial](cont:contr:tutorial) directions on [authoring](cont:contr:authoring) material. \n",
    "```{note} This is an example of a note, in a warning, in a note. \n",
    "```\n",
    "```"
   ]
  },
  {
   "cell_type": "markdown",
   "id": "c252429b-15e1-429c-9c8b-d3cc707f4c33",
   "metadata": {},
   "source": [
    "## Figures\n",
    "\n",
    "As shown in figure {numref}`contrib:fig:examp`, most operating systems today have ... \n",
    "\n",
    "```{figure} ../images/osstructure-1.dio.png\n",
    "---\n",
    "width: 50%\n",
    "name: contrib:fig:examp\n",
    "align: right\n",
    "---\n",
    "A caption for figure\n",
    "```\n",
    "\n",
    "For more on figures look at this [reference](https://myst-parser.readthedocs.io/en/latest/syntax/roles-and-directives.html#images-and-figures)."
   ]
  },
  {
   "cell_type": "markdown",
   "id": "1a76e21d-ae39-4432-ad38-1cab4b111dfe",
   "metadata": {
    "tags": []
   },
   "source": [
    "## Table\n",
    "\n",
    "| Value             | Binary Prefix | Abbreviation |\n",
    "| :---------------- | :-----------: | :----------: |\n",
    "| $1024 = 2^{10}$   | kilo          | K            |\n",
    "| $1024^2 = 2^{20}$ | mega          | M            |\n",
    "| $1024^3 = 2^{30}$ | giga          | G            |\n",
    "| $1024^4 = 2^{40}$ | tera          | T            |\n",
    "| $1024^5 = 2^{50}$ | peta          | P            |\n",
    "\n",
    "As shown in {numref}`ex:table_ref`\n",
    "\n",
    "```{list-table}\n",
    ":header-rows: 1\n",
    ":name: ex:table_ref\n",
    "\n",
    "* - Function\n",
    "  - Reference\n",
    "  - Brief Description\n",
    "* - mmap()\n",
    "  - man 2 mmap\n",
    "  - Allocates a page of virtual memory\n",
    "* - munmap()\n",
    "  - man 2 munmap\n",
    "  - Deallocates a page of virtual memory\n",
    "```"
   ]
  },
  {
   "cell_type": "markdown",
   "id": "798692b2-c32a-4f63-a70f-87eea680cb90",
   "metadata": {},
   "source": [
    "Could use Pandas from [this style guild](https://pandas.pydata.org/docs/user_guide/style.html)"
   ]
  },
  {
   "cell_type": "code",
   "execution_count": null,
   "id": "4e9d1ba6-5329-49ef-bc84-627e0de1ba19",
   "metadata": {},
   "outputs": [],
   "source": [
    "import pandas as pd\n",
    "import numpy as np\n",
    "import matplotlib as mpl\n",
    "\n",
    "df = pd.DataFrame({\n",
    "    \"strings\": [\"Adam\", \"Mike\"],\n",
    "    \"ints\": [1, 3],\n",
    "    \"floats\": [1.123, 1000.23]\n",
    "})\n",
    "df.style \\\n",
    "  .format(precision=3, thousands=\".\", decimal=\",\") \\\n",
    "  .format_index(str.upper, axis=1) \\\n",
    "  .relabel_index([\"row 1\", \"row 2\"], axis=0)"
   ]
  },
  {
   "cell_type": "code",
   "execution_count": null,
   "id": "79c04823-f147-49fe-b99b-db54e5257e08",
   "metadata": {
    "jupyter": {
     "source_hidden": true
    },
    "tags": []
   },
   "outputs": [],
   "source": []
  },
  {
   "cell_type": "markdown",
   "id": "6a5770ca-581b-41e4-b58f-45c60f083e57",
   "metadata": {},
   "source": [
    "At the end of this section we have links to various [reference](cont:contr:ref) materials, for example, sections of Jonathan's textbook that we plan to steal materials from. "
   ]
  },
  {
   "cell_type": "markdown",
   "id": "e938a4b4-8a33-4fbc-a25d-7f2819d50a27",
   "metadata": {},
   "source": [
    "(cont:contr:authoring)=\n",
    "## Authoring content"
   ]
  },
  {
   "cell_type": "markdown",
   "id": "891a8c0b-0a58-4339-b262-270402b17f8b",
   "metadata": {},
   "source": [
    "### Using jupyterlab\n",
    "\n",
    "Will put various hints here on what we find works, although for the most part like any editor, you will gradually experience what works best for you.  \n",
    "\n",
    "- there seems to be just one file browser, I tend to open multiple links to the textbook:\n",
    "   1. for the place I am actually authoring\n",
    "   2. for a browser to move around, look at examples\n",
    "   3. for the rendered book/result\n",
    "- we might want to build some simple vidios/todos"
   ]
  },
  {
   "cell_type": "markdown",
   "id": "f3c4f68c-78f8-4a94-80d4-39d13ba3b9b8",
   "metadata": {},
   "source": [
    "### Adding figures\n",
    "\n",
    "Use draw.io for open source software, I download the desktop version from [here](https://www.diagrams.net/}) since it seems more reliable.  You can just download the image to your desktop, edit it there, and upload it again. You can Please use png as the source type of the file, rather than the default drawio; in this case it will create a XXX.drawio.png file, where the diagram is embedded in the png, so you can both dispay it, and edit it. This means you can not only continue to edit the file directly, but can also include exactly the same file in a figure.  \n",
    "\n",
    "Tricks I have found in using this:\n",
    "   1. with the desktop version you can directly copy images browser see this [vidio](https://www.youtube.com/watch?v=pYROq5Aphoc)\n",
    "   1. I tend to use layers, for animation, then upload it and generate multiple png files form the same image\n",
    "   1. You very much want to export the picture as high-resolution, by using a large zoom, see Figure {numref}`contrib:fig:dioex2`\n",
    "   \n",
    "```{figure} ../images/contrib/draw-io-control-resolution.png\n",
    "---\n",
    "width: 60%\n",
    "name: contrib:fig:dioex3\n",
    "---\n",
    "Making images high resolution.\n",
    "```\n",
    "\n",
    "If you use the drawio embedded in the notebook environment, to generate a png rather than using the file export from the figure, use the command palette from jupyter \"view\" menue as shown in figures \n",
    "{numref}`contrib:fig:dioex1` and {numref}`contrib:fig:dioex2`.\n",
    "\n",
    "```{figure} ../images/contrib/drawio-export-1.png\n",
    "---\n",
    "width: 60%\n",
    "name: contrib:fig:dioex1\n",
    "---\n",
    "Activate Command Palette to export drawio figure as png.\n",
    "```\n",
    "\n",
    "```{figure} ../images/contrib/drawio-export-2.png\n",
    "---\n",
    "width: 60%\n",
    "name: contrib:fig:dioex2\n",
    "---\n",
    "Export drawio figure as png.\n",
    "```\n",
    "\n",
    "Note, this is strongly discouraged, since I don't see any way to fix the resolution so that the images don't suck.  I end up exporting from draw.io at 500% to get pictures to look reasonable. \n",
    "\n",
    "\n",
    "\n",
    "We use the figure directive in myst, so the following:\n",
    "~~~\n",
    "\n",
    "```{figure} ../images/osstructure-1.drawio.png\n",
    "---\n",
    "width: 50%\n",
    "name: fcontrib:fig:examp\n",
    "align: right\n",
    "---\n",
    "A caption for figure\n",
    "```\n",
    "~~~\n",
    "Results in this:\n",
    "\n"
   ]
  }
 ],
 "metadata": {
  "kernelspec": {
   "display_name": "Python 3 (ipykernel)",
   "language": "python",
   "name": "python3"
  },
  "language_info": {
   "codemirror_mode": {
    "name": "ipython",
    "version": 3
   },
   "file_extension": ".py",
   "mimetype": "text/x-python",
   "name": "python",
   "nbconvert_exporter": "python",
   "pygments_lexer": "ipython3",
   "version": "3.10.5"
  }
 },
 "nbformat": 4,
 "nbformat_minor": 5
}
