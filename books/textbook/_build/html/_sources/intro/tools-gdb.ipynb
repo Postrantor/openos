{
 "cells": [
  {
   "cell_type": "markdown",
   "id": "f4e33dfd-f35f-4922-9267-f096d62488cc",
   "metadata": {
    "tags": []
   },
   "source": [
    "(cont:gs:tools:gdb)=\n",
    "# GDB\n",
    "\n",
    "Until now, many of you have been able to get by debugging your programs using print statements.  Don't even try to that with this course; you will not be successful.  In the container image available with this course, we provide you with the very powerful GNU Debugger gdb, with documentation available [here](https://sourceware.org/gdb/current/onlinedocs/gdb.html/).  As discussed previously, you should always run it from [emacs](cont:gs:tools:editors), but if you want to run gdb from the command line, type `gdb <program>` to debug the executable program, and then `run` to run it.  Some of the key features you will find critical in this course are:\n",
    "- Setting [breakpoints](https://sourceware.org/gdb/current/onlinedocs/gdb.html/Breakpoints.html#Breakpoints) at specific lines in your source code where you want to see the state. For example:\n",
    "   * `break <function>`: sets a breakpoint at the beginning of `function`.\n",
    "   * `break <filename>:<linenumber>`: sets the breakpoint to the given line number in the source file.\n",
    "   * to delete a breakpoint, type `delete #` where to find out what number each breakpoint is, type `info breakpoints`\n",
    "   * you can then type `c` to continue, `n` to go to the next line (stepping over functions), `s` to step into a function, or `si` to step by a single machine instructions (critical with some of the programs you will write here).\n",
    "- Displaying the state of your program, e.g.:\n",
    "   * `print <variable>` will print the value of a variable, or `display <variable> will print each every time you step ahead. \n",
    "   * `info registers` will show you the state in all the registers of the computer; and `info regis XXX` will show you the state of a particular register, e.g., `rsp` for the stack pointer\n",
    "   *  `x/FMT` will examine the state of memory, e.g., `x/10gx <address>` will show you 10 values of giant (64 bit) values in hexidecimal\n",
    "   * `info threads` will tell you about all the threads in your program.\n",
    "- Debugging multiple processes; something you will need for implementing a shell\n",
    "   * `set follow-fork-mode <option>`: e.g., **set follow-fork-mode child** to debug child instead of parent\n",
    "   * `detach-on-fork <option>`: e.g. **set detach-on-fork off** to debug all the processes (you are debugging one at a time, and child is blocked right after fork)\n",
    "   * `info inferiors`: list all inferiors being managed\n",
    "   * `inferior <inferior_id>`: selects which inferior to switch to\n",
    "- Debugging threads of execution in your program\n",
    "   * `info threads`: lists all existing threads.\n",
    "   * `thread <thread_id>`: selects which thread to switch to.\n",
    "   * `set scheduler-locking mode`: if set to on will debug one thread at a time\n",
    "- Debugging signals \n",
    "   * `info signals` or `info signals <signal>`: lists all signals (or one signal) and shows how gdb responds to it.\n",
    "   * `handle <signal> <keyword>`: changes how gdb responds to that signal based on the keyword.\n",
    "       * `nostop`: gdb should not stop your program when this signal happens.\n",
    "       * `stop`: gdb should stop your program when this signal happens.\n",
    "       * `print`: gdb should print a message when this signal happens.\n",
    "       * `noprint`: gdb should not mention the occurrence of the signal at all.\n",
    "       * `ignore`: gdb should not allow your program to see this signal.\n",
    "       * `noignore`: gdb should allow your program to see this signal.\n",
    "\n",
    "Note, all of the above functionality can be done from within emacs.  Occassionally it is valuable to run gdb on the command line using the [text user interface](https://developer.apple.com/library/archive/documentation/DeveloperTools/gdb/gdb/gdb_23.html).  When you run gdb, type <ctrl>Xa to go into tui mode, and then <ctrl>X2 to switch between displays, e.g., to see assembly, all the registers... \n"
   ]
  },
  {
   "cell_type": "code",
   "execution_count": null,
   "id": "225b1485-7daf-40f8-ae71-39d735a2d2fb",
   "metadata": {},
   "outputs": [],
   "source": []
  }
 ],
 "metadata": {
  "kernelspec": {
   "display_name": "Python 3 (ipykernel)",
   "language": "python",
   "name": "python3"
  },
  "language_info": {
   "codemirror_mode": {
    "name": "ipython",
    "version": 3
   },
   "file_extension": ".py",
   "mimetype": "text/x-python",
   "name": "python",
   "nbconvert_exporter": "python",
   "pygments_lexer": "ipython3",
   "version": "3.10.5"
  },
  "vscode": {
   "interpreter": {
    "hash": "f4e3c63a28d2eadc36e3bba0725a6dea388233dd4d06cf5319c6ed40df7370ac"
   }
  }
 },
 "nbformat": 4,
 "nbformat_minor": 5
}
